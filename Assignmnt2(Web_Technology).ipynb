{
  "nbformat": 4,
  "nbformat_minor": 0,
  "metadata": {
    "colab": {
      "provenance": [],
      "authorship_tag": "ABX9TyMjKq23sxG5cZ+DkZCqtzGB",
      "include_colab_link": true
    },
    "kernelspec": {
      "name": "python3",
      "display_name": "Python 3"
    },
    "language_info": {
      "name": "python"
    }
  },
  "cells": [
    {
      "cell_type": "markdown",
      "metadata": {
        "id": "view-in-github",
        "colab_type": "text"
      },
      "source": [
        "<a href=\"https://colab.research.google.com/github/MuhammadMohsinAli786/Artificial-Intelligence/blob/main/Assignmnt2(Web_Technology).ipynb\" target=\"_parent\"><img src=\"https://colab.research.google.com/assets/colab-badge.svg\" alt=\"Open In Colab\"/></a>"
      ]
    },
    {
      "cell_type": "markdown",
      "source": [
        "#1.\t**Exercise programs on operators & I/O operations.**\n",
        "\n",
        "##a) Implement python script to read person’s age from keyboard and display whether he is eligible for voting or not.\n",
        "\n"
      ],
      "metadata": {
        "id": "wqqZ2E5w0wGW"
      }
    },
    {
      "cell_type": "code",
      "execution_count": 2,
      "metadata": {
        "colab": {
          "base_uri": "https://localhost:8080/"
        },
        "id": "U6lHmf_nvHyt",
        "outputId": "f97751b8-2f33-42f2-f9a3-f24031eab710"
      },
      "outputs": [
        {
          "output_type": "stream",
          "name": "stdout",
          "text": [
            "Enter your age: 21\n",
            "You are eligible to vote!\n"
          ]
        }
      ],
      "source": [
        "# Read the age from the user\n",
        "age = int(input(\"Enter your age: \"))\n",
        "\n",
        "# Check if the person is eligible to vote\n",
        "if age >= 18:\n",
        "    print(\"You are eligible to vote!\")\n",
        "else:\n",
        "    print(\"You are not eligible to vote.\")\n"
      ]
    },
    {
      "cell_type": "markdown",
      "source": [
        "#**2.\tExercise programs on Lists.**\n",
        "\n",
        "##a)\tFinding the sum and average of given numbers using lists.\n"
      ],
      "metadata": {
        "id": "T4fA-_jq08O7"
      }
    },
    {
      "cell_type": "code",
      "source": [
        "# Input: Enter a list of numbers separated by spaces\n",
        "input_numbers = input(\"Enter a list of numbers separated by spaces: \")\n",
        "\n",
        "# Split the input into a list of numbers\n",
        "numbers = [float(num) for num in input_numbers.split()]\n",
        "\n",
        "# Calculate the sum of the numbers\n",
        "total_sum = sum(numbers)\n",
        "\n",
        "# Calculate the average\n",
        "average = total_sum / len(numbers)\n",
        "\n",
        "# Display the sum and average\n",
        "print(f\"Sum: {total_sum}\")\n",
        "print(f\"Average: {average}\")\n"
      ],
      "metadata": {
        "colab": {
          "base_uri": "https://localhost:8080/"
        },
        "id": "tluHlUtav4yo",
        "outputId": "2a701c47-c21d-4f82-84ae-ba9e7e30ce2c"
      },
      "execution_count": 4,
      "outputs": [
        {
          "output_type": "stream",
          "name": "stdout",
          "text": [
            "Enter a list of numbers separated by spaces: 10 10 10\n",
            "Sum: 30.0\n",
            "Average: 10.0\n"
          ]
        }
      ]
    },
    {
      "cell_type": "markdown",
      "source": [
        "\n",
        "##b)\tTo display elements of list in reverse order."
      ],
      "metadata": {
        "id": "2fowhZMk1XGt"
      }
    },
    {
      "cell_type": "code",
      "source": [
        "# Input: Enter a list of elements separated by spaces\n",
        "input_elements = input(\"Enter a list of elements separated by spaces: \")\n",
        "\n",
        "# Split the input into a list of elements\n",
        "elements = input_elements.split()\n",
        "\n",
        "# Display the elements in reverse order\n",
        "print(\"Elements in reverse order:\")\n",
        "for element in elements[::-1]:\n",
        "    print(element)\n",
        "\n"
      ],
      "metadata": {
        "colab": {
          "base_uri": "https://localhost:8080/"
        },
        "id": "W1zg6WYtwYvB",
        "outputId": "9d8178d6-6aae-4d97-9b51-e5cc380c4f9d"
      },
      "execution_count": 5,
      "outputs": [
        {
          "output_type": "stream",
          "name": "stdout",
          "text": [
            "Enter a list of elements separated by spaces: 1 2 3 4 5 6 7 8\n",
            "Elements in reverse order:\n",
            "8\n",
            "7\n",
            "6\n",
            "5\n",
            "4\n",
            "3\n",
            "2\n",
            "1\n"
          ]
        }
      ]
    },
    {
      "cell_type": "markdown",
      "source": [
        "\n",
        "##c)\tFinding the minimum and maximum elements in the lists."
      ],
      "metadata": {
        "id": "7CG1GT-F1a8z"
      }
    },
    {
      "cell_type": "code",
      "source": [
        "# Input: Enter a list of numbers separated by spaces\n",
        "input_numbers = input(\"Enter a list of numbers separated by spaces: \")\n",
        "\n",
        "# Split the input into a list of numbers\n",
        "numbers = [float(num) for num in input_numbers.split()]\n",
        "\n",
        "# Find the minimum and maximum elements\n",
        "minimum = min(numbers)\n",
        "maximum = max(numbers)\n",
        "\n",
        "# Display the minimum and maximum elements\n",
        "print(f\"Minimum: {minimum}\")\n",
        "print(f\"Maximum: {maximum}\")\n"
      ],
      "metadata": {
        "colab": {
          "base_uri": "https://localhost:8080/"
        },
        "id": "vO5WQa3HwuHi",
        "outputId": "dd258484-47cf-417a-aadb-350006f80a2c"
      },
      "execution_count": 6,
      "outputs": [
        {
          "output_type": "stream",
          "name": "stdout",
          "text": [
            "Enter a list of numbers separated by spaces: 1 2 3 11 111 555 6 \n",
            "Minimum: 1.0\n",
            "Maximum: 555.0\n"
          ]
        }
      ]
    },
    {
      "cell_type": "markdown",
      "source": [
        "#3.\tExercise programs on Strings. **\n",
        "##a)\tImplement Python Script to check given string is palindrome or not.\n",
        "\n"
      ],
      "metadata": {
        "id": "CrlVgMJs1g_w"
      }
    },
    {
      "cell_type": "code",
      "source": [
        "# Input: Enter a string\n",
        "input_string = input(\"Enter a string: \")\n",
        "\n",
        "# Remove spaces and convert the string to lowercase\n",
        "cleaned_string = input_string.replace(\" \", \"\").lower()\n",
        "\n",
        "# Check if the cleaned string is equal to its reverse\n",
        "if cleaned_string == cleaned_string[::-1]:\n",
        "    print(\"The string is a palindrome.\")\n",
        "else:\n",
        "    print(\"The string is not a palindrome.\")\n"
      ],
      "metadata": {
        "colab": {
          "base_uri": "https://localhost:8080/"
        },
        "id": "ikFzqW_qxDRh",
        "outputId": "57e4be95-08be-4e10-8230-1bd8c5b6e6b3"
      },
      "execution_count": 7,
      "outputs": [
        {
          "output_type": "stream",
          "name": "stdout",
          "text": [
            "Enter a string: 787\n",
            "The string is a palindrome.\n"
          ]
        }
      ]
    },
    {
      "cell_type": "markdown",
      "source": [
        "##b)\tImplement python script to accept line of text and find the number of characters, number of vowels and number of blank spaces in it."
      ],
      "metadata": {
        "id": "l0RdVyOK2PG2"
      }
    },
    {
      "cell_type": "code",
      "source": [
        "# Input: Enter a line of text\n",
        "text = input(\"Enter a line of text: \")\n",
        "\n",
        "# Initialize counters\n",
        "char_count = 0\n",
        "vowel_count = 0\n",
        "space_count = 0\n",
        "\n",
        "# Define a set of vowels to check against\n",
        "vowels = set(\"AEIOUaeiou\")\n",
        "\n",
        "# Iterate through the characters in the input text\n",
        "for char in text:\n",
        "    char_count += 1\n",
        "    if char in vowels:\n",
        "        vowel_count += 1\n",
        "    if char.isspace():\n",
        "        space_count += 1\n",
        "\n",
        "# Display the results\n",
        "print(f\"Number of characters: {char_count}\")\n",
        "print(f\"Number of vowels: {vowel_count}\")\n",
        "print(f\"Number of blank spaces: {space_count}\")\n"
      ],
      "metadata": {
        "colab": {
          "base_uri": "https://localhost:8080/"
        },
        "id": "dRyteVCbxaIL",
        "outputId": "265248b5-dbd4-4478-c15c-1b4bfed9773b"
      },
      "execution_count": 8,
      "outputs": [
        {
          "output_type": "stream",
          "name": "stdout",
          "text": [
            "Enter a line of text: a b c 33 iou bbb678 8383 hdhg\n",
            "Number of characters: 29\n",
            "Number of vowels: 4\n",
            "Number of blank spaces: 7\n"
          ]
        }
      ]
    },
    {
      "cell_type": "markdown",
      "source": [
        "#4.\tExercise programs on functions.\n",
        "##a)\tDefine a function max_of_three() that takes three numbers as arguments and returns the largest of them.\n",
        "\n"
      ],
      "metadata": {
        "id": "iOewJZt32bGY"
      }
    },
    {
      "cell_type": "code",
      "source": [
        "def max_of_three(num1, num2, num3):\n",
        "    # Use the built-in max() function to find the largest number\n",
        "    largest = max(num1, num2, num3)\n",
        "    return largest\n",
        "\n",
        "# Example usage:\n",
        "num1 = 10\n",
        "num2 = 25\n",
        "num3 = 15\n",
        "result = max_of_three(num1, num2, num3)\n",
        "print(f\"The largest number among {num1}, {num2}, and {num3} is {result}\")\n"
      ],
      "metadata": {
        "colab": {
          "base_uri": "https://localhost:8080/"
        },
        "id": "osDqqII8x2my",
        "outputId": "61e93a5c-9946-4c4d-a1ac-7ccaafc591d1"
      },
      "execution_count": 9,
      "outputs": [
        {
          "output_type": "stream",
          "name": "stdout",
          "text": [
            "The largest number among 10, 25, and 15 is 25\n"
          ]
        }
      ]
    },
    {
      "cell_type": "markdown",
      "source": [
        "##b)\tWrite a program which makes use of function to display all such numbers which are divisible by 7 but are not a multiple of 5, between 1000 and 2000."
      ],
      "metadata": {
        "id": "fRpsD4yo2kEZ"
      }
    },
    {
      "cell_type": "code",
      "source": [
        "def display_numbers_divisible_by_7_not_multiple_of_5(start, end):\n",
        "    for number in range(start, end + 1):\n",
        "        if number % 7 == 0 and number % 5 != 0:\n",
        "            print(number)\n",
        "\n",
        "# Set the range and call the function\n",
        "start_range = 1000\n",
        "end_range = 2000\n",
        "\n",
        "print(f\"Numbers between {start_range} and {end_range} that are divisible by 7 but not multiples of 5:\")\n",
        "display_numbers_divisible_by_7_not_multiple_of_5(start_range, end_range)\n"
      ],
      "metadata": {
        "colab": {
          "base_uri": "https://localhost:8080/"
        },
        "id": "o6gOobe7ySn0",
        "outputId": "ed805d3f-f68b-46c1-936a-1ca54405f087"
      },
      "execution_count": 10,
      "outputs": [
        {
          "output_type": "stream",
          "name": "stdout",
          "text": [
            "Numbers between 1000 and 2000 that are divisible by 7 but not multiples of 5:\n",
            "1001\n",
            "1008\n",
            "1022\n",
            "1029\n",
            "1036\n",
            "1043\n",
            "1057\n",
            "1064\n",
            "1071\n",
            "1078\n",
            "1092\n",
            "1099\n",
            "1106\n",
            "1113\n",
            "1127\n",
            "1134\n",
            "1141\n",
            "1148\n",
            "1162\n",
            "1169\n",
            "1176\n",
            "1183\n",
            "1197\n",
            "1204\n",
            "1211\n",
            "1218\n",
            "1232\n",
            "1239\n",
            "1246\n",
            "1253\n",
            "1267\n",
            "1274\n",
            "1281\n",
            "1288\n",
            "1302\n",
            "1309\n",
            "1316\n",
            "1323\n",
            "1337\n",
            "1344\n",
            "1351\n",
            "1358\n",
            "1372\n",
            "1379\n",
            "1386\n",
            "1393\n",
            "1407\n",
            "1414\n",
            "1421\n",
            "1428\n",
            "1442\n",
            "1449\n",
            "1456\n",
            "1463\n",
            "1477\n",
            "1484\n",
            "1491\n",
            "1498\n",
            "1512\n",
            "1519\n",
            "1526\n",
            "1533\n",
            "1547\n",
            "1554\n",
            "1561\n",
            "1568\n",
            "1582\n",
            "1589\n",
            "1596\n",
            "1603\n",
            "1617\n",
            "1624\n",
            "1631\n",
            "1638\n",
            "1652\n",
            "1659\n",
            "1666\n",
            "1673\n",
            "1687\n",
            "1694\n",
            "1701\n",
            "1708\n",
            "1722\n",
            "1729\n",
            "1736\n",
            "1743\n",
            "1757\n",
            "1764\n",
            "1771\n",
            "1778\n",
            "1792\n",
            "1799\n",
            "1806\n",
            "1813\n",
            "1827\n",
            "1834\n",
            "1841\n",
            "1848\n",
            "1862\n",
            "1869\n",
            "1876\n",
            "1883\n",
            "1897\n",
            "1904\n",
            "1911\n",
            "1918\n",
            "1932\n",
            "1939\n",
            "1946\n",
            "1953\n",
            "1967\n",
            "1974\n",
            "1981\n",
            "1988\n"
          ]
        }
      ]
    },
    {
      "cell_type": "markdown",
      "source": [
        "#5.\tExercise programs on Tuples.\n",
        "##a)\tWrite a program which accepts a sequence of comma-separated numbers from console and generate a list and a tuple which contains every number. Suppose the following input is supplied to the program: 34, 67, 55, 33, 12, 98. Then, the output should be: ['34', '67', '55', '33', '12', '98'] ('34',67', '55', '33', '12', '98').\n",
        "\n"
      ],
      "metadata": {
        "id": "_eV1LZZN2tTM"
      }
    },
    {
      "cell_type": "code",
      "source": [
        "# Input: Enter a sequence of comma-separated numbers\n",
        "input_numbers = input(\"Enter a sequence of comma-separated numbers: \")\n",
        "\n",
        "# Split the input into a list of numbers\n",
        "number_list = input_numbers.split(', ')\n",
        "\n",
        "# Convert the list to a tuple\n",
        "number_tuple = tuple(number_list)\n",
        "\n",
        "# Print the list and tuple\n",
        "print(\"List:\", number_list)\n",
        "print(\"Tuple:\", number_tuple)\n"
      ],
      "metadata": {
        "colab": {
          "base_uri": "https://localhost:8080/"
        },
        "id": "l99X_hvpyqiv",
        "outputId": "3e9f8d0d-bd93-4d4b-ebf9-0a2f07857365"
      },
      "execution_count": 11,
      "outputs": [
        {
          "output_type": "stream",
          "name": "stdout",
          "text": [
            "Enter a sequence of comma-separated numbers: 2,4,5,6,7,8,9,,10,11,12,13\n",
            "List: ['2,4,5,6,7,8,9,,10,11,12,13']\n",
            "Tuple: ('2,4,5,6,7,8,9,,10,11,12,13',)\n"
          ]
        }
      ]
    },
    {
      "cell_type": "markdown",
      "source": [
        "##b)\tWith a given tuple (1, 2, 3, 4, 5, 6, 7, 8, 9, 10), write a program to print the first half values in one line and the last half values in one line."
      ],
      "metadata": {
        "id": "nnEmt7Sh2z7O"
      }
    },
    {
      "cell_type": "code",
      "source": [
        "# Given tuple\n",
        "given_tuple = (1, 2, 3, 4, 5, 6, 7, 8, 9, 10)\n",
        "\n",
        "# Calculate the midpoint of the tuple\n",
        "midpoint = len(given_tuple) // 2\n",
        "\n",
        "# Print the first half\n",
        "print(\"First half:\", given_tuple[:midpoint])\n",
        "\n",
        "# Print the last half\n",
        "print(\"Last half:\", given_tuple[midpoint:])\n"
      ],
      "metadata": {
        "colab": {
          "base_uri": "https://localhost:8080/"
        },
        "id": "wY6jnsMkzH1L",
        "outputId": "b5a6f660-ee32-44a9-8a6e-e52e367fb6d8"
      },
      "execution_count": 12,
      "outputs": [
        {
          "output_type": "stream",
          "name": "stdout",
          "text": [
            "First half: (1, 2, 3, 4, 5)\n",
            "Last half: (6, 7, 8, 9, 10)\n"
          ]
        }
      ]
    }
  ]
}