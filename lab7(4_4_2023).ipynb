{
  "nbformat": 4,
  "nbformat_minor": 0,
  "metadata": {
    "colab": {
      "provenance": []
    },
    "kernelspec": {
      "name": "python3",
      "display_name": "Python 3"
    },
    "language_info": {
      "name": "python"
    }
  },
  "cells": [
    {
      "cell_type": "markdown",
      "source": [
        "FA20-BSE-072\n",
        "Muhammad Mohsin Ali\n"
      ],
      "metadata": {
        "id": "CUPoEprZO_Mj"
      }
    },
    {
      "cell_type": "code",
      "execution_count": 10,
      "metadata": {
        "colab": {
          "base_uri": "https://localhost:8080/"
        },
        "id": "xKUaagheHmLf",
        "outputId": "4a773dbf-a586-47d4-c3af-e0001433d3cc"
      },
      "outputs": [
        {
          "output_type": "stream",
          "name": "stdout",
          "text": [
            "Following is the Breadth-First Search\n",
            "5 3 7 2 4 8 "
          ]
        }
      ],
      "source": [
        "graph = {'5' : ['3','7'],'3' : ['2', '4'],'7' : ['8'],'2' : [],'4' : ['8'],'8' : []}\n",
        "\n",
        "visited = [] # List for visited nodes.\n",
        "\n",
        "queue = []     #Initialize a queue\n",
        "\n",
        "def bfs(visited, graph, node): #function for BFS\n",
        "\n",
        "  visited.append(node) \n",
        "  queue.append(node)\n",
        "\n",
        "  while queue:\n",
        "\n",
        "    m = queue.pop(0)\n",
        "\n",
        "    print (m, end = \" \")\n",
        "\n",
        "    for neighbour in graph[m]:\n",
        "\n",
        "      if neighbour not in visited: \n",
        "            visited.append(neighbour) \n",
        "            queue.append(neighbour)\n",
        "\n",
        "# Driver Code\n",
        "\n",
        "print(\"Following is the Breadth-First Search\")\n",
        "bfs(visited, graph, '5')    # function calling\n",
        "\n"
      ]
    },
    {
      "cell_type": "code",
      "source": [
        "graph = {'A' : ['B','E','C'],'B' : ['D', 'A','E'],'E' : ['B','D','A'],'C' : ['A','F','G'],'D' : ['B','E'],'F' : ['C'],'G' : ['C']}\n",
        "\n",
        "visited = [] # List for visited nodes.\n",
        "\n",
        "queue = []     #Initialize a queue\n",
        "\n",
        "def bfs(visited, graph, node): #function for BFS\n",
        "\n",
        "  visited.append(node) \n",
        "  queue.append(node)\n",
        "\n",
        "  while queue:\n",
        "\n",
        "    m = queue.pop(0)\n",
        "\n",
        "    print (m, end = \" \")\n",
        "\n",
        "    for neighbour in graph[m]:\n",
        "\n",
        "      if neighbour not in visited: \n",
        "            visited.append(neighbour) \n",
        "            queue.append(neighbour)\n",
        "\n",
        "# Driver Code\n",
        "\n",
        "print(\"Following is the Breadth-First Search\")\n",
        "bfs(visited, graph, 'A')    # function calling\n",
        "\n"
      ],
      "metadata": {
        "colab": {
          "base_uri": "https://localhost:8080/"
        },
        "id": "CZg8IJyIL-8g",
        "outputId": "3617d8f1-79d7-40b4-d9cd-06e95a7b8daf"
      },
      "execution_count": 11,
      "outputs": [
        {
          "output_type": "stream",
          "name": "stdout",
          "text": [
            "Following is the Breadth-First Search\n",
            "A B E C D F G "
          ]
        }
      ]
    }
  ]
}