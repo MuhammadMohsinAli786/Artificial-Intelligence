{
  "nbformat": 4,
  "nbformat_minor": 0,
  "metadata": {
    "colab": {
      "provenance": []
    },
    "kernelspec": {
      "name": "python3",
      "display_name": "Python 3"
    },
    "language_info": {
      "name": "python"
    }
  },
  "cells": [
    {
      "cell_type": "code",
      "execution_count": 31,
      "metadata": {
        "id": "HgVDZOKyoabZ"
      },
      "outputs": [],
      "source": [
        "class Node:\n",
        "  def __init__(self,state,parent,actions,totalCost):\n",
        "    self.state = state\n",
        "    self.parent = parent\n",
        "    self.actions = actions\n",
        "    self.totalCost = totalCost\n",
        "\n",
        "graph = {\n",
        "    'A': Node('A',None,['B','C','E'],None),\n",
        "    'B':Node('B',None,['A','D','E'],None),\n",
        "    'C':Node('C',None,['A','F','G'],None),\n",
        "    'D':Node('D',None,['B','E'],None),\n",
        "    'E':Node('E',None,['A','B','D'],None),\n",
        "    'F':Node('F',None,['C'],None),\n",
        "    'G':Node('G',None,['C'],None),\n",
        "}\n"
      ]
    },
    {
      "cell_type": "code",
      "source": [
        "graph = {'A': Node ('A', None, ['B', 'E', 'C'], None),\n",
        "  'B': Node ('B', None, ['D', 'E', 'A'], None),\n",
        "  'C': Node ('C', None, ['A', 'F', 'G'], None),\n",
        "  'D': Node ('D', None, ['B', 'E'], None),\n",
        "  'E': Node ('E', None, ['A', 'B', 'D'], None),\n",
        "  'F': Node ('F', None, ['C'], None),\n",
        "  'G': Node ('G', None, ['C'], None)}\n",
        "\n",
        "def actionSequence (graph, initialState, goalState) :\n",
        "  solution=[goalState]\n",
        "  currentParent=graph [goalState].parent\n",
        "  while currentParent!=None:\n",
        "    solution.append (currentParent)\n",
        "    currentParent = graph [currentParent].parent\n",
        "  solution.reverse()\n",
        "  return solution\n",
        "\n",
        "def DFS ():\n",
        "  initialState = 'A'\n",
        "  goalState = 'D'\n",
        "  frontier = [initialState]\n",
        "  explored = []\n",
        "\n",
        "  while len(frontier)!=0:\n",
        "    currentNode = frontier.pop(len(frontier)-1)\n",
        "    explored.append(currentNode)\n",
        "    for child in graph[currentNode].actions:\n",
        "      if child not in frontier and child not in explored:\n",
        "        graph[child].parent = currentNode\n",
        "        if graph[child].state == goalState:\n",
        "          return actionSequence (graph, initialState, goalState)\n",
        "        frontier.append(child)\n",
        "solution = DFS()\n",
        "print (solution)"
      ],
      "metadata": {
        "colab": {
          "base_uri": "https://localhost:8080/"
        },
        "id": "ByhuaFQN1Fa-",
        "outputId": "a3b95ceb-8b4a-4983-d502-904ba913a0bf"
      },
      "execution_count": 28,
      "outputs": [
        {
          "output_type": "stream",
          "name": "stdout",
          "text": [
            "['A', 'E', 'D']\n"
          ]
        }
      ]
    },
    {
      "cell_type": "code",
      "source": [
        "graph = {'A': Node ('A', None, ['B', 'E', 'C'], None),\n",
        "  'B': Node ('B', None, ['D', 'E', 'A'], None),\n",
        "  'C': Node ('C', None, ['A', 'F', 'G'], None),\n",
        "  'D': Node ('D', None, ['B', 'E'], None),\n",
        "  'E': Node ('E', None, ['A', 'B', 'D'], None),\n",
        "  'F': Node ('F', None, ['C'], None),\n",
        "  'G': Node ('G', None, ['C'], None)}\n",
        "\n",
        "def actionSequence (graph, initialState, goalState) :\n",
        "  solution=[goalState]\n",
        "  currentParent=graph [goalState].parent\n",
        "  while currentParent!=None:\n",
        "    solution.append (currentParent)\n",
        "    currentParent = graph [currentParent].parent\n",
        "  solution.reverse()\n",
        "  return solution\n",
        "\n",
        "def DFS ():\n",
        "  initialState = 'D'\n",
        "  goalState = 'C'\n",
        "  frontier = [initialState]\n",
        "  explored = []\n",
        "\n",
        "  while len(frontier)!=0:\n",
        "    currentNode = frontier.pop(len(frontier)-1)\n",
        "    explored.append(currentNode)\n",
        "    for child in graph[currentNode].actions:\n",
        "      if child not in frontier and child not in explored:\n",
        "        graph[child].parent = currentNode\n",
        "        if graph[child].state == goalState:\n",
        "          return actionSequence (graph, initialState, goalState)\n",
        "        frontier.append(child)\n",
        "solution = DFS()\n",
        "print (solution)"
      ],
      "metadata": {
        "colab": {
          "base_uri": "https://localhost:8080/"
        },
        "id": "6yXWvMRy93L0",
        "outputId": "77e0e884-f20c-4e8b-8779-b9bc9ba7e92e"
      },
      "execution_count": 39,
      "outputs": [
        {
          "output_type": "stream",
          "name": "stdout",
          "text": [
            "['D', 'E', 'A', 'C']\n"
          ]
        }
      ]
    }
  ]
}