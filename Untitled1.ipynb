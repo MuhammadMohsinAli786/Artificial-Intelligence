{
  "nbformat": 4,
  "nbformat_minor": 0,
  "metadata": {
    "colab": {
      "provenance": []
    },
    "kernelspec": {
      "name": "python3",
      "display_name": "Python 3"
    },
    "language_info": {
      "name": "python"
    }
  },
  "cells": [
    {
      "cell_type": "code",
      "execution_count": 1,
      "metadata": {
        "colab": {
          "base_uri": "https://localhost:8080/"
        },
        "id": "c0IbLOQkIBRO",
        "outputId": "86830290-9333-4fe3-e723-a485591b01a8"
      },
      "outputs": [
        {
          "output_type": "stream",
          "name": "stdout",
          "text": [
            "{1, 2, 3, 6, 7, 8, 9}\n"
          ]
        }
      ],
      "source": [
        "def symmdiff(a,b):\n",
        "  e=set()\n",
        "  for i in a:\n",
        "    if i not in b:\n",
        "      e.add(i)\n",
        "  for i in b:\n",
        "    if i not in a:\n",
        "      e.add(i)\n",
        "  return e\n",
        "set1=(1,2,3,4,5)\n",
        "set2=(4,5,6,7,8,9)\n",
        "print(symmdiff(set1,set2))"
      ]
    },
    {
      "cell_type": "code",
      "source": [
        "set1={1,2,3,4,5}\n",
        "set2={4,5,6,7,8,9}\n",
        "print(set1^set2)"
      ],
      "metadata": {
        "colab": {
          "base_uri": "https://localhost:8080/"
        },
        "id": "jKGwPEBrJHgP",
        "outputId": "a6888c6d-30fa-4000-883e-c94cb91a09f4"
      },
      "execution_count": 3,
      "outputs": [
        {
          "output_type": "stream",
          "name": "stdout",
          "text": [
            "{1, 2, 3, 6, 7, 8, 9}\n"
          ]
        }
      ]
    },
    {
      "cell_type": "code",
      "source": [
        "My_dictinary={\n",
        "    (\"MUhammad Mohsin\",\"Ali\"):(\"03130646071\",\"Dahranwala\",\"BSSE\"),(\"MUhammad Husnain\",\"Ali\"):(\"03130645671\",\"Dahranwala\",\"BSSE\"),\n",
        "    (\"MUhammad Adil\",\"Ali\"):(\"03133456071\",\"Dahranwala\",\"BSSE\"),(\"MUhammad Usman\",\"Ali\"):(\"03130789071\",\"Dahranwala\",\"BSSE\")\n",
        "}\n",
        "fName=input(\"Enter 1st Name : \")\n",
        "LName=input(\"Enter last Name : \")\n",
        "Stuple=(fName,LName)\n",
        "if Stuple in My_dictinary:\n",
        "  print(My_dictinary[Stuple])\n",
        "else:\n",
        "  print(\"Name Not Found\")"
      ],
      "metadata": {
        "colab": {
          "base_uri": "https://localhost:8080/"
        },
        "id": "pWc0mdyzOCwQ",
        "outputId": "d670d11f-2edb-463a-a7fa-fa21befaa3ee"
      },
      "execution_count": 8,
      "outputs": [
        {
          "output_type": "stream",
          "name": "stdout",
          "text": [
            "Enter 1st Name : MUhammad Mohsin\n",
            "Enter last Name : Ali\n",
            "('03130646071', 'Dahranwala', 'BSSE')\n"
          ]
        }
      ]
    }
  ]
}