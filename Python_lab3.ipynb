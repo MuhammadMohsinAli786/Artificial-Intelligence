{
  "nbformat": 4,
  "nbformat_minor": 0,
  "metadata": {
    "colab": {
      "provenance": []
    },
    "kernelspec": {
      "name": "python3",
      "display_name": "Python 3"
    },
    "language_info": {
      "name": "python"
    }
  },
  "cells": [
    {
      "cell_type": "markdown",
      "source": [
        "Lab Task 3  \n",
        "Muhammad Mohsin Ali\n",
        "(FA20-BSE-072)"
      ],
      "metadata": {
        "id": "hTR44QJXvu-b"
      }
    },
    {
      "cell_type": "code",
      "execution_count": 1,
      "metadata": {
        "colab": {
          "base_uri": "https://localhost:8080/"
        },
        "id": "BGmMjDQrcDaY",
        "outputId": "28c8a8f8-bddd-4dda-fd60-26b4e42b23ae"
      },
      "outputs": [
        {
          "output_type": "stream",
          "name": "stdout",
          "text": [
            "Hello World!\n",
            "7\n"
          ]
        }
      ],
      "source": [
        "print('Hello World!')\n",
        "a=7\n",
        "print(a)"
      ]
    },
    {
      "cell_type": "code",
      "source": [
        "print(2345)"
      ],
      "metadata": {
        "colab": {
          "base_uri": "https://localhost:8080/"
        },
        "id": "AaTK80yxei-N",
        "outputId": "fabb17f0-37fe-473c-b22c-df0e4a4ff8df"
      },
      "execution_count": 2,
      "outputs": [
        {
          "output_type": "stream",
          "name": "stdout",
          "text": [
            "2345\n"
          ]
        }
      ]
    },
    {
      "cell_type": "code",
      "source": [
        "print(\"2092\")"
      ],
      "metadata": {
        "colab": {
          "base_uri": "https://localhost:8080/"
        },
        "id": "_fQfBE-_evyp",
        "outputId": "c9f7a687-a759-4b87-d117-59b807562f0d"
      },
      "execution_count": 3,
      "outputs": [
        {
          "output_type": "stream",
          "name": "stdout",
          "text": [
            "2092\n"
          ]
        }
      ]
    },
    {
      "cell_type": "code",
      "source": [
        "a = 100\n",
        "#print(a)\n",
        "b = \"Python\"\n",
        "print(b)"
      ],
      "metadata": {
        "colab": {
          "base_uri": "https://localhost:8080/"
        },
        "id": "ip4ZZZMQe02n",
        "outputId": "7fc7e322-66a1-481d-998c-3ae4dbb969ec"
      },
      "execution_count": 4,
      "outputs": [
        {
          "output_type": "stream",
          "name": "stdout",
          "text": [
            "Python\n"
          ]
        }
      ]
    },
    {
      "cell_type": "code",
      "source": [
        "print(\"Let's learn about comments.\")\n",
        "# print(it is a single line comment)\n",
        "print(\"Icode\")"
      ],
      "metadata": {
        "colab": {
          "base_uri": "https://localhost:8080/"
        },
        "id": "t-6FqGcbe_56",
        "outputId": "2172ecbe-8edd-47d2-a578-29f1964d27f2"
      },
      "execution_count": 5,
      "outputs": [
        {
          "output_type": "stream",
          "name": "stdout",
          "text": [
            "Let's learn about comments.\n",
            "Icode\n"
          ]
        }
      ]
    },
    {
      "cell_type": "code",
      "source": [
        "print(\"\"\"Multi-line String\"\"\")\n",
        "'''for multi-line comment, you can use # with every line or\n",
        "simply use triple inverted commas(multi-line string).\n",
        "ar\n",
        "sar\n",
        "ahghjj \n",
        "'''\n",
        "#single line\n",
        "\n",
        "print(\"My name is ayesha. I'm a student at university.I'm a good student.\")"
      ],
      "metadata": {
        "colab": {
          "base_uri": "https://localhost:8080/"
        },
        "id": "AbWpNgCDfL-k",
        "outputId": "070ab829-29e2-4388-c73a-9a8814ecd119"
      },
      "execution_count": 6,
      "outputs": [
        {
          "output_type": "stream",
          "name": "stdout",
          "text": [
            "Multi-line String\n",
            "My name is ayesha. I'm a student at university.I'm a good student.\n"
          ]
        }
      ]
    },
    {
      "cell_type": "code",
      "source": [
        "a = \"a variable\"\n",
        "#is = \"won't allow a variable\"\n",
        "print(a)\n",
        "#print(is)"
      ],
      "metadata": {
        "colab": {
          "base_uri": "https://localhost:8080/"
        },
        "id": "zBJqXbVjfWeB",
        "outputId": "2a74edb9-8d6d-492f-b3eb-56d125b08629"
      },
      "execution_count": 8,
      "outputs": [
        {
          "output_type": "stream",
          "name": "stdout",
          "text": [
            "a variable\n"
          ]
        }
      ]
    },
    {
      "cell_type": "code",
      "source": [
        "x = 5 \n",
        "y = 10.3\n",
        "print('x')\n",
        "print(y)\n",
        "print(x,y)"
      ],
      "metadata": {
        "colab": {
          "base_uri": "https://localhost:8080/"
        },
        "id": "y8Os6uDWfx5W",
        "outputId": "0e7702cf-9475-43c8-bac2-14fdf60f6548"
      },
      "execution_count": 9,
      "outputs": [
        {
          "output_type": "stream",
          "name": "stdout",
          "text": [
            "x\n",
            "10.3\n",
            "5 10.3\n"
          ]
        }
      ]
    },
    {
      "cell_type": "code",
      "source": [
        "a = \"Icode\"\n",
        "b = 'Guru,'\n",
        "print(a,b)\n",
        "print(a,',',b)"
      ],
      "metadata": {
        "colab": {
          "base_uri": "https://localhost:8080/"
        },
        "id": "2qK1iqkIf9NW",
        "outputId": "6ec0bac7-5d25-4cae-f393-0fecbfac8c58"
      },
      "execution_count": 10,
      "outputs": [
        {
          "output_type": "stream",
          "name": "stdout",
          "text": [
            "Icode Guru,\n",
            "Icode , Guru,\n"
          ]
        }
      ]
    },
    {
      "cell_type": "code",
      "source": [
        "a = 10\n",
        "a = 5\n",
        "print(a)"
      ],
      "metadata": {
        "colab": {
          "base_uri": "https://localhost:8080/"
        },
        "id": "Fu8BpliJgFKV",
        "outputId": "21e03c8c-3c64-4efc-b1f7-510a23a00980"
      },
      "execution_count": 11,
      "outputs": [
        {
          "output_type": "stream",
          "name": "stdout",
          "text": [
            "5\n"
          ]
        }
      ]
    },
    {
      "cell_type": "code",
      "source": [
        "x, y, z = \"Orange\", 5, \"Apple\"\n",
        "print(x)\n",
        "print(y)\n",
        "print(z)\n",
        "a , b = 5 , 8\n",
        "print(a)\n",
        "print(b)"
      ],
      "metadata": {
        "colab": {
          "base_uri": "https://localhost:8080/"
        },
        "id": "X5vNcBL_gO7R",
        "outputId": "e0fd1071-8dc8-4b29-9f56-d209aae8ee0a"
      },
      "execution_count": 12,
      "outputs": [
        {
          "output_type": "stream",
          "name": "stdout",
          "text": [
            "Orange\n",
            "5\n",
            "Apple\n",
            "5\n",
            "8\n"
          ]
        }
      ]
    },
    {
      "cell_type": "code",
      "source": [
        "x = y = z = \"Orange\"\n",
        "print(x)\n",
        "print(y)\n",
        "print(z)\n",
        "a = b = c = 1\n",
        "print(a)\n",
        "print(b)\n",
        "print(c)"
      ],
      "metadata": {
        "colab": {
          "base_uri": "https://localhost:8080/"
        },
        "id": "mlv2XRrQg2Ec",
        "outputId": "3965ac40-c66f-4c80-8ad2-74fa89f46fb7"
      },
      "execution_count": 13,
      "outputs": [
        {
          "output_type": "stream",
          "name": "stdout",
          "text": [
            "Orange\n",
            "Orange\n",
            "Orange\n",
            "1\n",
            "1\n",
            "1\n"
          ]
        }
      ]
    },
    {
      "cell_type": "code",
      "source": [
        "x , y, z , a = 5 , 6, 7  , 8\n",
        "print(x)\n",
        "print(y)\n",
        "print(z)"
      ],
      "metadata": {
        "colab": {
          "base_uri": "https://localhost:8080/"
        },
        "id": "KnFoGfr5g-ep",
        "outputId": "f07e8c25-0432-48a9-b5c8-156466737589"
      },
      "execution_count": 14,
      "outputs": [
        {
          "output_type": "stream",
          "name": "stdout",
          "text": [
            "5\n",
            "6\n",
            "7\n"
          ]
        }
      ]
    },
    {
      "cell_type": "code",
      "source": [
        "x = 5\n",
        "y = 5\n",
        "x = 10\n",
        "print(x)\n",
        "print(y)\n",
        "print(id(x))\n",
        "print(id(y))"
      ],
      "metadata": {
        "colab": {
          "base_uri": "https://localhost:8080/"
        },
        "id": "wk7vFlFOhG2g",
        "outputId": "4966478a-7285-414c-dbad-3f41cfcb5365"
      },
      "execution_count": 15,
      "outputs": [
        {
          "output_type": "stream",
          "name": "stdout",
          "text": [
            "10\n",
            "5\n",
            "9793376\n",
            "9793216\n"
          ]
        }
      ]
    },
    {
      "cell_type": "code",
      "source": [
        "x = \"Hello\"\n",
        "print(id(x))\n",
        "y = \"Hello1\"\n",
        "print(id(y))"
      ],
      "metadata": {
        "colab": {
          "base_uri": "https://localhost:8080/"
        },
        "id": "kP5iQ8q7hYZE",
        "outputId": "8deb8945-3195-45af-bfbf-95eda93a433f"
      },
      "execution_count": 16,
      "outputs": [
        {
          "output_type": "stream",
          "name": "stdout",
          "text": [
            "139969032483952\n",
            "139969032485488\n"
          ]
        }
      ]
    },
    {
      "cell_type": "code",
      "source": [
        "string_var = \"Programming\"\n",
        "first_var = 20\n",
        "float_var = 18.23\n",
        "bool_var = False\n",
        "\n",
        "print(string_var)\n",
        "print(first_var)\n",
        "print(float_var)\n",
        "print(bool_var)"
      ],
      "metadata": {
        "colab": {
          "base_uri": "https://localhost:8080/"
        },
        "id": "LZlyaJ_lh-6k",
        "outputId": "26280d53-78ba-4c7b-8322-9e08e2bd5878"
      },
      "execution_count": 17,
      "outputs": [
        {
          "output_type": "stream",
          "name": "stdout",
          "text": [
            "Programming\n",
            "20\n",
            "18.23\n",
            "False\n"
          ]
        }
      ]
    },
    {
      "cell_type": "code",
      "source": [
        "Var1 = 5\n",
        "var1 = 1\n",
        "print(var1)\n",
        "print(Var1)\n",
        "var2 = 2.5\n",
        "print(type(var2))\n",
        "var3 = \"\"\"Hello\"\"\"\n",
        "print(type(var3))\n",
        "var4 = True\n",
        "print(type(var4))"
      ],
      "metadata": {
        "colab": {
          "base_uri": "https://localhost:8080/"
        },
        "id": "liekJFiLiGpf",
        "outputId": "df6a3def-4019-4f65-b69e-21cd0c3ee874"
      },
      "execution_count": 18,
      "outputs": [
        {
          "output_type": "stream",
          "name": "stdout",
          "text": [
            "1\n",
            "5\n",
            "<class 'float'>\n",
            "<class 'str'>\n",
            "<class 'bool'>\n"
          ]
        }
      ]
    },
    {
      "cell_type": "code",
      "source": [
        "first = \"105\"\n",
        "print(type(first))\n",
        "first = int(first)\n",
        "print(first)\n",
        "print(type(first))\n",
        "second = 90.8\n",
        "third = str(second)\n",
        "print(third)\n",
        "print(type(third))"
      ],
      "metadata": {
        "colab": {
          "base_uri": "https://localhost:8080/"
        },
        "id": "3RBD9G-liAdw",
        "outputId": "cd90f1f3-ffcb-447e-8c09-4e8512ac38ee"
      },
      "execution_count": 19,
      "outputs": [
        {
          "output_type": "stream",
          "name": "stdout",
          "text": [
            "<class 'str'>\n",
            "105\n",
            "<class 'int'>\n",
            "90.8\n",
            "<class 'str'>\n"
          ]
        }
      ]
    },
    {
      "cell_type": "code",
      "source": [
        "integer = 6\n",
        "boolean = bool(integer)\n",
        "print(boolean)"
      ],
      "metadata": {
        "colab": {
          "base_uri": "https://localhost:8080/"
        },
        "id": "taRejx-oic8t",
        "outputId": "e132b9d2-650c-4ec9-a873-d74d65d0dc76"
      },
      "execution_count": 20,
      "outputs": [
        {
          "output_type": "stream",
          "name": "stdout",
          "text": [
            "True\n"
          ]
        }
      ]
    },
    {
      "cell_type": "code",
      "source": [
        "x = \"Python is\"\n",
        "X = bool(x)\n",
        "print(X)\n",
        "print(type(X))"
      ],
      "metadata": {
        "colab": {
          "base_uri": "https://localhost:8080/"
        },
        "id": "F9My9B5RiuYd",
        "outputId": "fba3ed7f-177c-4d8f-dd06-01e07de09cf4"
      },
      "execution_count": 21,
      "outputs": [
        {
          "output_type": "stream",
          "name": "stdout",
          "text": [
            "True\n",
            "<class 'bool'>\n"
          ]
        }
      ]
    },
    {
      "cell_type": "code",
      "source": [
        "a = int(input(\"Enter username: \"))\n",
        "print(a)\n",
        "print(type(a))\n",
        "print(a+2)"
      ],
      "metadata": {
        "colab": {
          "base_uri": "https://localhost:8080/"
        },
        "id": "Spnl7mlTi6t8",
        "outputId": "8d331ad9-5dd0-4cd0-8988-b36f893a990b"
      },
      "execution_count": 23,
      "outputs": [
        {
          "output_type": "stream",
          "name": "stdout",
          "text": [
            "Enter username: 34\n",
            "34\n",
            "<class 'int'>\n",
            "36\n"
          ]
        }
      ]
    },
    {
      "cell_type": "code",
      "source": [
        "print(8.0+4)"
      ],
      "metadata": {
        "colab": {
          "base_uri": "https://localhost:8080/"
        },
        "id": "gUN3SRxqjNc1",
        "outputId": "d011e1ff-2cc6-4459-eef6-22fd310c7b7b"
      },
      "execution_count": 24,
      "outputs": [
        {
          "output_type": "stream",
          "name": "stdout",
          "text": [
            "12.0\n"
          ]
        }
      ]
    },
    {
      "cell_type": "code",
      "source": [
        "#Addition\n",
        "a = int(input(\"Enter a number \"))\n",
        "b = 4\n",
        "c = a + b\n",
        "print(c)\n",
        "print(type(c))\n",
        "print(3 + 7)"
      ],
      "metadata": {
        "colab": {
          "base_uri": "https://localhost:8080/"
        },
        "id": "bGXrY9fAjdex",
        "outputId": "9340fe02-f46f-4772-b0fc-86e35603ea61"
      },
      "execution_count": 26,
      "outputs": [
        {
          "output_type": "stream",
          "name": "stdout",
          "text": [
            "Enter a number 12\n",
            "16\n",
            "<class 'int'>\n",
            "10\n"
          ]
        }
      ]
    },
    {
      "cell_type": "code",
      "source": [
        "#Subtraction\n",
        "a = 4\n",
        "b = 5.0\n",
        "\n",
        "print(a - b)\n",
        "print(type(a - b))"
      ],
      "metadata": {
        "colab": {
          "base_uri": "https://localhost:8080/"
        },
        "id": "bvu-oFGrjp_3",
        "outputId": "94508b46-1239-4ea5-9f15-ca953742c335"
      },
      "execution_count": 27,
      "outputs": [
        {
          "output_type": "stream",
          "name": "stdout",
          "text": [
            "-1.0\n",
            "<class 'float'>\n"
          ]
        }
      ]
    },
    {
      "cell_type": "code",
      "source": [
        "#Multiplication\n",
        "a = 2.0\n",
        "b = 4\n",
        "print(a*b)\n",
        "print(type(a*b))"
      ],
      "metadata": {
        "colab": {
          "base_uri": "https://localhost:8080/"
        },
        "id": "zRUuLVSCjytC",
        "outputId": "0f050df4-535d-4380-90ef-65f50fb3003b"
      },
      "execution_count": 28,
      "outputs": [
        {
          "output_type": "stream",
          "name": "stdout",
          "text": [
            "8.0\n",
            "<class 'float'>\n"
          ]
        }
      ]
    },
    {
      "cell_type": "code",
      "source": [
        "#Division\n",
        "x = 5\n",
        "y = 5\n",
        "z = x/y   #12/5\n",
        "print(z)\n",
        "print(type(z))\n",
        "var = int(z)\n",
        "print(var, type(var))"
      ],
      "metadata": {
        "colab": {
          "base_uri": "https://localhost:8080/"
        },
        "id": "v9Re1oSZj323",
        "outputId": "bf6fe90b-8724-45e9-fecd-8040a0a7f104"
      },
      "execution_count": 29,
      "outputs": [
        {
          "output_type": "stream",
          "name": "stdout",
          "text": [
            "1.0\n",
            "<class 'float'>\n",
            "1 <class 'int'>\n"
          ]
        }
      ]
    },
    {
      "cell_type": "code",
      "source": [
        "#Floor Division\n",
        "x = 5\n",
        "y = 5\n",
        "z = x//y\n",
        "print(z)\n",
        "print(type(z))"
      ],
      "metadata": {
        "colab": {
          "base_uri": "https://localhost:8080/"
        },
        "id": "pfW5xnGKkALm",
        "outputId": "ab4b8fae-da33-484e-e0ab-892067ab24dc"
      },
      "execution_count": 30,
      "outputs": [
        {
          "output_type": "stream",
          "name": "stdout",
          "text": [
            "1\n",
            "<class 'int'>\n"
          ]
        }
      ]
    },
    {
      "cell_type": "code",
      "source": [
        "print(-3/2)"
      ],
      "metadata": {
        "colab": {
          "base_uri": "https://localhost:8080/"
        },
        "id": "ZYa1mq5wkGiU",
        "outputId": "acbf57f3-624e-48e8-f09d-9d68691e702c"
      },
      "execution_count": 31,
      "outputs": [
        {
          "output_type": "stream",
          "name": "stdout",
          "text": [
            "-1.5\n"
          ]
        }
      ]
    },
    {
      "cell_type": "code",
      "source": [
        "#Exponentiation or Exponential\n",
        "x = 5\n",
        "y = 2   # 5 raised to power 2, 5*5\n",
        "print(x**y)  # 1st value = base, 2nd value = power\n",
        "print(type(x**y))"
      ],
      "metadata": {
        "colab": {
          "base_uri": "https://localhost:8080/"
        },
        "id": "3yJt2fJNlB1U",
        "outputId": "d1f293ac-5433-4c25-ab6e-486bd2f5623d"
      },
      "execution_count": 32,
      "outputs": [
        {
          "output_type": "stream",
          "name": "stdout",
          "text": [
            "25\n",
            "<class 'int'>\n"
          ]
        }
      ]
    },
    {
      "cell_type": "code",
      "source": [],
      "metadata": {
        "id": "7te8oX1xlDx6"
      },
      "execution_count": null,
      "outputs": []
    },
    {
      "cell_type": "code",
      "source": [
        "#Modulus\n",
        "x = 5\n",
        "y = 5\n",
        "print(x%y)\n",
        "print(type(x%y))"
      ],
      "metadata": {
        "colab": {
          "base_uri": "https://localhost:8080/"
        },
        "id": "7XeXzUlKlFoa",
        "outputId": "ce12e0f7-0f2b-4b85-bce1-c78f139c792c"
      },
      "execution_count": 33,
      "outputs": [
        {
          "output_type": "stream",
          "name": "stdout",
          "text": [
            "0\n",
            "<class 'int'>\n"
          ]
        }
      ]
    },
    {
      "cell_type": "code",
      "source": [
        "print(4 * 3 + 2 / 2)\n",
        "# BODMAS"
      ],
      "metadata": {
        "colab": {
          "base_uri": "https://localhost:8080/"
        },
        "id": "NMZVuw0XlNbC",
        "outputId": "c5779d5d-734e-4d40-a20f-a83099bec60d"
      },
      "execution_count": 34,
      "outputs": [
        {
          "output_type": "stream",
          "name": "stdout",
          "text": [
            "13.0\n"
          ]
        }
      ]
    },
    {
      "cell_type": "code",
      "source": [
        "#print('comment')\n",
        "a = \"\"\"mulitiline\n",
        "comment\n",
        "\"\"\n",
        "''\n",
        "lsdfh\"\"\"\n",
        "print(a)"
      ],
      "metadata": {
        "colab": {
          "base_uri": "https://localhost:8080/"
        },
        "id": "k35TXfbvlS5s",
        "outputId": "3f675caf-6027-4be1-eb97-d090030d2b9b"
      },
      "execution_count": 35,
      "outputs": [
        {
          "output_type": "stream",
          "name": "stdout",
          "text": [
            "mulitiline\n",
            "comment\n",
            "\"\"\n",
            "''\n",
            "lsdfh\n"
          ]
        }
      ]
    },
    {
      "cell_type": "code",
      "source": [
        "print(12 + 5 * (4 - 2))"
      ],
      "metadata": {
        "colab": {
          "base_uri": "https://localhost:8080/"
        },
        "id": "CzdNzfPilZ04",
        "outputId": "921e7acd-473e-4dc9-abab-58bbeed72bb8"
      },
      "execution_count": 36,
      "outputs": [
        {
          "output_type": "stream",
          "name": "stdout",
          "text": [
            "22\n"
          ]
        }
      ]
    },
    {
      "cell_type": "code",
      "source": [
        "x = 5\n",
        "#x += 3    # x = x+3\n",
        "#x -= 3      # x = x - 3\n",
        "#x *= x       # x = 5*5\n",
        "#x /= 3        # x = x/3\n",
        "#x %= 3\n",
        "#x //= 3\n",
        "x **= 3       \n",
        "print(x)"
      ],
      "metadata": {
        "colab": {
          "base_uri": "https://localhost:8080/"
        },
        "id": "C5t_P_5wljdt",
        "outputId": "53890175-c818-4b5b-9e55-051e03e71a45"
      },
      "execution_count": 37,
      "outputs": [
        {
          "output_type": "stream",
          "name": "stdout",
          "text": [
            "125\n"
          ]
        }
      ]
    },
    {
      "cell_type": "code",
      "source": [
        "x = 5\n",
        "x **= 5    #x = x**5\n",
        "print(x)"
      ],
      "metadata": {
        "colab": {
          "base_uri": "https://localhost:8080/"
        },
        "id": "3gU9pulNlxHA",
        "outputId": "2855fabc-77c2-4233-ce32-ab805627de31"
      },
      "execution_count": 38,
      "outputs": [
        {
          "output_type": "stream",
          "name": "stdout",
          "text": [
            "3125\n"
          ]
        }
      ]
    },
    {
      "cell_type": "code",
      "source": [
        "a = 7\n",
        "b = 10\n",
        "print(a!=b)\n",
        "print(a==b)\n",
        "print(a<b)"
      ],
      "metadata": {
        "colab": {
          "base_uri": "https://localhost:8080/"
        },
        "id": "EARE88qtl135",
        "outputId": "fe10dc71-9ea9-47cf-e276-c2ae6c7a99fa"
      },
      "execution_count": 39,
      "outputs": [
        {
          "output_type": "stream",
          "name": "stdout",
          "text": [
            "True\n",
            "False\n",
            "True\n"
          ]
        }
      ]
    },
    {
      "cell_type": "code",
      "source": [
        "x = 9\n",
        "print(x < 11 and  x < 10)\n",
        "print(x < 5 or x < 10)\n",
        "#print( (x < 5 not x < 10))\n",
        "print(not x > 10)"
      ],
      "metadata": {
        "colab": {
          "base_uri": "https://localhost:8080/"
        },
        "id": "4GQtu9DNl9Iz",
        "outputId": "ca0b7ad6-fdfe-4489-81cf-714fff3e5a16"
      },
      "execution_count": 43,
      "outputs": [
        {
          "output_type": "stream",
          "name": "stdout",
          "text": [
            "True\n",
            "True\n",
            "True\n"
          ]
        }
      ]
    },
    {
      "cell_type": "code",
      "source": [
        "a = 20\n",
        "b = 70\n",
        "print(a==b or a>b)"
      ],
      "metadata": {
        "colab": {
          "base_uri": "https://localhost:8080/"
        },
        "id": "e3Ja3wVMmnwP",
        "outputId": "9549f0da-e657-4705-a306-59db02390092"
      },
      "execution_count": 44,
      "outputs": [
        {
          "output_type": "stream",
          "name": "stdout",
          "text": [
            "False\n"
          ]
        }
      ]
    },
    {
      "cell_type": "code",
      "source": [
        "var1 = \"Python for Beginners\"\n",
        "print(\"p\" in var1)\n",
        "var2 = [\"orange\", 5, \"3.5\"]\n",
        "print(\"orange\" not in var2)\n",
        "\n",
        "print(\"o\" in \"iCodeGuru\")"
      ],
      "metadata": {
        "colab": {
          "base_uri": "https://localhost:8080/"
        },
        "id": "wESuqiccmt0w",
        "outputId": "e0a7d594-10c4-43d7-e256-129351bdee7a"
      },
      "execution_count": 45,
      "outputs": [
        {
          "output_type": "stream",
          "name": "stdout",
          "text": [
            "False\n",
            "False\n",
            "True\n"
          ]
        }
      ]
    },
    {
      "cell_type": "code",
      "source": [
        "a = 10\n",
        "b = 10\n",
        "\n",
        "print(a is b)\n",
        "print(id(a))\n",
        "print(id(b))"
      ],
      "metadata": {
        "colab": {
          "base_uri": "https://localhost:8080/"
        },
        "id": "NcGUBrL_m-kE",
        "outputId": "953e202c-2ab4-4fa9-d590-820a5f47c367"
      },
      "execution_count": 46,
      "outputs": [
        {
          "output_type": "stream",
          "name": "stdout",
          "text": [
            "True\n",
            "9793376\n",
            "9793376\n"
          ]
        }
      ]
    },
    {
      "cell_type": "code",
      "source": [
        "a = 10\n",
        "b = \"10\"\n",
        "a = 11\n",
        "print(a is b)\n",
        "print(id(a))\n",
        "print(id(b))"
      ],
      "metadata": {
        "colab": {
          "base_uri": "https://localhost:8080/"
        },
        "id": "fdxmpeCGnJzA",
        "outputId": "18decc39-7e0f-4c4e-b285-defeeb00516d"
      },
      "execution_count": 48,
      "outputs": [
        {
          "output_type": "stream",
          "name": "stdout",
          "text": [
            "False\n",
            "9793408\n",
            "139969665902448\n"
          ]
        }
      ]
    },
    {
      "cell_type": "code",
      "source": [
        "message1 = \"\"\"Hello there, I am learning\n",
        "python programming language!\"\"\"\n",
        "print(message1)\n",
        "message2 = '''\n",
        "\n",
        "Now, we are learning about \n",
        "multiline string'''\n",
        "print(message2)"
      ],
      "metadata": {
        "colab": {
          "base_uri": "https://localhost:8080/"
        },
        "id": "h-wrf3svnToz",
        "outputId": "dc7c1df0-50d5-4bc3-a897-ab5da9eb0a0e"
      },
      "execution_count": 49,
      "outputs": [
        {
          "output_type": "stream",
          "name": "stdout",
          "text": [
            "Hello there, I am learning\n",
            "python programming language!\n",
            "\n",
            "\n",
            "Now, we are learning about \n",
            "multiline string\n"
          ]
        }
      ]
    },
    {
      "cell_type": "code",
      "source": [
        "x = \"String\"\n",
        "y = \"Concatenation\"\n",
        "print(x + y)\n",
        "z = x + \" \" + y  #z = StringConcatenation\n",
        "\n",
        "print(z)"
      ],
      "metadata": {
        "colab": {
          "base_uri": "https://localhost:8080/"
        },
        "id": "zklyOUMxnkSH",
        "outputId": "17cd4a86-a5a1-4d8c-8a5c-1f6807b1390a"
      },
      "execution_count": 50,
      "outputs": [
        {
          "output_type": "stream",
          "name": "stdout",
          "text": [
            "StringConcatenation\n",
            "String Concatenation\n"
          ]
        }
      ]
    },
    {
      "cell_type": "code",
      "source": [
        "x = \"Hello\"\n",
        "print(x[4])\n",
        "print(x[0])\n",
        "print(id(x))\n",
        "\n",
        "print(id(x[0]))\n",
        "print(id(x[1]))\n",
        "message = \"\"\"Hello there, I am learning\n",
        "python programming language!\"\"\"\n",
        "print(message[6])"
      ],
      "metadata": {
        "colab": {
          "base_uri": "https://localhost:8080/"
        },
        "id": "k9liYczAnqMI",
        "outputId": "5e81edf5-50c6-4163-b3eb-a3987c7004fb"
      },
      "execution_count": 51,
      "outputs": [
        {
          "output_type": "stream",
          "name": "stdout",
          "text": [
            "o\n",
            "H\n",
            "139969032483952\n",
            "139969670887728\n",
            "139969671331504\n",
            "t\n"
          ]
        }
      ]
    },
    {
      "cell_type": "code",
      "source": [
        "x = \"Enter\"\n",
        "print(id(x))\n",
        "print(id(x[0]))"
      ],
      "metadata": {
        "colab": {
          "base_uri": "https://localhost:8080/"
        },
        "id": "KQLsh8xNnzL4",
        "outputId": "19168212-535e-4e2e-cba4-ecb9363d37b6"
      },
      "execution_count": 52,
      "outputs": [
        {
          "output_type": "stream",
          "name": "stdout",
          "text": [
            "139969653785264\n",
            "139969670887536\n"
          ]
        }
      ]
    },
    {
      "cell_type": "code",
      "source": [
        "x = \"Pakistan \"\n",
        "print(x*5)"
      ],
      "metadata": {
        "colab": {
          "base_uri": "https://localhost:8080/"
        },
        "id": "bF1wcdzgn6R8",
        "outputId": "1d402331-ac9b-436c-a869-a0b4b4bfa019"
      },
      "execution_count": 53,
      "outputs": [
        {
          "output_type": "stream",
          "name": "stdout",
          "text": [
            "Pakistan Pakistan Pakistan Pakistan Pakistan \n"
          ]
        }
      ]
    },
    {
      "cell_type": "code",
      "source": [
        "x = \"Hello\"\n",
        "print(id(x))\n",
        "print(id(x[3]))"
      ],
      "metadata": {
        "colab": {
          "base_uri": "https://localhost:8080/"
        },
        "id": "wRUNOrTgoD9m",
        "outputId": "aec0f6a9-d776-4117-a563-2237095046a4"
      },
      "execution_count": 54,
      "outputs": [
        {
          "output_type": "stream",
          "name": "stdout",
          "text": [
            "139969032483952\n",
            "139969671409328\n"
          ]
        }
      ]
    },
    {
      "cell_type": "code",
      "source": [
        "list1 = [2, 3, 4, 66]     #[66, 3, 4, 2]\n",
        "list1[0] = list1[3]\n",
        "print(list1)"
      ],
      "metadata": {
        "colab": {
          "base_uri": "https://localhost:8080/"
        },
        "id": "gpe42-4OoHI1",
        "outputId": "34164c14-7900-4627-ec48-01ea479b41f3"
      },
      "execution_count": 55,
      "outputs": [
        {
          "output_type": "stream",
          "name": "stdout",
          "text": [
            "[66, 3, 4, 66]\n"
          ]
        }
      ]
    },
    {
      "cell_type": "code",
      "source": [
        "string = \"Python Programming Language\"\n",
        "print(string[2])\n",
        "print(len(string))\n",
        "x = len(string)\n",
        "print(x)"
      ],
      "metadata": {
        "colab": {
          "base_uri": "https://localhost:8080/"
        },
        "id": "PVrrCECroSw7",
        "outputId": "ff900f34-2e16-437a-c3cc-8f0cc2bffb5b"
      },
      "execution_count": 56,
      "outputs": [
        {
          "output_type": "stream",
          "name": "stdout",
          "text": [
            "t\n",
            "27\n",
            "27\n"
          ]
        }
      ]
    },
    {
      "cell_type": "code",
      "source": [
        "string = \"Python Programming\"\n",
        "#print(string.index(\"Po\"))\n",
        "index = string.index(\"y\")\n",
        "print(index)"
      ],
      "metadata": {
        "colab": {
          "base_uri": "https://localhost:8080/"
        },
        "id": "ckBsP37-obma",
        "outputId": "5d7872f4-ddfd-460c-8e33-15ea5bd75970"
      },
      "execution_count": 58,
      "outputs": [
        {
          "output_type": "stream",
          "name": "stdout",
          "text": [
            "1\n"
          ]
        }
      ]
    },
    {
      "cell_type": "code",
      "source": [
        "for iterator in \"hello+\":\n",
        "  print(iterator)\n",
        "for x in \"Python\":\n",
        "   print(\"1\")"
      ],
      "metadata": {
        "colab": {
          "base_uri": "https://localhost:8080/"
        },
        "id": "cDabIYVdolPl",
        "outputId": "c2bbf971-b0cf-4763-ddef-f325b4bea04e"
      },
      "execution_count": 59,
      "outputs": [
        {
          "output_type": "stream",
          "name": "stdout",
          "text": [
            "h\n",
            "e\n",
            "l\n",
            "l\n",
            "o\n",
            "+\n",
            "1\n",
            "1\n",
            "1\n",
            "1\n",
            "1\n",
            "1\n"
          ]
        }
      ]
    },
    {
      "cell_type": "code",
      "source": [
        "x = \"Hello\"\n",
        "print(x[:])\n",
        "print(x[2::2])"
      ],
      "metadata": {
        "colab": {
          "base_uri": "https://localhost:8080/"
        },
        "id": "chMAOf6cpgr_",
        "outputId": "267b1795-a7dc-4966-d9ba-699b64e94ca8"
      },
      "execution_count": 60,
      "outputs": [
        {
          "output_type": "stream",
          "name": "stdout",
          "text": [
            "Hello\n",
            "lo\n"
          ]
        }
      ]
    },
    {
      "cell_type": "code",
      "source": [
        "x = \"Hello World\"\n",
        "print(x[::-1])"
      ],
      "metadata": {
        "colab": {
          "base_uri": "https://localhost:8080/"
        },
        "id": "N_SrcJnEpqde",
        "outputId": "a518ebd6-0aa8-47c0-badd-46056526047b"
      },
      "execution_count": 61,
      "outputs": [
        {
          "output_type": "stream",
          "name": "stdout",
          "text": [
            "dlroW olleH\n"
          ]
        }
      ]
    },
    {
      "cell_type": "code",
      "source": [
        "string = \"We are learning about string slicing.\"\n",
        "print(len(string))\n",
        "print(string.index(\" \"))\n",
        "print(string[2])\n",
        "print(string[4])\n",
        "print(string[3:9:2])\n",
        "print(string[:36:3])\n",
        "print(string[7::])"
      ],
      "metadata": {
        "colab": {
          "base_uri": "https://localhost:8080/"
        },
        "id": "KWUxFIiEpwwq",
        "outputId": "3eb3c16a-4809-4bfb-c109-e66201d077e5"
      },
      "execution_count": 62,
      "outputs": [
        {
          "output_type": "stream",
          "name": "stdout",
          "text": [
            "37\n",
            "2\n",
            " \n",
            "r\n",
            "ael\n",
            "Wa ai o rgli\n",
            "learning about string slicing.\n"
          ]
        }
      ]
    },
    {
      "cell_type": "code",
      "source": [
        "x = \"Hello\"\n",
        "print(x[-1])\n",
        "print(x[:-1:])\n",
        "print(x[-2:-1])\n",
        "print(x[::-2])"
      ],
      "metadata": {
        "colab": {
          "base_uri": "https://localhost:8080/"
        },
        "id": "9pujOOYXqT-B",
        "outputId": "1d1948d4-df29-4cc2-defc-563ab06a781b"
      },
      "execution_count": 63,
      "outputs": [
        {
          "output_type": "stream",
          "name": "stdout",
          "text": [
            "o\n",
            "Hell\n",
            "l\n",
            "olH\n"
          ]
        }
      ]
    },
    {
      "cell_type": "code",
      "source": [
        "x = \"pYtHon\"\n",
        "print(x.capitalize())\n",
        "string1 = \"ProgrAmmiNg\"\n",
        "print(string1.lower())\n",
        "print(string.capitalize())\n",
        "print(sorted(string1))\n",
        "print(\"\".join(string1))"
      ],
      "metadata": {
        "colab": {
          "base_uri": "https://localhost:8080/"
        },
        "id": "X1MF6OCQq_Wd",
        "outputId": "85cba57e-898f-4377-e815-62f85c1eed2c"
      },
      "execution_count": 65,
      "outputs": [
        {
          "output_type": "stream",
          "name": "stdout",
          "text": [
            "Python\n",
            "programming\n",
            "We are learning about string slicing.\n",
            "['A', 'N', 'P', 'g', 'g', 'i', 'm', 'm', 'o', 'r', 'r']\n",
            "ProgrAmmiNg\n"
          ]
        }
      ]
    },
    {
      "cell_type": "code",
      "source": [
        "string = \"pyyyThon\"\n",
        "x = string.find(\"y\")\n",
        "print(x)\n",
        "print(x)"
      ],
      "metadata": {
        "colab": {
          "base_uri": "https://localhost:8080/"
        },
        "id": "bxaBRrhTr5Yt",
        "outputId": "56654f89-8276-4aa5-9bdb-1fdb19c5482f"
      },
      "execution_count": 66,
      "outputs": [
        {
          "output_type": "stream",
          "name": "stdout",
          "text": [
            "1\n",
            "1\n"
          ]
        }
      ]
    },
    {
      "cell_type": "code",
      "source": [
        "a = \"Hello, World!\"\n",
        "print(a.count(\"i\"))\n",
        "b = \"lHello\"\n",
        "print(b.endswith(\"lio\"))\n",
        "print(b.startswith(\"h\"))\n",
        "print(b.find(\"n\"))"
      ],
      "metadata": {
        "colab": {
          "base_uri": "https://localhost:8080/"
        },
        "id": "aNMVW7NusDcg",
        "outputId": "d64c6162-2f45-4fa4-d324-5510525f1c1f"
      },
      "execution_count": 68,
      "outputs": [
        {
          "output_type": "stream",
          "name": "stdout",
          "text": [
            "0\n",
            "False\n",
            "False\n",
            "-1\n"
          ]
        }
      ]
    },
    {
      "cell_type": "code",
      "source": [
        "string = 'Do you know how to use \\t illegal charcters \\n in python?'\n",
        "print(string)"
      ],
      "metadata": {
        "colab": {
          "base_uri": "https://localhost:8080/"
        },
        "id": "apaXAymZsLin",
        "outputId": "178bdce5-4ba5-4fb8-d4ec-a5f73ac05cb6"
      },
      "execution_count": 67,
      "outputs": [
        {
          "output_type": "stream",
          "name": "stdout",
          "text": [
            "Do you know how to use \t illegal charcters \n",
            " in python?\n"
          ]
        }
      ]
    },
    {
      "cell_type": "code",
      "source": [
        "#print(\"Hi, {}\".format(\"Ahmad\"))\n",
        "x = \"I don't know {}\"\n",
        "print(x.format(\"programming\"))\n",
        "print(x.format(\"swimming\"))\n",
        "print(x.format(\"1\"))\n",
        "\n",
        "\n",
        "a = \"Ali\"\n",
        "print(f\"My name is {a}\")\n"
      ],
      "metadata": {
        "colab": {
          "base_uri": "https://localhost:8080/"
        },
        "id": "QxQIxkWGsZVZ",
        "outputId": "b6fde1dc-af1f-4823-b249-1bed533d4184"
      },
      "execution_count": 69,
      "outputs": [
        {
          "output_type": "stream",
          "name": "stdout",
          "text": [
            "I don't know programming\n",
            "I don't know swimming\n",
            "I don't know 1\n",
            "My name is Ali\n"
          ]
        }
      ]
    },
    {
      "cell_type": "code",
      "source": [
        "x = \"Hello World!\"\n",
        "print(x)\n",
        "print(x.strip(\"H\"))\n",
        "print(x.lstrip()) \n",
        "#l for left  strip()\n",
        "print(x.rstrip(\"d\"))  \n",
        "#(r for right)"
      ],
      "metadata": {
        "colab": {
          "base_uri": "https://localhost:8080/"
        },
        "id": "4IUIKwtfs1iE",
        "outputId": "9ec2d6ee-f7f9-4fc3-b092-5afe918a41ab"
      },
      "execution_count": 71,
      "outputs": [
        {
          "output_type": "stream",
          "name": "stdout",
          "text": [
            "Hello World!\n",
            "ello World!\n",
            "Hello World!\n",
            "Hello World!\n"
          ]
        }
      ]
    },
    {
      "cell_type": "code",
      "source": [
        "string = \" Hello there!\"\n",
        "print(string.replace(\" \", \"x\"))"
      ],
      "metadata": {
        "colab": {
          "base_uri": "https://localhost:8080/"
        },
        "id": "OOxcEWMstZEQ",
        "outputId": "874c68ae-b069-4789-85ec-932a326c38f2"
      },
      "execution_count": 72,
      "outputs": [
        {
          "output_type": "stream",
          "name": "stdout",
          "text": [
            "xHelloxthere!\n"
          ]
        }
      ]
    },
    {
      "cell_type": "code",
      "source": [
        "message = \"We can uses split method to change our string into a list.\"\n",
        "print(\" \".join(message.split(\"s\")))\n",
        "print(message.split(\"pakistan\"))\n",
        "print(type(message.split(\"pakistan\")))"
      ],
      "metadata": {
        "colab": {
          "base_uri": "https://localhost:8080/"
        },
        "id": "HXFDgiNXtk_j",
        "outputId": "bd45f543-766a-49c3-ea40-d8c6d50756cd"
      },
      "execution_count": 74,
      "outputs": [
        {
          "output_type": "stream",
          "name": "stdout",
          "text": [
            "We can u e   plit method to change our  tring into a li t.\n",
            "['We can uses split method to change our string into a list.']\n",
            "<class 'list'>\n"
          ]
        }
      ]
    },
    {
      "cell_type": "code",
      "source": [
        "a = \"Hello there!\"\n",
        "print(reversed(a))    \n",
        "  #return type memory location\n",
        "print(\"\".join(reversed(a)))"
      ],
      "metadata": {
        "colab": {
          "base_uri": "https://localhost:8080/"
        },
        "id": "rvDU0mHmuPRJ",
        "outputId": "ae582e94-a41a-439d-9db0-c6807f71b3d8"
      },
      "execution_count": 75,
      "outputs": [
        {
          "output_type": "stream",
          "name": "stdout",
          "text": [
            "<reversed object at 0x7f4d14695e50>\n",
            "!ereht olleH\n"
          ]
        }
      ]
    },
    {
      "cell_type": "code",
      "source": [
        "x = 1210\n",
        "\n",
        "print(\"\".join(reversed(str(x))))"
      ],
      "metadata": {
        "colab": {
          "base_uri": "https://localhost:8080/"
        },
        "id": "kBNGFoPYuSR0",
        "outputId": "c0e6964a-3df3-4a52-c3a2-1f27d7051c29"
      },
      "execution_count": 76,
      "outputs": [
        {
          "output_type": "stream",
          "name": "stdout",
          "text": [
            "0121\n"
          ]
        }
      ]
    },
    {
      "cell_type": "markdown",
      "source": [],
      "metadata": {
        "id": "y6afW9xtvsNX"
      }
    }
  ]
}