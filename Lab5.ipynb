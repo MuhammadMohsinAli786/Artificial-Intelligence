{
  "nbformat": 4,
  "nbformat_minor": 0,
  "metadata": {
    "colab": {
      "provenance": []
    },
    "kernelspec": {
      "name": "python3",
      "display_name": "Python 3"
    },
    "language_info": {
      "name": "python"
    }
  },
  "cells": [
    {
      "cell_type": "markdown",
      "source": [
        "Muhammad Mohsin Ali \n",
        "FA20-BSE-072"
      ],
      "metadata": {
        "id": "C54RaWO0dsJr"
      }
    },
    {
      "cell_type": "code",
      "execution_count": 8,
      "metadata": {
        "colab": {
          "base_uri": "https://localhost:8080/"
        },
        "id": "fAy7b49Pbb6Z",
        "outputId": "a284ed66-2467-4683-8c08-e71fa2b70c5b"
      },
      "outputs": [
        {
          "output_type": "stream",
          "name": "stdout",
          "text": [
            "True\n"
          ]
        }
      ],
      "source": [
        "def isPalindrome(word):\n",
        "  temp=word[::-1]\n",
        "  if temp.capitalize()== word.capitalize():\n",
        "    return True\n",
        "  else:\n",
        "    return False \n",
        "print(isPalindrome(\"deed\"))"
      ]
    },
    {
      "cell_type": "code",
      "source": [
        "word=input(\" enter a word  \")\n",
        "def isPalindrome(word):\n",
        "  temp=word[::-1]\n",
        "  print(temp.upper())\n",
        "  if temp.capitalize()== word.capitalize():\n",
        "    return True\n",
        "  else:\n",
        "    return False \n",
        "print(isPalindrome(word))\n",
        "\n"
      ],
      "metadata": {
        "colab": {
          "base_uri": "https://localhost:8080/"
        },
        "id": "cpk3xky-d3Js",
        "outputId": "2bf9b6d4-1b4c-4908-c0bd-4cf893e93a41"
      },
      "execution_count": 20,
      "outputs": [
        {
          "output_type": "stream",
          "name": "stdout",
          "text": [
            " enter a wordMian\n",
            "NAIM\n",
            "False\n"
          ]
        }
      ]
    },
    {
      "cell_type": "code",
      "source": [
        "a=[[1,0,0],[0,1,0],[0,0,1]]\n",
        "b=[[1,2,3],[4,5,6],[7,8,9]]\n",
        "print(a[-3])\n"
      ],
      "metadata": {
        "colab": {
          "base_uri": "https://localhost:8080/"
        },
        "id": "W5Y6OWu1kdGI",
        "outputId": "db12d0a3-3432-4bbc-beb2-d7354a18e78e"
      },
      "execution_count": 15,
      "outputs": [
        {
          "output_type": "stream",
          "name": "stdout",
          "text": [
            "[1, 0, 0]\n"
          ]
        }
      ]
    },
    {
      "cell_type": "code",
      "source": [
        "a=[[1,0,0],[0,1,0],[0,0,1]]\n",
        "b=[[1,2,3],[4,5,6],[7,8,9]]\n",
        "print(a[2][2])"
      ],
      "metadata": {
        "colab": {
          "base_uri": "https://localhost:8080/"
        },
        "id": "Z-9ZlR_7mb5n",
        "outputId": "f32ff356-d5bc-4095-ff92-bae4e3bb8904"
      },
      "execution_count": 18,
      "outputs": [
        {
          "output_type": "stream",
          "name": "stdout",
          "text": [
            "1\n"
          ]
        }
      ]
    },
    {
      "cell_type": "code",
      "source": [
        "a=[[[1,0,0],[0,1,0],[0,0,1]],[[1,2,3],[4,5,6],[7,8,9]]]\n",
        "print(a[-1][0][-1])"
      ],
      "metadata": {
        "colab": {
          "base_uri": "https://localhost:8080/"
        },
        "id": "QzSSSel3mwVa",
        "outputId": "c278a1e7-1f97-4fb2-bf4d-bd694f95ff35"
      },
      "execution_count": 25,
      "outputs": [
        {
          "output_type": "stream",
          "name": "stdout",
          "text": [
            "3\n"
          ]
        }
      ]
    }
  ]
}