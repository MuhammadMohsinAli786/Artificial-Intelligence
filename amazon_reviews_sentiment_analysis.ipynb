{
  "metadata": {
    "kernelspec": {
      "language": "python",
      "display_name": "Python 3",
      "name": "python3"
    },
    "language_info": {
      "name": "python",
      "version": "3.7.12",
      "mimetype": "text/x-python",
      "codemirror_mode": {
        "name": "ipython",
        "version": 3
      },
      "pygments_lexer": "ipython3",
      "nbconvert_exporter": "python",
      "file_extension": ".py"
    },
    "colab": {
      "provenance": [],
      "include_colab_link": true
    }
  },
  "nbformat_minor": 0,
  "nbformat": 4,
  "cells": [
    {
      "cell_type": "markdown",
      "metadata": {
        "id": "view-in-github",
        "colab_type": "text"
      },
      "source": [
        "<a href=\"https://colab.research.google.com/github/MuhammadMohsinAli786/Artificial-Intelligence/blob/main/amazon_reviews_sentiment_analysis.ipynb\" target=\"_parent\"><img src=\"https://colab.research.google.com/assets/colab-badge.svg\" alt=\"Open In Colab\"/></a>"
      ]
    },
    {
      "cell_type": "markdown",
      "source": [
        "## Import All Required Libraries"
      ],
      "metadata": {
        "id": "DDH-o73wOVZI"
      }
    },
    {
      "cell_type": "code",
      "source": [
        "import pandas as pd\n",
        "import matplotlib.pyplot as plt\n",
        "import plotly.express as px\n",
        "import numpy as np\n",
        "import seaborn as sb\n",
        "from sklearn import metrics\n",
        "from nltk import classify\n",
        "from nltk import NaiveBayesClassifier\n",
        "from sklearn.model_selection import StratifiedShuffleSplit, GridSearchCV\n",
        "from sklearn.feature_extraction.text import CountVectorizer, TfidfTransformer\n",
        "from sklearn.naive_bayes import MultinomialNB\n",
        "from sklearn.pipeline import Pipeline\n",
        "from sklearn.linear_model import LogisticRegression\n",
        "from sklearn.tree import DecisionTreeClassifier\n",
        "from sklearn.svm import LinearSVC\n",
        "from sklearn.ensemble import RandomForestClassifier\n",
        "from sklearn.metrics import classification_report, accuracy_score\n",
        "import math\n",
        "import warnings\n",
        "warnings.filterwarnings('ignore')\n",
        "warnings.filterwarnings(\"ignore\", category=DeprecationWarning)\n",
        "warnings.filterwarnings(\"ignore\",category=UserWarning)\n",
        "sb.set_style(\"whitegrid\")\n",
        "get_ipython().run_line_magic('matplotlib', 'inline')"
      ],
      "metadata": {
        "pycharm": {
          "is_executing": true
        },
        "id": "qclvJ-PIOVZM",
        "execution": {
          "iopub.status.busy": "2023-06-05T12:29:35.287658Z",
          "iopub.execute_input": "2023-06-05T12:29:35.288189Z",
          "iopub.status.idle": "2023-06-05T12:29:39.538936Z",
          "shell.execute_reply.started": "2023-06-05T12:29:35.288069Z",
          "shell.execute_reply": "2023-06-05T12:29:39.537677Z"
        },
        "trusted": true
      },
      "execution_count": 3,
      "outputs": []
    },
    {
      "cell_type": "markdown",
      "source": [
        "# Reading Data File"
      ],
      "metadata": {
        "id": "GrcHA3yTOVZR"
      }
    },
    {
      "cell_type": "markdown",
      "source": [
        ">Displaying Top 5 Records"
      ],
      "metadata": {
        "id": "9yRebxmPOVZT"
      }
    },
    {
      "cell_type": "code",
      "source": [
        "csv_file = \"/content/Reviews.csv\"\n",
        "df = pd.read_csv(csv_file)\n",
        "print(\"Number  of  Products  for  reviews :\", len(df[\"ProductId\"].unique()))\n",
        "print(\"Number of Unique users for reviews :\", len(df[\"UserId\"].unique()))\n",
        "df.head()"
      ],
      "metadata": {
        "id": "0ifqcLnyOVZU",
        "outputId": "65fb0aef-ef59-4a2a-c6da-7aaac0c1d08e",
        "execution": {
          "iopub.status.busy": "2023-06-05T12:29:39.540906Z",
          "iopub.execute_input": "2023-06-05T12:29:39.541876Z",
          "iopub.status.idle": "2023-06-05T12:29:48.505195Z",
          "shell.execute_reply.started": "2023-06-05T12:29:39.541837Z",
          "shell.execute_reply": "2023-06-05T12:29:48.504023Z"
        },
        "trusted": true,
        "colab": {
          "base_uri": "https://localhost:8080/",
          "height": 545
        }
      },
      "execution_count": 4,
      "outputs": [
        {
          "output_type": "stream",
          "name": "stdout",
          "text": [
            "Number  of  Products  for  reviews : 74258\n",
            "Number of Unique users for reviews : 256059\n"
          ]
        },
        {
          "output_type": "execute_result",
          "data": {
            "text/plain": [
              "   Id   ProductId          UserId                      ProfileName  \\\n",
              "0   1  B001E4KFG0  A3SGXH7AUHU8GW                       delmartian   \n",
              "1   2  B00813GRG4  A1D87F6ZCVE5NK                           dll pa   \n",
              "2   3  B000LQOCH0   ABXLMWJIXXAIN  Natalia Corres \"Natalia Corres\"   \n",
              "3   4  B000UA0QIQ  A395BORC6FGVXV                             Karl   \n",
              "4   5  B006K2ZZ7K  A1UQRSCLF8GW1T    Michael D. Bigham \"M. Wassir\"   \n",
              "\n",
              "   HelpfulnessNumerator  HelpfulnessDenominator  Score        Time  \\\n",
              "0                     1                       1      5  1303862400   \n",
              "1                     0                       0      1  1346976000   \n",
              "2                     1                       1      4  1219017600   \n",
              "3                     3                       3      2  1307923200   \n",
              "4                     0                       0      5  1350777600   \n",
              "\n",
              "                 Summary                                               Text  \n",
              "0  Good Quality Dog Food  I have bought several of the Vitality canned d...  \n",
              "1      Not as Advertised  Product arrived labeled as Jumbo Salted Peanut...  \n",
              "2  \"Delight\" says it all  This is a confection that has been around a fe...  \n",
              "3         Cough Medicine  If you are looking for the secret ingredient i...  \n",
              "4            Great taffy  Great taffy at a great price.  There was a wid...  "
            ],
            "text/html": [
              "\n",
              "  <div id=\"df-959d3922-4461-45fc-acd1-e694945b7a4e\">\n",
              "    <div class=\"colab-df-container\">\n",
              "      <div>\n",
              "<style scoped>\n",
              "    .dataframe tbody tr th:only-of-type {\n",
              "        vertical-align: middle;\n",
              "    }\n",
              "\n",
              "    .dataframe tbody tr th {\n",
              "        vertical-align: top;\n",
              "    }\n",
              "\n",
              "    .dataframe thead th {\n",
              "        text-align: right;\n",
              "    }\n",
              "</style>\n",
              "<table border=\"1\" class=\"dataframe\">\n",
              "  <thead>\n",
              "    <tr style=\"text-align: right;\">\n",
              "      <th></th>\n",
              "      <th>Id</th>\n",
              "      <th>ProductId</th>\n",
              "      <th>UserId</th>\n",
              "      <th>ProfileName</th>\n",
              "      <th>HelpfulnessNumerator</th>\n",
              "      <th>HelpfulnessDenominator</th>\n",
              "      <th>Score</th>\n",
              "      <th>Time</th>\n",
              "      <th>Summary</th>\n",
              "      <th>Text</th>\n",
              "    </tr>\n",
              "  </thead>\n",
              "  <tbody>\n",
              "    <tr>\n",
              "      <th>0</th>\n",
              "      <td>1</td>\n",
              "      <td>B001E4KFG0</td>\n",
              "      <td>A3SGXH7AUHU8GW</td>\n",
              "      <td>delmartian</td>\n",
              "      <td>1</td>\n",
              "      <td>1</td>\n",
              "      <td>5</td>\n",
              "      <td>1303862400</td>\n",
              "      <td>Good Quality Dog Food</td>\n",
              "      <td>I have bought several of the Vitality canned d...</td>\n",
              "    </tr>\n",
              "    <tr>\n",
              "      <th>1</th>\n",
              "      <td>2</td>\n",
              "      <td>B00813GRG4</td>\n",
              "      <td>A1D87F6ZCVE5NK</td>\n",
              "      <td>dll pa</td>\n",
              "      <td>0</td>\n",
              "      <td>0</td>\n",
              "      <td>1</td>\n",
              "      <td>1346976000</td>\n",
              "      <td>Not as Advertised</td>\n",
              "      <td>Product arrived labeled as Jumbo Salted Peanut...</td>\n",
              "    </tr>\n",
              "    <tr>\n",
              "      <th>2</th>\n",
              "      <td>3</td>\n",
              "      <td>B000LQOCH0</td>\n",
              "      <td>ABXLMWJIXXAIN</td>\n",
              "      <td>Natalia Corres \"Natalia Corres\"</td>\n",
              "      <td>1</td>\n",
              "      <td>1</td>\n",
              "      <td>4</td>\n",
              "      <td>1219017600</td>\n",
              "      <td>\"Delight\" says it all</td>\n",
              "      <td>This is a confection that has been around a fe...</td>\n",
              "    </tr>\n",
              "    <tr>\n",
              "      <th>3</th>\n",
              "      <td>4</td>\n",
              "      <td>B000UA0QIQ</td>\n",
              "      <td>A395BORC6FGVXV</td>\n",
              "      <td>Karl</td>\n",
              "      <td>3</td>\n",
              "      <td>3</td>\n",
              "      <td>2</td>\n",
              "      <td>1307923200</td>\n",
              "      <td>Cough Medicine</td>\n",
              "      <td>If you are looking for the secret ingredient i...</td>\n",
              "    </tr>\n",
              "    <tr>\n",
              "      <th>4</th>\n",
              "      <td>5</td>\n",
              "      <td>B006K2ZZ7K</td>\n",
              "      <td>A1UQRSCLF8GW1T</td>\n",
              "      <td>Michael D. Bigham \"M. Wassir\"</td>\n",
              "      <td>0</td>\n",
              "      <td>0</td>\n",
              "      <td>5</td>\n",
              "      <td>1350777600</td>\n",
              "      <td>Great taffy</td>\n",
              "      <td>Great taffy at a great price.  There was a wid...</td>\n",
              "    </tr>\n",
              "  </tbody>\n",
              "</table>\n",
              "</div>\n",
              "      <button class=\"colab-df-convert\" onclick=\"convertToInteractive('df-959d3922-4461-45fc-acd1-e694945b7a4e')\"\n",
              "              title=\"Convert this dataframe to an interactive table.\"\n",
              "              style=\"display:none;\">\n",
              "        \n",
              "  <svg xmlns=\"http://www.w3.org/2000/svg\" height=\"24px\"viewBox=\"0 0 24 24\"\n",
              "       width=\"24px\">\n",
              "    <path d=\"M0 0h24v24H0V0z\" fill=\"none\"/>\n",
              "    <path d=\"M18.56 5.44l.94 2.06.94-2.06 2.06-.94-2.06-.94-.94-2.06-.94 2.06-2.06.94zm-11 1L8.5 8.5l.94-2.06 2.06-.94-2.06-.94L8.5 2.5l-.94 2.06-2.06.94zm10 10l.94 2.06.94-2.06 2.06-.94-2.06-.94-.94-2.06-.94 2.06-2.06.94z\"/><path d=\"M17.41 7.96l-1.37-1.37c-.4-.4-.92-.59-1.43-.59-.52 0-1.04.2-1.43.59L10.3 9.45l-7.72 7.72c-.78.78-.78 2.05 0 2.83L4 21.41c.39.39.9.59 1.41.59.51 0 1.02-.2 1.41-.59l7.78-7.78 2.81-2.81c.8-.78.8-2.07 0-2.86zM5.41 20L4 18.59l7.72-7.72 1.47 1.35L5.41 20z\"/>\n",
              "  </svg>\n",
              "      </button>\n",
              "      \n",
              "  <style>\n",
              "    .colab-df-container {\n",
              "      display:flex;\n",
              "      flex-wrap:wrap;\n",
              "      gap: 12px;\n",
              "    }\n",
              "\n",
              "    .colab-df-convert {\n",
              "      background-color: #E8F0FE;\n",
              "      border: none;\n",
              "      border-radius: 50%;\n",
              "      cursor: pointer;\n",
              "      display: none;\n",
              "      fill: #1967D2;\n",
              "      height: 32px;\n",
              "      padding: 0 0 0 0;\n",
              "      width: 32px;\n",
              "    }\n",
              "\n",
              "    .colab-df-convert:hover {\n",
              "      background-color: #E2EBFA;\n",
              "      box-shadow: 0px 1px 2px rgba(60, 64, 67, 0.3), 0px 1px 3px 1px rgba(60, 64, 67, 0.15);\n",
              "      fill: #174EA6;\n",
              "    }\n",
              "\n",
              "    [theme=dark] .colab-df-convert {\n",
              "      background-color: #3B4455;\n",
              "      fill: #D2E3FC;\n",
              "    }\n",
              "\n",
              "    [theme=dark] .colab-df-convert:hover {\n",
              "      background-color: #434B5C;\n",
              "      box-shadow: 0px 1px 3px 1px rgba(0, 0, 0, 0.15);\n",
              "      filter: drop-shadow(0px 1px 2px rgba(0, 0, 0, 0.3));\n",
              "      fill: #FFFFFF;\n",
              "    }\n",
              "  </style>\n",
              "\n",
              "      <script>\n",
              "        const buttonEl =\n",
              "          document.querySelector('#df-959d3922-4461-45fc-acd1-e694945b7a4e button.colab-df-convert');\n",
              "        buttonEl.style.display =\n",
              "          google.colab.kernel.accessAllowed ? 'block' : 'none';\n",
              "\n",
              "        async function convertToInteractive(key) {\n",
              "          const element = document.querySelector('#df-959d3922-4461-45fc-acd1-e694945b7a4e');\n",
              "          const dataTable =\n",
              "            await google.colab.kernel.invokeFunction('convertToInteractive',\n",
              "                                                     [key], {});\n",
              "          if (!dataTable) return;\n",
              "\n",
              "          const docLinkHtml = 'Like what you see? Visit the ' +\n",
              "            '<a target=\"_blank\" href=https://colab.research.google.com/notebooks/data_table.ipynb>data table notebook</a>'\n",
              "            + ' to learn more about interactive tables.';\n",
              "          element.innerHTML = '';\n",
              "          dataTable['output_type'] = 'display_data';\n",
              "          await google.colab.output.renderOutput(dataTable, element);\n",
              "          const docLink = document.createElement('div');\n",
              "          docLink.innerHTML = docLinkHtml;\n",
              "          element.appendChild(docLink);\n",
              "        }\n",
              "      </script>\n",
              "    </div>\n",
              "  </div>\n",
              "  "
            ]
          },
          "metadata": {},
          "execution_count": 4
        }
      ]
    },
    {
      "cell_type": "code",
      "source": [
        "df.info()"
      ],
      "metadata": {
        "execution": {
          "iopub.status.busy": "2023-06-05T12:29:48.506853Z",
          "iopub.execute_input": "2023-06-05T12:29:48.507355Z",
          "iopub.status.idle": "2023-06-05T12:29:48.880425Z",
          "shell.execute_reply.started": "2023-06-05T12:29:48.507304Z",
          "shell.execute_reply": "2023-06-05T12:29:48.878949Z"
        },
        "trusted": true,
        "colab": {
          "base_uri": "https://localhost:8080/"
        },
        "id": "2z8P4ry3vcS5",
        "outputId": "fb66a633-2490-4c26-e545-15ad16627036"
      },
      "execution_count": 5,
      "outputs": [
        {
          "output_type": "stream",
          "name": "stdout",
          "text": [
            "<class 'pandas.core.frame.DataFrame'>\n",
            "RangeIndex: 568454 entries, 0 to 568453\n",
            "Data columns (total 10 columns):\n",
            " #   Column                  Non-Null Count   Dtype \n",
            "---  ------                  --------------   ----- \n",
            " 0   Id                      568454 non-null  int64 \n",
            " 1   ProductId               568454 non-null  object\n",
            " 2   UserId                  568454 non-null  object\n",
            " 3   ProfileName             568438 non-null  object\n",
            " 4   HelpfulnessNumerator    568454 non-null  int64 \n",
            " 5   HelpfulnessDenominator  568454 non-null  int64 \n",
            " 6   Score                   568454 non-null  int64 \n",
            " 7   Time                    568454 non-null  int64 \n",
            " 8   Summary                 568427 non-null  object\n",
            " 9   Text                    568454 non-null  object\n",
            "dtypes: int64(5), object(5)\n",
            "memory usage: 43.4+ MB\n"
          ]
        }
      ]
    },
    {
      "cell_type": "markdown",
      "source": [
        "### Removing Uncessary Columns"
      ],
      "metadata": {
        "id": "TJmjAfUUOVZW"
      }
    },
    {
      "cell_type": "markdown",
      "source": [
        ">So that we can reduce processing time to make it work for slow systems too. You can take all the 568k records if your system is efficient enough"
      ],
      "metadata": {
        "id": "XukjIKFIOVZX"
      }
    },
    {
      "cell_type": "code",
      "source": [
        "data = df.copy()\n",
        "data = data.drop([\"Id\",\"UserId\",\"Time\", \"HelpfulnessNumerator\", \"HelpfulnessDenominator\", \"ProfileName\"], axis=1)\n",
        "data.info()"
      ],
      "metadata": {
        "id": "Ut05WRu6OVZZ",
        "outputId": "af7bc0c8-34a6-4b40-e4b2-a1f4cfa285ad",
        "execution": {
          "iopub.status.busy": "2023-06-05T12:29:48.883631Z",
          "iopub.execute_input": "2023-06-05T12:29:48.884148Z",
          "iopub.status.idle": "2023-06-05T12:29:49.247610Z",
          "shell.execute_reply.started": "2023-06-05T12:29:48.884102Z",
          "shell.execute_reply": "2023-06-05T12:29:49.245314Z"
        },
        "trusted": true,
        "colab": {
          "base_uri": "https://localhost:8080/"
        }
      },
      "execution_count": 6,
      "outputs": [
        {
          "output_type": "stream",
          "name": "stdout",
          "text": [
            "<class 'pandas.core.frame.DataFrame'>\n",
            "RangeIndex: 568454 entries, 0 to 568453\n",
            "Data columns (total 4 columns):\n",
            " #   Column     Non-Null Count   Dtype \n",
            "---  ------     --------------   ----- \n",
            " 0   ProductId  568454 non-null  object\n",
            " 1   Score      568454 non-null  int64 \n",
            " 2   Summary    568427 non-null  object\n",
            " 3   Text       568454 non-null  object\n",
            "dtypes: int64(1), object(3)\n",
            "memory usage: 17.3+ MB\n"
          ]
        }
      ]
    },
    {
      "cell_type": "code",
      "source": [
        "data.head()"
      ],
      "metadata": {
        "id": "c2rC5JemOVZb",
        "outputId": "1016c969-685e-4a2a-8f85-4d70b8ca921f",
        "execution": {
          "iopub.status.busy": "2023-06-05T12:29:49.249181Z",
          "iopub.execute_input": "2023-06-05T12:29:49.249801Z",
          "iopub.status.idle": "2023-06-05T12:29:49.265270Z",
          "shell.execute_reply.started": "2023-06-05T12:29:49.249749Z",
          "shell.execute_reply": "2023-06-05T12:29:49.263895Z"
        },
        "trusted": true,
        "colab": {
          "base_uri": "https://localhost:8080/",
          "height": 206
        }
      },
      "execution_count": 7,
      "outputs": [
        {
          "output_type": "execute_result",
          "data": {
            "text/plain": [
              "    ProductId  Score                Summary  \\\n",
              "0  B001E4KFG0      5  Good Quality Dog Food   \n",
              "1  B00813GRG4      1      Not as Advertised   \n",
              "2  B000LQOCH0      4  \"Delight\" says it all   \n",
              "3  B000UA0QIQ      2         Cough Medicine   \n",
              "4  B006K2ZZ7K      5            Great taffy   \n",
              "\n",
              "                                                Text  \n",
              "0  I have bought several of the Vitality canned d...  \n",
              "1  Product arrived labeled as Jumbo Salted Peanut...  \n",
              "2  This is a confection that has been around a fe...  \n",
              "3  If you are looking for the secret ingredient i...  \n",
              "4  Great taffy at a great price.  There was a wid...  "
            ],
            "text/html": [
              "\n",
              "  <div id=\"df-871a7673-c006-486f-b51f-68f9b95c09e7\">\n",
              "    <div class=\"colab-df-container\">\n",
              "      <div>\n",
              "<style scoped>\n",
              "    .dataframe tbody tr th:only-of-type {\n",
              "        vertical-align: middle;\n",
              "    }\n",
              "\n",
              "    .dataframe tbody tr th {\n",
              "        vertical-align: top;\n",
              "    }\n",
              "\n",
              "    .dataframe thead th {\n",
              "        text-align: right;\n",
              "    }\n",
              "</style>\n",
              "<table border=\"1\" class=\"dataframe\">\n",
              "  <thead>\n",
              "    <tr style=\"text-align: right;\">\n",
              "      <th></th>\n",
              "      <th>ProductId</th>\n",
              "      <th>Score</th>\n",
              "      <th>Summary</th>\n",
              "      <th>Text</th>\n",
              "    </tr>\n",
              "  </thead>\n",
              "  <tbody>\n",
              "    <tr>\n",
              "      <th>0</th>\n",
              "      <td>B001E4KFG0</td>\n",
              "      <td>5</td>\n",
              "      <td>Good Quality Dog Food</td>\n",
              "      <td>I have bought several of the Vitality canned d...</td>\n",
              "    </tr>\n",
              "    <tr>\n",
              "      <th>1</th>\n",
              "      <td>B00813GRG4</td>\n",
              "      <td>1</td>\n",
              "      <td>Not as Advertised</td>\n",
              "      <td>Product arrived labeled as Jumbo Salted Peanut...</td>\n",
              "    </tr>\n",
              "    <tr>\n",
              "      <th>2</th>\n",
              "      <td>B000LQOCH0</td>\n",
              "      <td>4</td>\n",
              "      <td>\"Delight\" says it all</td>\n",
              "      <td>This is a confection that has been around a fe...</td>\n",
              "    </tr>\n",
              "    <tr>\n",
              "      <th>3</th>\n",
              "      <td>B000UA0QIQ</td>\n",
              "      <td>2</td>\n",
              "      <td>Cough Medicine</td>\n",
              "      <td>If you are looking for the secret ingredient i...</td>\n",
              "    </tr>\n",
              "    <tr>\n",
              "      <th>4</th>\n",
              "      <td>B006K2ZZ7K</td>\n",
              "      <td>5</td>\n",
              "      <td>Great taffy</td>\n",
              "      <td>Great taffy at a great price.  There was a wid...</td>\n",
              "    </tr>\n",
              "  </tbody>\n",
              "</table>\n",
              "</div>\n",
              "      <button class=\"colab-df-convert\" onclick=\"convertToInteractive('df-871a7673-c006-486f-b51f-68f9b95c09e7')\"\n",
              "              title=\"Convert this dataframe to an interactive table.\"\n",
              "              style=\"display:none;\">\n",
              "        \n",
              "  <svg xmlns=\"http://www.w3.org/2000/svg\" height=\"24px\"viewBox=\"0 0 24 24\"\n",
              "       width=\"24px\">\n",
              "    <path d=\"M0 0h24v24H0V0z\" fill=\"none\"/>\n",
              "    <path d=\"M18.56 5.44l.94 2.06.94-2.06 2.06-.94-2.06-.94-.94-2.06-.94 2.06-2.06.94zm-11 1L8.5 8.5l.94-2.06 2.06-.94-2.06-.94L8.5 2.5l-.94 2.06-2.06.94zm10 10l.94 2.06.94-2.06 2.06-.94-2.06-.94-.94-2.06-.94 2.06-2.06.94z\"/><path d=\"M17.41 7.96l-1.37-1.37c-.4-.4-.92-.59-1.43-.59-.52 0-1.04.2-1.43.59L10.3 9.45l-7.72 7.72c-.78.78-.78 2.05 0 2.83L4 21.41c.39.39.9.59 1.41.59.51 0 1.02-.2 1.41-.59l7.78-7.78 2.81-2.81c.8-.78.8-2.07 0-2.86zM5.41 20L4 18.59l7.72-7.72 1.47 1.35L5.41 20z\"/>\n",
              "  </svg>\n",
              "      </button>\n",
              "      \n",
              "  <style>\n",
              "    .colab-df-container {\n",
              "      display:flex;\n",
              "      flex-wrap:wrap;\n",
              "      gap: 12px;\n",
              "    }\n",
              "\n",
              "    .colab-df-convert {\n",
              "      background-color: #E8F0FE;\n",
              "      border: none;\n",
              "      border-radius: 50%;\n",
              "      cursor: pointer;\n",
              "      display: none;\n",
              "      fill: #1967D2;\n",
              "      height: 32px;\n",
              "      padding: 0 0 0 0;\n",
              "      width: 32px;\n",
              "    }\n",
              "\n",
              "    .colab-df-convert:hover {\n",
              "      background-color: #E2EBFA;\n",
              "      box-shadow: 0px 1px 2px rgba(60, 64, 67, 0.3), 0px 1px 3px 1px rgba(60, 64, 67, 0.15);\n",
              "      fill: #174EA6;\n",
              "    }\n",
              "\n",
              "    [theme=dark] .colab-df-convert {\n",
              "      background-color: #3B4455;\n",
              "      fill: #D2E3FC;\n",
              "    }\n",
              "\n",
              "    [theme=dark] .colab-df-convert:hover {\n",
              "      background-color: #434B5C;\n",
              "      box-shadow: 0px 1px 3px 1px rgba(0, 0, 0, 0.15);\n",
              "      filter: drop-shadow(0px 1px 2px rgba(0, 0, 0, 0.3));\n",
              "      fill: #FFFFFF;\n",
              "    }\n",
              "  </style>\n",
              "\n",
              "      <script>\n",
              "        const buttonEl =\n",
              "          document.querySelector('#df-871a7673-c006-486f-b51f-68f9b95c09e7 button.colab-df-convert');\n",
              "        buttonEl.style.display =\n",
              "          google.colab.kernel.accessAllowed ? 'block' : 'none';\n",
              "\n",
              "        async function convertToInteractive(key) {\n",
              "          const element = document.querySelector('#df-871a7673-c006-486f-b51f-68f9b95c09e7');\n",
              "          const dataTable =\n",
              "            await google.colab.kernel.invokeFunction('convertToInteractive',\n",
              "                                                     [key], {});\n",
              "          if (!dataTable) return;\n",
              "\n",
              "          const docLinkHtml = 'Like what you see? Visit the ' +\n",
              "            '<a target=\"_blank\" href=https://colab.research.google.com/notebooks/data_table.ipynb>data table notebook</a>'\n",
              "            + ' to learn more about interactive tables.';\n",
              "          element.innerHTML = '';\n",
              "          dataTable['output_type'] = 'display_data';\n",
              "          await google.colab.output.renderOutput(dataTable, element);\n",
              "          const docLink = document.createElement('div');\n",
              "          docLink.innerHTML = docLinkHtml;\n",
              "          element.appendChild(docLink);\n",
              "        }\n",
              "      </script>\n",
              "    </div>\n",
              "  </div>\n",
              "  "
            ]
          },
          "metadata": {},
          "execution_count": 7
        }
      ]
    },
    {
      "cell_type": "markdown",
      "source": [
        "### Getting only unique Products"
      ],
      "metadata": {
        "id": "1c-v3mTkOVZg"
      }
    },
    {
      "cell_type": "code",
      "source": [
        "asins_unique = len(data[\"ProductId\"].unique())\n",
        "print(f\"Number of Unique Product IDs: {asins_unique}\")"
      ],
      "metadata": {
        "id": "mwsLWX83OVZm",
        "outputId": "b7a603ff-d105-4351-e68a-72e819ccca4d",
        "execution": {
          "iopub.status.busy": "2023-06-05T12:29:49.267442Z",
          "iopub.execute_input": "2023-06-05T12:29:49.268453Z",
          "iopub.status.idle": "2023-06-05T12:29:49.354710Z",
          "shell.execute_reply.started": "2023-06-05T12:29:49.268401Z",
          "shell.execute_reply": "2023-06-05T12:29:49.353466Z"
        },
        "trusted": true,
        "colab": {
          "base_uri": "https://localhost:8080/"
        }
      },
      "execution_count": 8,
      "outputs": [
        {
          "output_type": "stream",
          "name": "stdout",
          "text": [
            "Number of Unique Product IDs: 74258\n"
          ]
        }
      ]
    },
    {
      "cell_type": "markdown",
      "source": [
        "# Ploting Score Graphs"
      ],
      "metadata": {
        "id": "ORY1oHepOVZo"
      }
    },
    {
      "cell_type": "markdown",
      "source": [
        ">So that we will get the overview, without calculating number of each score"
      ],
      "metadata": {
        "id": "ng2uVxPWOVZr"
      }
    },
    {
      "cell_type": "markdown",
      "source": [
        "## Histogram"
      ],
      "metadata": {
        "id": "5EN7R-meOVZs"
      }
    },
    {
      "cell_type": "markdown",
      "source": [
        ">This graph is showing how many reviews get a specific score"
      ],
      "metadata": {
        "id": "kS-7KGUMOVZt"
      }
    },
    {
      "cell_type": "code",
      "source": [
        "x_axis_rating = data[\"Score\"]\n",
        "x_axis_rating.hist(bins=[0.5,1.5,2.5,3.5,4.5,5.5], figsize=(12,6), grid=True, color=\"#6f00ff\")\n",
        "\n",
        "plt.title(\"People-Rating Graph\")\n",
        "plt.xlabel(\"Rating\")\n",
        "plt.ylabel(\"Number of Ratings\")\n",
        "plt.show()"
      ],
      "metadata": {
        "id": "EF4em2A_OVZt",
        "outputId": "2693b5a7-8e0c-4cbc-af81-e079afe5683d",
        "execution": {
          "iopub.status.busy": "2023-06-05T12:29:49.356525Z",
          "iopub.execute_input": "2023-06-05T12:29:49.356946Z",
          "iopub.status.idle": "2023-06-05T12:29:49.711998Z",
          "shell.execute_reply.started": "2023-06-05T12:29:49.356912Z",
          "shell.execute_reply": "2023-06-05T12:29:49.710693Z"
        },
        "trusted": true,
        "colab": {
          "base_uri": "https://localhost:8080/",
          "height": 564
        }
      },
      "execution_count": 9,
      "outputs": [
        {
          "output_type": "display_data",
          "data": {
            "text/plain": [
              "<Figure size 1200x600 with 1 Axes>"
            ],
            "image/png": "[encoded data removed]"
          },
          "metadata": {}
        }
      ]
    },
    {
      "cell_type": "markdown",
      "source": [
        "## Box-Plot"
      ],
      "metadata": {
        "id": "LvxOGQQ3OVZv"
      }
    },
    {
      "cell_type": "markdown",
      "source": [
        ">Box-Plot gives the concentration data distribution"
      ],
      "metadata": {
        "id": "jzXdPBE3OVZw"
      }
    },
    {
      "cell_type": "code",
      "source": [
        "sb.boxplot(x=\"Score\", data=data, whis=5, color=\"#00a2ff\");"
      ],
      "metadata": {
        "id": "gG08IdjxOVZx",
        "outputId": "5b931288-e33c-4dc8-eb60-270986073ded",
        "execution": {
          "iopub.status.busy": "2023-06-05T12:29:49.713475Z",
          "iopub.execute_input": "2023-06-05T12:29:49.713866Z",
          "iopub.status.idle": "2023-06-05T12:29:50.025377Z",
          "shell.execute_reply.started": "2023-06-05T12:29:49.713833Z",
          "shell.execute_reply": "2023-06-05T12:29:50.023957Z"
        },
        "trusted": true,
        "colab": {
          "base_uri": "https://localhost:8080/",
          "height": 449
        }
      },
      "execution_count": 10,
      "outputs": [
        {
          "output_type": "display_data",
          "data": {
            "text/plain": [
              "<Figure size 640x480 with 1 Axes>"
            ],
            "image/png": "[encoded data removed]"
          },
          "metadata": {}
        }
      ]
    },
    {
      "cell_type": "markdown",
      "source": [
        "## Violin-Plot"
      ],
      "metadata": {
        "id": "tFcS9Y4KOVZy"
      }
    },
    {
      "cell_type": "markdown",
      "source": [
        ">Violin-Plot gives the frequency distribution of the data to visualize how the data is distributed and which points have more concentration of the data"
      ],
      "metadata": {
        "id": "UozyFIggOVZz"
      }
    },
    {
      "cell_type": "code",
      "source": [
        "sb.violinplot(y=\"Score\", data=data, bw=0.1, color=\"#bababa\")"
      ],
      "metadata": {
        "id": "VFGNHz8TOVZ0",
        "outputId": "8c7a5290-c336-4d7a-92d1-356208e344f6",
        "execution": {
          "iopub.status.busy": "2023-06-05T12:29:50.026711Z",
          "iopub.execute_input": "2023-06-05T12:29:50.027063Z",
          "iopub.status.idle": "2023-06-05T12:29:51.153965Z",
          "shell.execute_reply.started": "2023-06-05T12:29:50.027033Z",
          "shell.execute_reply": "2023-06-05T12:29:51.152678Z"
        },
        "trusted": true,
        "colab": {
          "base_uri": "https://localhost:8080/",
          "height": 423
        }
      },
      "execution_count": 11,
      "outputs": [
        {
          "output_type": "execute_result",
          "data": {
            "text/plain": [
              "<Axes: ylabel='Score'>"
            ]
          },
          "metadata": {},
          "execution_count": 11
        },
        {
          "output_type": "display_data",
          "data": {
            "text/plain": [
              "<Figure size 640x480 with 1 Axes>"
            ],
            "image/png": "[encoded data removed]"
          },
          "metadata": {}
        }
      ]
    },
    {
      "cell_type": "markdown",
      "source": [
        "### Dropping null values"
      ],
      "metadata": {
        "id": "F4DaQ04iOVZ1"
      }
    },
    {
      "cell_type": "markdown",
      "source": [
        ">Our data does not have any null values, that's why it won't affect data"
      ],
      "metadata": {
        "id": "JDyna5lBOVZ2"
      }
    },
    {
      "cell_type": "code",
      "source": [
        "dataAfter = data.dropna(subset=[\"Score\"])\n",
        "dataAfter[\"Score\"] = dataAfter[\"Score\"].astype(int)"
      ],
      "metadata": {
        "id": "jhGvmgd8OVZ3",
        "execution": {
          "iopub.status.busy": "2023-06-05T12:29:51.159829Z",
          "iopub.execute_input": "2023-06-05T12:29:51.160866Z",
          "iopub.status.idle": "2023-06-05T12:29:51.229390Z",
          "shell.execute_reply.started": "2023-06-05T12:29:51.160822Z",
          "shell.execute_reply": "2023-06-05T12:29:51.227903Z"
        },
        "trusted": true
      },
      "execution_count": 12,
      "outputs": []
    },
    {
      "cell_type": "markdown",
      "source": [
        "# Splitting data into TRAIN & TEST datasets"
      ],
      "metadata": {
        "id": "SKiOizRxOVZ4"
      }
    },
    {
      "cell_type": "markdown",
      "source": [
        ">Data is splitted up after shuffling"
      ],
      "metadata": {
        "id": "j6avK-LTOVZ5"
      }
    },
    {
      "cell_type": "code",
      "source": [
        "split = StratifiedShuffleSplit(n_splits=5, test_size=0.2)\n",
        "for train_index, test_index in split.split(dataAfter, dataAfter[\"Score\"]): \n",
        "    strat_train = dataAfter.reindex(train_index)\n",
        "    strat_test = dataAfter.reindex(test_index)"
      ],
      "metadata": {
        "id": "bJKHny8DOVZ5",
        "execution": {
          "iopub.status.busy": "2023-06-05T12:29:51.230869Z",
          "iopub.execute_input": "2023-06-05T12:29:51.231337Z",
          "iopub.status.idle": "2023-06-05T12:29:53.536616Z",
          "shell.execute_reply.started": "2023-06-05T12:29:51.231298Z",
          "shell.execute_reply": "2023-06-05T12:29:53.535229Z"
        },
        "trusted": true
      },
      "execution_count": 13,
      "outputs": []
    },
    {
      "cell_type": "markdown",
      "source": [
        ">Checking length of the Train dataset and the percentage of each score"
      ],
      "metadata": {
        "id": "Zu0vKzVZOVZ7"
      }
    },
    {
      "cell_type": "code",
      "source": [
        "len(strat_train)"
      ],
      "metadata": {
        "id": "MyzwJklnOVZ8",
        "outputId": "255acc90-19d8-4005-ac22-d957e6ccee4d",
        "execution": {
          "iopub.status.busy": "2023-06-05T12:29:53.538172Z",
          "iopub.execute_input": "2023-06-05T12:29:53.538566Z",
          "iopub.status.idle": "2023-06-05T12:29:53.545407Z",
          "shell.execute_reply.started": "2023-06-05T12:29:53.538532Z",
          "shell.execute_reply": "2023-06-05T12:29:53.544556Z"
        },
        "trusted": true,
        "colab": {
          "base_uri": "https://localhost:8080/"
        }
      },
      "execution_count": 14,
      "outputs": [
        {
          "output_type": "execute_result",
          "data": {
            "text/plain": [
              "454763"
            ]
          },
          "metadata": {},
          "execution_count": 14
        }
      ]
    },
    {
      "cell_type": "code",
      "source": [
        "strat_train[\"Score\"].value_counts()/len(strat_train)"
      ],
      "metadata": {
        "id": "e-oLx1UPOVZ9",
        "outputId": "d7899316-b02b-4121-c8e6-d0f86c47126b",
        "execution": {
          "iopub.status.busy": "2023-06-05T12:29:53.546789Z",
          "iopub.execute_input": "2023-06-05T12:29:53.547957Z",
          "iopub.status.idle": "2023-06-05T12:29:53.575473Z",
          "shell.execute_reply.started": "2023-06-05T12:29:53.547918Z",
          "shell.execute_reply": "2023-06-05T12:29:53.574438Z"
        },
        "trusted": true,
        "colab": {
          "base_uri": "https://localhost:8080/"
        }
      },
      "execution_count": 15,
      "outputs": [
        {
          "output_type": "execute_result",
          "data": {
            "text/plain": [
              "5    0.638790\n",
              "4    0.141885\n",
              "1    0.091947\n",
              "3    0.075010\n",
              "2    0.052368\n",
              "Name: Score, dtype: float64"
            ]
          },
          "metadata": {},
          "execution_count": 15
        }
      ]
    },
    {
      "cell_type": "markdown",
      "source": [
        ">Checking length of the Test dataset and the percentage of each score"
      ],
      "metadata": {
        "id": "z6IHQ-mpOVZ-"
      }
    },
    {
      "cell_type": "code",
      "source": [
        "len(strat_test)"
      ],
      "metadata": {
        "id": "pYKvvwHuOVZ_",
        "outputId": "ab5cb336-a050-4646-ac60-dd4b139e2355",
        "execution": {
          "iopub.status.busy": "2023-06-05T12:29:53.577774Z",
          "iopub.execute_input": "2023-06-05T12:29:53.580048Z",
          "iopub.status.idle": "2023-06-05T12:29:53.591829Z",
          "shell.execute_reply.started": "2023-06-05T12:29:53.579988Z",
          "shell.execute_reply": "2023-06-05T12:29:53.590549Z"
        },
        "trusted": true,
        "colab": {
          "base_uri": "https://localhost:8080/"
        }
      },
      "execution_count": 16,
      "outputs": [
        {
          "output_type": "execute_result",
          "data": {
            "text/plain": [
              "113691"
            ]
          },
          "metadata": {},
          "execution_count": 16
        }
      ]
    },
    {
      "cell_type": "code",
      "source": [
        "strat_test[\"Score\"].value_counts()/len(strat_test)"
      ],
      "metadata": {
        "id": "JvMuZfIBOVaA",
        "outputId": "a178d47a-fc8f-486e-e6e1-e0162b5cf18e",
        "execution": {
          "iopub.status.busy": "2023-06-05T12:29:53.593133Z",
          "iopub.execute_input": "2023-06-05T12:29:53.593526Z",
          "iopub.status.idle": "2023-06-05T12:29:53.613535Z",
          "shell.execute_reply.started": "2023-06-05T12:29:53.593492Z",
          "shell.execute_reply": "2023-06-05T12:29:53.612528Z"
        },
        "trusted": true,
        "colab": {
          "base_uri": "https://localhost:8080/"
        }
      },
      "execution_count": 17,
      "outputs": [
        {
          "output_type": "execute_result",
          "data": {
            "text/plain": [
              "5    0.638784\n",
              "4    0.141885\n",
              "1    0.091951\n",
              "3    0.075010\n",
              "2    0.052370\n",
              "Name: Score, dtype: float64"
            ]
          },
          "metadata": {},
          "execution_count": 17
        }
      ]
    },
    {
      "cell_type": "markdown",
      "source": [
        "## Using Shuffled Train Dataset"
      ],
      "metadata": {
        "id": "92x9tGKJOVaB"
      }
    },
    {
      "cell_type": "markdown",
      "source": [
        ">Checking the Top 5 Records"
      ],
      "metadata": {
        "id": "WXZpiJd1OVaC"
      }
    },
    {
      "cell_type": "code",
      "source": [
        "reviews = strat_train.copy()\n",
        "reviews.head()"
      ],
      "metadata": {
        "id": "m4kB0112OVaD",
        "outputId": "3197ed6c-8267-41db-e44a-f3f99719524d",
        "execution": {
          "iopub.status.busy": "2023-06-05T12:29:53.614878Z",
          "iopub.execute_input": "2023-06-05T12:29:53.616240Z",
          "iopub.status.idle": "2023-06-05T12:29:53.668248Z",
          "shell.execute_reply.started": "2023-06-05T12:29:53.616196Z",
          "shell.execute_reply": "2023-06-05T12:29:53.666312Z"
        },
        "trusted": true,
        "colab": {
          "base_uri": "https://localhost:8080/",
          "height": 206
        }
      },
      "execution_count": 18,
      "outputs": [
        {
          "output_type": "execute_result",
          "data": {
            "text/plain": [
              "         ProductId  Score                                            Summary  \\\n",
              "217725  B000CQG87Q      5                                       Licorice tea   \n",
              "316232  B000GWLUGU      5                                         Delicious!   \n",
              "393265  B001DKA7HM      1                                 Not what I ordered   \n",
              "174675  B007RTR8T8      4  worked nicely,  but not when paired with the s...   \n",
              "107758  B002BFZAT8      1                                 Frankly Unpleasant   \n",
              "\n",
              "                                                     Text  \n",
              "217725  I love this stuff.  I could drink it three tim...  \n",
              "316232  These potato chips are DELICIOUS!  I have not ...  \n",
              "393265  The basket that I ordered (Something Sweet & S...  \n",
              "174675  I like having 3-4 different shampoo and condit...  \n",
              "107758  The first bar was ok...not great.  Then I foun...  "
            ],
            "text/html": [
              "\n",
              "  <div id=\"df-6ae0330a-846e-4b26-b27c-3459cdbe2a10\">\n",
              "    <div class=\"colab-df-container\">\n",
              "      <div>\n",
              "<style scoped>\n",
              "    .dataframe tbody tr th:only-of-type {\n",
              "        vertical-align: middle;\n",
              "    }\n",
              "\n",
              "    .dataframe tbody tr th {\n",
              "        vertical-align: top;\n",
              "    }\n",
              "\n",
              "    .dataframe thead th {\n",
              "        text-align: right;\n",
              "    }\n",
              "</style>\n",
              "<table border=\"1\" class=\"dataframe\">\n",
              "  <thead>\n",
              "    <tr style=\"text-align: right;\">\n",
              "      <th></th>\n",
              "      <th>ProductId</th>\n",
              "      <th>Score</th>\n",
              "      <th>Summary</th>\n",
              "      <th>Text</th>\n",
              "    </tr>\n",
              "  </thead>\n",
              "  <tbody>\n",
              "    <tr>\n",
              "      <th>217725</th>\n",
              "      <td>B000CQG87Q</td>\n",
              "      <td>5</td>\n",
              "      <td>Licorice tea</td>\n",
              "      <td>I love this stuff.  I could drink it three tim...</td>\n",
              "    </tr>\n",
              "    <tr>\n",
              "      <th>316232</th>\n",
              "      <td>B000GWLUGU</td>\n",
              "      <td>5</td>\n",
              "      <td>Delicious!</td>\n",
              "      <td>These potato chips are DELICIOUS!  I have not ...</td>\n",
              "    </tr>\n",
              "    <tr>\n",
              "      <th>393265</th>\n",
              "      <td>B001DKA7HM</td>\n",
              "      <td>1</td>\n",
              "      <td>Not what I ordered</td>\n",
              "      <td>The basket that I ordered (Something Sweet &amp; S...</td>\n",
              "    </tr>\n",
              "    <tr>\n",
              "      <th>174675</th>\n",
              "      <td>B007RTR8T8</td>\n",
              "      <td>4</td>\n",
              "      <td>worked nicely,  but not when paired with the s...</td>\n",
              "      <td>I like having 3-4 different shampoo and condit...</td>\n",
              "    </tr>\n",
              "    <tr>\n",
              "      <th>107758</th>\n",
              "      <td>B002BFZAT8</td>\n",
              "      <td>1</td>\n",
              "      <td>Frankly Unpleasant</td>\n",
              "      <td>The first bar was ok...not great.  Then I foun...</td>\n",
              "    </tr>\n",
              "  </tbody>\n",
              "</table>\n",
              "</div>\n",
              "      <button class=\"colab-df-convert\" onclick=\"convertToInteractive('df-6ae0330a-846e-4b26-b27c-3459cdbe2a10')\"\n",
              "              title=\"Convert this dataframe to an interactive table.\"\n",
              "              style=\"display:none;\">\n",
              "        \n",
              "  <svg xmlns=\"http://www.w3.org/2000/svg\" height=\"24px\"viewBox=\"0 0 24 24\"\n",
              "       width=\"24px\">\n",
              "    <path d=\"M0 0h24v24H0V0z\" fill=\"none\"/>\n",
              "    <path d=\"M18.56 5.44l.94 2.06.94-2.06 2.06-.94-2.06-.94-.94-2.06-.94 2.06-2.06.94zm-11 1L8.5 8.5l.94-2.06 2.06-.94-2.06-.94L8.5 2.5l-.94 2.06-2.06.94zm10 10l.94 2.06.94-2.06 2.06-.94-2.06-.94-.94-2.06-.94 2.06-2.06.94z\"/><path d=\"M17.41 7.96l-1.37-1.37c-.4-.4-.92-.59-1.43-.59-.52 0-1.04.2-1.43.59L10.3 9.45l-7.72 7.72c-.78.78-.78 2.05 0 2.83L4 21.41c.39.39.9.59 1.41.59.51 0 1.02-.2 1.41-.59l7.78-7.78 2.81-2.81c.8-.78.8-2.07 0-2.86zM5.41 20L4 18.59l7.72-7.72 1.47 1.35L5.41 20z\"/>\n",
              "  </svg>\n",
              "      </button>\n",
              "      \n",
              "  <style>\n",
              "    .colab-df-container {\n",
              "      display:flex;\n",
              "      flex-wrap:wrap;\n",
              "      gap: 12px;\n",
              "    }\n",
              "\n",
              "    .colab-df-convert {\n",
              "      background-color: #E8F0FE;\n",
              "      border: none;\n",
              "      border-radius: 50%;\n",
              "      cursor: pointer;\n",
              "      display: none;\n",
              "      fill: #1967D2;\n",
              "      height: 32px;\n",
              "      padding: 0 0 0 0;\n",
              "      width: 32px;\n",
              "    }\n",
              "\n",
              "    .colab-df-convert:hover {\n",
              "      background-color: #E2EBFA;\n",
              "      box-shadow: 0px 1px 2px rgba(60, 64, 67, 0.3), 0px 1px 3px 1px rgba(60, 64, 67, 0.15);\n",
              "      fill: #174EA6;\n",
              "    }\n",
              "\n",
              "    [theme=dark] .colab-df-convert {\n",
              "      background-color: #3B4455;\n",
              "      fill: #D2E3FC;\n",
              "    }\n",
              "\n",
              "    [theme=dark] .colab-df-convert:hover {\n",
              "      background-color: #434B5C;\n",
              "      box-shadow: 0px 1px 3px 1px rgba(0, 0, 0, 0.15);\n",
              "      filter: drop-shadow(0px 1px 2px rgba(0, 0, 0, 0.3));\n",
              "      fill: #FFFFFF;\n",
              "    }\n",
              "  </style>\n",
              "\n",
              "      <script>\n",
              "        const buttonEl =\n",
              "          document.querySelector('#df-6ae0330a-846e-4b26-b27c-3459cdbe2a10 button.colab-df-convert');\n",
              "        buttonEl.style.display =\n",
              "          google.colab.kernel.accessAllowed ? 'block' : 'none';\n",
              "\n",
              "        async function convertToInteractive(key) {\n",
              "          const element = document.querySelector('#df-6ae0330a-846e-4b26-b27c-3459cdbe2a10');\n",
              "          const dataTable =\n",
              "            await google.colab.kernel.invokeFunction('convertToInteractive',\n",
              "                                                     [key], {});\n",
              "          if (!dataTable) return;\n",
              "\n",
              "          const docLinkHtml = 'Like what you see? Visit the ' +\n",
              "            '<a target=\"_blank\" href=https://colab.research.google.com/notebooks/data_table.ipynb>data table notebook</a>'\n",
              "            + ' to learn more about interactive tables.';\n",
              "          element.innerHTML = '';\n",
              "          dataTable['output_type'] = 'display_data';\n",
              "          await google.colab.output.renderOutput(dataTable, element);\n",
              "          const docLink = document.createElement('div');\n",
              "          docLink.innerHTML = docLinkHtml;\n",
              "          element.appendChild(docLink);\n",
              "        }\n",
              "      </script>\n",
              "    </div>\n",
              "  </div>\n",
              "  "
            ]
          },
          "metadata": {},
          "execution_count": 18
        }
      ]
    },
    {
      "cell_type": "markdown",
      "source": [
        ">Finding Number of Unique Products"
      ],
      "metadata": {
        "id": "GAdfHaRLOVaE"
      }
    },
    {
      "cell_type": "code",
      "source": [
        "print(f\"Number of unique Product IDs in Trained Data Reviews: \", len(reviews[\"ProductId\"].unique()))"
      ],
      "metadata": {
        "id": "PDxr14kYOVaE",
        "outputId": "2f795282-895e-466d-d3c1-4cc1420fac8d",
        "execution": {
          "iopub.status.busy": "2023-06-05T12:29:53.670373Z",
          "iopub.execute_input": "2023-06-05T12:29:53.670940Z",
          "iopub.status.idle": "2023-06-05T12:29:53.774840Z",
          "shell.execute_reply.started": "2023-06-05T12:29:53.670884Z",
          "shell.execute_reply": "2023-06-05T12:29:53.773356Z"
        },
        "trusted": true,
        "colab": {
          "base_uri": "https://localhost:8080/"
        }
      },
      "execution_count": 19,
      "outputs": [
        {
          "output_type": "stream",
          "name": "stdout",
          "text": [
            "Number of unique Product IDs in Trained Data Reviews:  67605\n"
          ]
        }
      ]
    },
    {
      "cell_type": "markdown",
      "source": [
        ">Checking basic info of the Data Frame before further processing"
      ],
      "metadata": {
        "id": "XGkjJZVzOVaF"
      }
    },
    {
      "cell_type": "code",
      "source": [
        "reviews.info()"
      ],
      "metadata": {
        "id": "fUEggWqeOVaG",
        "outputId": "45e72f66-0b70-4c77-d4ac-6bee56bf5f15",
        "execution": {
          "iopub.status.busy": "2023-06-05T12:29:53.776792Z",
          "iopub.execute_input": "2023-06-05T12:29:53.777311Z",
          "iopub.status.idle": "2023-06-05T12:29:54.013886Z",
          "shell.execute_reply.started": "2023-06-05T12:29:53.777262Z",
          "shell.execute_reply": "2023-06-05T12:29:54.012765Z"
        },
        "trusted": true,
        "colab": {
          "base_uri": "https://localhost:8080/"
        }
      },
      "execution_count": 20,
      "outputs": [
        {
          "output_type": "stream",
          "name": "stdout",
          "text": [
            "<class 'pandas.core.frame.DataFrame'>\n",
            "Int64Index: 454763 entries, 217725 to 443030\n",
            "Data columns (total 4 columns):\n",
            " #   Column     Non-Null Count   Dtype \n",
            "---  ------     --------------   ----- \n",
            " 0   ProductId  454763 non-null  object\n",
            " 1   Score      454763 non-null  int64 \n",
            " 2   Summary    454742 non-null  object\n",
            " 3   Text       454763 non-null  object\n",
            "dtypes: int64(1), object(3)\n",
            "memory usage: 17.3+ MB\n"
          ]
        }
      ]
    },
    {
      "cell_type": "markdown",
      "source": [
        ">Finding Mean of all the ratings of train dataset"
      ],
      "metadata": {
        "id": "BmiZ69EmOVaM"
      }
    },
    {
      "cell_type": "code",
      "source": [
        "reviews[\"Score\"].mean()"
      ],
      "metadata": {
        "id": "lJlJtVSiOVaN",
        "outputId": "7f53b32e-dfad-47c9-8dd0-fafebe1a4d26",
        "execution": {
          "iopub.status.busy": "2023-06-05T12:29:54.015367Z",
          "iopub.execute_input": "2023-06-05T12:29:54.015826Z",
          "iopub.status.idle": "2023-06-05T12:29:54.026365Z",
          "shell.execute_reply.started": "2023-06-05T12:29:54.015777Z",
          "shell.execute_reply": "2023-06-05T12:29:54.024845Z"
        },
        "trusted": true,
        "colab": {
          "base_uri": "https://localhost:8080/"
        }
      },
      "execution_count": 21,
      "outputs": [
        {
          "output_type": "execute_result",
          "data": {
            "text/plain": [
              "4.183203118987253"
            ]
          },
          "metadata": {},
          "execution_count": 21
        }
      ]
    },
    {
      "cell_type": "markdown",
      "source": [
        ">Counting Number of reviews of each Product from the Train dataset"
      ],
      "metadata": {
        "id": "yRT9BR09OVaO"
      }
    },
    {
      "cell_type": "code",
      "source": [
        "counts = reviews[\"ProductId\"].value_counts().to_frame()\n",
        "counts.head(10)"
      ],
      "metadata": {
        "id": "wm_cku27OVaP",
        "outputId": "32872bab-8b47-4d7a-9594-00474e293042",
        "execution": {
          "iopub.status.busy": "2023-06-05T12:29:54.028471Z",
          "iopub.execute_input": "2023-06-05T12:29:54.029001Z",
          "iopub.status.idle": "2023-06-05T12:29:54.169503Z",
          "shell.execute_reply.started": "2023-06-05T12:29:54.028953Z",
          "shell.execute_reply": "2023-06-05T12:29:54.168175Z"
        },
        "trusted": true,
        "colab": {
          "base_uri": "https://localhost:8080/",
          "height": 363
        }
      },
      "execution_count": 22,
      "outputs": [
        {
          "output_type": "execute_result",
          "data": {
            "text/plain": [
              "            ProductId\n",
              "B007JFMH8M        740\n",
              "B002QWHJOU        502\n",
              "B002QWP89S        501\n",
              "B002QWP8H0        500\n",
              "B003B3OOPA        497\n",
              "B0026RQTGE        491\n",
              "B006HYLW32        467\n",
              "B001RVFEP2        461\n",
              "B007M83302        457\n",
              "B0026KPDG8        454"
            ],
            "text/html": [
              "\n",
              "  <div id=\"df-14c95e36-3926-48e4-9fba-8bd640cf8925\">\n",
              "    <div class=\"colab-df-container\">\n",
              "      <div>\n",
              "<style scoped>\n",
              "    .dataframe tbody tr th:only-of-type {\n",
              "        vertical-align: middle;\n",
              "    }\n",
              "\n",
              "    .dataframe tbody tr th {\n",
              "        vertical-align: top;\n",
              "    }\n",
              "\n",
              "    .dataframe thead th {\n",
              "        text-align: right;\n",
              "    }\n",
              "</style>\n",
              "<table border=\"1\" class=\"dataframe\">\n",
              "  <thead>\n",
              "    <tr style=\"text-align: right;\">\n",
              "      <th></th>\n",
              "      <th>ProductId</th>\n",
              "    </tr>\n",
              "  </thead>\n",
              "  <tbody>\n",
              "    <tr>\n",
              "      <th>B007JFMH8M</th>\n",
              "      <td>740</td>\n",
              "    </tr>\n",
              "    <tr>\n",
              "      <th>B002QWHJOU</th>\n",
              "      <td>502</td>\n",
              "    </tr>\n",
              "    <tr>\n",
              "      <th>B002QWP89S</th>\n",
              "      <td>501</td>\n",
              "    </tr>\n",
              "    <tr>\n",
              "      <th>B002QWP8H0</th>\n",
              "      <td>500</td>\n",
              "    </tr>\n",
              "    <tr>\n",
              "      <th>B003B3OOPA</th>\n",
              "      <td>497</td>\n",
              "    </tr>\n",
              "    <tr>\n",
              "      <th>B0026RQTGE</th>\n",
              "      <td>491</td>\n",
              "    </tr>\n",
              "    <tr>\n",
              "      <th>B006HYLW32</th>\n",
              "      <td>467</td>\n",
              "    </tr>\n",
              "    <tr>\n",
              "      <th>B001RVFEP2</th>\n",
              "      <td>461</td>\n",
              "    </tr>\n",
              "    <tr>\n",
              "      <th>B007M83302</th>\n",
              "      <td>457</td>\n",
              "    </tr>\n",
              "    <tr>\n",
              "      <th>B0026KPDG8</th>\n",
              "      <td>454</td>\n",
              "    </tr>\n",
              "  </tbody>\n",
              "</table>\n",
              "</div>\n",
              "      <button class=\"colab-df-convert\" onclick=\"convertToInteractive('df-14c95e36-3926-48e4-9fba-8bd640cf8925')\"\n",
              "              title=\"Convert this dataframe to an interactive table.\"\n",
              "              style=\"display:none;\">\n",
              "        \n",
              "  <svg xmlns=\"http://www.w3.org/2000/svg\" height=\"24px\"viewBox=\"0 0 24 24\"\n",
              "       width=\"24px\">\n",
              "    <path d=\"M0 0h24v24H0V0z\" fill=\"none\"/>\n",
              "    <path d=\"M18.56 5.44l.94 2.06.94-2.06 2.06-.94-2.06-.94-.94-2.06-.94 2.06-2.06.94zm-11 1L8.5 8.5l.94-2.06 2.06-.94-2.06-.94L8.5 2.5l-.94 2.06-2.06.94zm10 10l.94 2.06.94-2.06 2.06-.94-2.06-.94-.94-2.06-.94 2.06-2.06.94z\"/><path d=\"M17.41 7.96l-1.37-1.37c-.4-.4-.92-.59-1.43-.59-.52 0-1.04.2-1.43.59L10.3 9.45l-7.72 7.72c-.78.78-.78 2.05 0 2.83L4 21.41c.39.39.9.59 1.41.59.51 0 1.02-.2 1.41-.59l7.78-7.78 2.81-2.81c.8-.78.8-2.07 0-2.86zM5.41 20L4 18.59l7.72-7.72 1.47 1.35L5.41 20z\"/>\n",
              "  </svg>\n",
              "      </button>\n",
              "      \n",
              "  <style>\n",
              "    .colab-df-container {\n",
              "      display:flex;\n",
              "      flex-wrap:wrap;\n",
              "      gap: 12px;\n",
              "    }\n",
              "\n",
              "    .colab-df-convert {\n",
              "      background-color: #E8F0FE;\n",
              "      border: none;\n",
              "      border-radius: 50%;\n",
              "      cursor: pointer;\n",
              "      display: none;\n",
              "      fill: #1967D2;\n",
              "      height: 32px;\n",
              "      padding: 0 0 0 0;\n",
              "      width: 32px;\n",
              "    }\n",
              "\n",
              "    .colab-df-convert:hover {\n",
              "      background-color: #E2EBFA;\n",
              "      box-shadow: 0px 1px 2px rgba(60, 64, 67, 0.3), 0px 1px 3px 1px rgba(60, 64, 67, 0.15);\n",
              "      fill: #174EA6;\n",
              "    }\n",
              "\n",
              "    [theme=dark] .colab-df-convert {\n",
              "      background-color: #3B4455;\n",
              "      fill: #D2E3FC;\n",
              "    }\n",
              "\n",
              "    [theme=dark] .colab-df-convert:hover {\n",
              "      background-color: #434B5C;\n",
              "      box-shadow: 0px 1px 3px 1px rgba(0, 0, 0, 0.15);\n",
              "      filter: drop-shadow(0px 1px 2px rgba(0, 0, 0, 0.3));\n",
              "      fill: #FFFFFF;\n",
              "    }\n",
              "  </style>\n",
              "\n",
              "      <script>\n",
              "        const buttonEl =\n",
              "          document.querySelector('#df-14c95e36-3926-48e4-9fba-8bd640cf8925 button.colab-df-convert');\n",
              "        buttonEl.style.display =\n",
              "          google.colab.kernel.accessAllowed ? 'block' : 'none';\n",
              "\n",
              "        async function convertToInteractive(key) {\n",
              "          const element = document.querySelector('#df-14c95e36-3926-48e4-9fba-8bd640cf8925');\n",
              "          const dataTable =\n",
              "            await google.colab.kernel.invokeFunction('convertToInteractive',\n",
              "                                                     [key], {});\n",
              "          if (!dataTable) return;\n",
              "\n",
              "          const docLinkHtml = 'Like what you see? Visit the ' +\n",
              "            '<a target=\"_blank\" href=https://colab.research.google.com/notebooks/data_table.ipynb>data table notebook</a>'\n",
              "            + ' to learn more about interactive tables.';\n",
              "          element.innerHTML = '';\n",
              "          dataTable['output_type'] = 'display_data';\n",
              "          await google.colab.output.renderOutput(dataTable, element);\n",
              "          const docLink = document.createElement('div');\n",
              "          docLink.innerHTML = docLinkHtml;\n",
              "          element.appendChild(docLink);\n",
              "        }\n",
              "      </script>\n",
              "    </div>\n",
              "  </div>\n",
              "  "
            ]
          },
          "metadata": {},
          "execution_count": 22
        }
      ]
    },
    {
      "cell_type": "markdown",
      "source": [
        ">Calculating the Mean rating score of each Product in the Train Dataset"
      ],
      "metadata": {
        "id": "hmRLF8K9OVaQ"
      }
    },
    {
      "cell_type": "code",
      "source": [
        "avg_rating = reviews.groupby(\"ProductId\")[\"Score\"].mean().to_frame()\n",
        "avg_rating.head(10)"
      ],
      "metadata": {
        "id": "lnYQeKMNOVaQ",
        "outputId": "9281b732-afc3-44d1-f912-653e239d55fb",
        "execution": {
          "iopub.status.busy": "2023-06-05T12:29:54.170969Z",
          "iopub.execute_input": "2023-06-05T12:29:54.171473Z",
          "iopub.status.idle": "2023-06-05T12:29:54.438411Z",
          "shell.execute_reply.started": "2023-06-05T12:29:54.171421Z",
          "shell.execute_reply": "2023-06-05T12:29:54.437107Z"
        },
        "trusted": true,
        "colab": {
          "base_uri": "https://localhost:8080/",
          "height": 394
        }
      },
      "execution_count": 23,
      "outputs": [
        {
          "output_type": "execute_result",
          "data": {
            "text/plain": [
              "               Score\n",
              "ProductId           \n",
              "0006641040  4.451613\n",
              "141278509X  5.000000\n",
              "2734888454  5.000000\n",
              "2841233731  5.000000\n",
              "7310172001  4.748148\n",
              "7310172101  4.758621\n",
              "7800648702  4.000000\n",
              "9376674501  5.000000\n",
              "B00002N8SM  1.696970\n",
              "B00002Z754  5.000000"
            ],
            "text/html": [
              "\n",
              "  <div id=\"df-e7112e4d-82d1-4bc2-a5cb-23ad681ca1f0\">\n",
              "    <div class=\"colab-df-container\">\n",
              "      <div>\n",
              "<style scoped>\n",
              "    .dataframe tbody tr th:only-of-type {\n",
              "        vertical-align: middle;\n",
              "    }\n",
              "\n",
              "    .dataframe tbody tr th {\n",
              "        vertical-align: top;\n",
              "    }\n",
              "\n",
              "    .dataframe thead th {\n",
              "        text-align: right;\n",
              "    }\n",
              "</style>\n",
              "<table border=\"1\" class=\"dataframe\">\n",
              "  <thead>\n",
              "    <tr style=\"text-align: right;\">\n",
              "      <th></th>\n",
              "      <th>Score</th>\n",
              "    </tr>\n",
              "    <tr>\n",
              "      <th>ProductId</th>\n",
              "      <th></th>\n",
              "    </tr>\n",
              "  </thead>\n",
              "  <tbody>\n",
              "    <tr>\n",
              "      <th>0006641040</th>\n",
              "      <td>4.451613</td>\n",
              "    </tr>\n",
              "    <tr>\n",
              "      <th>141278509X</th>\n",
              "      <td>5.000000</td>\n",
              "    </tr>\n",
              "    <tr>\n",
              "      <th>2734888454</th>\n",
              "      <td>5.000000</td>\n",
              "    </tr>\n",
              "    <tr>\n",
              "      <th>2841233731</th>\n",
              "      <td>5.000000</td>\n",
              "    </tr>\n",
              "    <tr>\n",
              "      <th>7310172001</th>\n",
              "      <td>4.748148</td>\n",
              "    </tr>\n",
              "    <tr>\n",
              "      <th>7310172101</th>\n",
              "      <td>4.758621</td>\n",
              "    </tr>\n",
              "    <tr>\n",
              "      <th>7800648702</th>\n",
              "      <td>4.000000</td>\n",
              "    </tr>\n",
              "    <tr>\n",
              "      <th>9376674501</th>\n",
              "      <td>5.000000</td>\n",
              "    </tr>\n",
              "    <tr>\n",
              "      <th>B00002N8SM</th>\n",
              "      <td>1.696970</td>\n",
              "    </tr>\n",
              "    <tr>\n",
              "      <th>B00002Z754</th>\n",
              "      <td>5.000000</td>\n",
              "    </tr>\n",
              "  </tbody>\n",
              "</table>\n",
              "</div>\n",
              "      <button class=\"colab-df-convert\" onclick=\"convertToInteractive('df-e7112e4d-82d1-4bc2-a5cb-23ad681ca1f0')\"\n",
              "              title=\"Convert this dataframe to an interactive table.\"\n",
              "              style=\"display:none;\">\n",
              "        \n",
              "  <svg xmlns=\"http://www.w3.org/2000/svg\" height=\"24px\"viewBox=\"0 0 24 24\"\n",
              "       width=\"24px\">\n",
              "    <path d=\"M0 0h24v24H0V0z\" fill=\"none\"/>\n",
              "    <path d=\"M18.56 5.44l.94 2.06.94-2.06 2.06-.94-2.06-.94-.94-2.06-.94 2.06-2.06.94zm-11 1L8.5 8.5l.94-2.06 2.06-.94-2.06-.94L8.5 2.5l-.94 2.06-2.06.94zm10 10l.94 2.06.94-2.06 2.06-.94-2.06-.94-.94-2.06-.94 2.06-2.06.94z\"/><path d=\"M17.41 7.96l-1.37-1.37c-.4-.4-.92-.59-1.43-.59-.52 0-1.04.2-1.43.59L10.3 9.45l-7.72 7.72c-.78.78-.78 2.05 0 2.83L4 21.41c.39.39.9.59 1.41.59.51 0 1.02-.2 1.41-.59l7.78-7.78 2.81-2.81c.8-.78.8-2.07 0-2.86zM5.41 20L4 18.59l7.72-7.72 1.47 1.35L5.41 20z\"/>\n",
              "  </svg>\n",
              "      </button>\n",
              "      \n",
              "  <style>\n",
              "    .colab-df-container {\n",
              "      display:flex;\n",
              "      flex-wrap:wrap;\n",
              "      gap: 12px;\n",
              "    }\n",
              "\n",
              "    .colab-df-convert {\n",
              "      background-color: #E8F0FE;\n",
              "      border: none;\n",
              "      border-radius: 50%;\n",
              "      cursor: pointer;\n",
              "      display: none;\n",
              "      fill: #1967D2;\n",
              "      height: 32px;\n",
              "      padding: 0 0 0 0;\n",
              "      width: 32px;\n",
              "    }\n",
              "\n",
              "    .colab-df-convert:hover {\n",
              "      background-color: #E2EBFA;\n",
              "      box-shadow: 0px 1px 2px rgba(60, 64, 67, 0.3), 0px 1px 3px 1px rgba(60, 64, 67, 0.15);\n",
              "      fill: #174EA6;\n",
              "    }\n",
              "\n",
              "    [theme=dark] .colab-df-convert {\n",
              "      background-color: #3B4455;\n",
              "      fill: #D2E3FC;\n",
              "    }\n",
              "\n",
              "    [theme=dark] .colab-df-convert:hover {\n",
              "      background-color: #434B5C;\n",
              "      box-shadow: 0px 1px 3px 1px rgba(0, 0, 0, 0.15);\n",
              "      filter: drop-shadow(0px 1px 2px rgba(0, 0, 0, 0.3));\n",
              "      fill: #FFFFFF;\n",
              "    }\n",
              "  </style>\n",
              "\n",
              "      <script>\n",
              "        const buttonEl =\n",
              "          document.querySelector('#df-e7112e4d-82d1-4bc2-a5cb-23ad681ca1f0 button.colab-df-convert');\n",
              "        buttonEl.style.display =\n",
              "          google.colab.kernel.accessAllowed ? 'block' : 'none';\n",
              "\n",
              "        async function convertToInteractive(key) {\n",
              "          const element = document.querySelector('#df-e7112e4d-82d1-4bc2-a5cb-23ad681ca1f0');\n",
              "          const dataTable =\n",
              "            await google.colab.kernel.invokeFunction('convertToInteractive',\n",
              "                                                     [key], {});\n",
              "          if (!dataTable) return;\n",
              "\n",
              "          const docLinkHtml = 'Like what you see? Visit the ' +\n",
              "            '<a target=\"_blank\" href=https://colab.research.google.com/notebooks/data_table.ipynb>data table notebook</a>'\n",
              "            + ' to learn more about interactive tables.';\n",
              "          element.innerHTML = '';\n",
              "          dataTable['output_type'] = 'display_data';\n",
              "          await google.colab.output.renderOutput(dataTable, element);\n",
              "          const docLink = document.createElement('div');\n",
              "          docLink.innerHTML = docLinkHtml;\n",
              "          element.appendChild(docLink);\n",
              "        }\n",
              "      </script>\n",
              "    </div>\n",
              "  </div>\n",
              "  "
            ]
          },
          "metadata": {},
          "execution_count": 23
        }
      ]
    },
    {
      "cell_type": "markdown",
      "source": [
        ">Grouping the Product count and the Mean rating of each product in Train Dataset to form a Table"
      ],
      "metadata": {
        "id": "kEOQw-LIOVaS"
      }
    },
    {
      "cell_type": "code",
      "source": [
        "table = counts.join(avg_rating)\n",
        "table.head(30)"
      ],
      "metadata": {
        "id": "mz5GOnlHOVaT",
        "outputId": "56229603-57c6-4be4-f1b6-727168d7b826",
        "execution": {
          "iopub.status.busy": "2023-06-05T12:29:54.440310Z",
          "iopub.execute_input": "2023-06-05T12:29:54.440850Z",
          "iopub.status.idle": "2023-06-05T12:29:54.507876Z",
          "shell.execute_reply.started": "2023-06-05T12:29:54.440794Z",
          "shell.execute_reply": "2023-06-05T12:29:54.506431Z"
        },
        "trusted": true,
        "colab": {
          "base_uri": "https://localhost:8080/",
          "height": 990
        }
      },
      "execution_count": 24,
      "outputs": [
        {
          "output_type": "execute_result",
          "data": {
            "text/plain": [
              "            ProductId     Score\n",
              "B007JFMH8M        740  4.585135\n",
              "B002QWHJOU        502  4.615538\n",
              "B002QWP89S        501  4.630739\n",
              "B002QWP8H0        500  4.554000\n",
              "B003B3OOPA        497  4.742455\n",
              "B0026RQTGE        491  4.635438\n",
              "B006HYLW32        467  4.301927\n",
              "B001RVFEP2        461  4.327549\n",
              "B007M83302        457  4.273523\n",
              "B0026KPDG8        454  4.301762\n",
              "B0013NUGDE        453  4.324503\n",
              "B0026KNQSA        447  4.304251\n",
              "B000KV7ZGQ        445  3.400000\n",
              "B000NMJWZO        445  4.894382\n",
              "B000VK8AVK        444  4.362613\n",
              "B001RVFERK        441  4.353741\n",
              "B001EO5Q64        440  4.750000\n",
              "B007M832YY        439  4.346241\n",
              "B000KV61FC        438  3.420091\n",
              "B005K4Q1YA        437  3.830664\n",
              "B0013A0QXC        436  4.327982\n",
              "B005K4Q34S        435  3.820690\n",
              "B003GTR8IO        434  3.811060\n",
              "B000UBD88A        432  4.365741\n",
              "B0090X8IPM        427  3.852459\n",
              "B005K4Q4LK        419  3.821002\n",
              "B005K4Q37A        418  3.827751\n",
              "B005ZBZLT4        417  4.383693\n",
              "B006MONQMC        413  3.382567\n",
              "B007Y59HVM        405  4.355556"
            ],
            "text/html": [
              "\n",
              "  <div id=\"df-95822b1b-285c-490a-9000-eeb5a5e8e7fb\">\n",
              "    <div class=\"colab-df-container\">\n",
              "      <div>\n",
              "<style scoped>\n",
              "    .dataframe tbody tr th:only-of-type {\n",
              "        vertical-align: middle;\n",
              "    }\n",
              "\n",
              "    .dataframe tbody tr th {\n",
              "        vertical-align: top;\n",
              "    }\n",
              "\n",
              "    .dataframe thead th {\n",
              "        text-align: right;\n",
              "    }\n",
              "</style>\n",
              "<table border=\"1\" class=\"dataframe\">\n",
              "  <thead>\n",
              "    <tr style=\"text-align: right;\">\n",
              "      <th></th>\n",
              "      <th>ProductId</th>\n",
              "      <th>Score</th>\n",
              "    </tr>\n",
              "  </thead>\n",
              "  <tbody>\n",
              "    <tr>\n",
              "      <th>B007JFMH8M</th>\n",
              "      <td>740</td>\n",
              "      <td>4.585135</td>\n",
              "    </tr>\n",
              "    <tr>\n",
              "      <th>B002QWHJOU</th>\n",
              "      <td>502</td>\n",
              "      <td>4.615538</td>\n",
              "    </tr>\n",
              "    <tr>\n",
              "      <th>B002QWP89S</th>\n",
              "      <td>501</td>\n",
              "      <td>4.630739</td>\n",
              "    </tr>\n",
              "    <tr>\n",
              "      <th>B002QWP8H0</th>\n",
              "      <td>500</td>\n",
              "      <td>4.554000</td>\n",
              "    </tr>\n",
              "    <tr>\n",
              "      <th>B003B3OOPA</th>\n",
              "      <td>497</td>\n",
              "      <td>4.742455</td>\n",
              "    </tr>\n",
              "    <tr>\n",
              "      <th>B0026RQTGE</th>\n",
              "      <td>491</td>\n",
              "      <td>4.635438</td>\n",
              "    </tr>\n",
              "    <tr>\n",
              "      <th>B006HYLW32</th>\n",
              "      <td>467</td>\n",
              "      <td>4.301927</td>\n",
              "    </tr>\n",
              "    <tr>\n",
              "      <th>B001RVFEP2</th>\n",
              "      <td>461</td>\n",
              "      <td>4.327549</td>\n",
              "    </tr>\n",
              "    <tr>\n",
              "      <th>B007M83302</th>\n",
              "      <td>457</td>\n",
              "      <td>4.273523</td>\n",
              "    </tr>\n",
              "    <tr>\n",
              "      <th>B0026KPDG8</th>\n",
              "      <td>454</td>\n",
              "      <td>4.301762</td>\n",
              "    </tr>\n",
              "    <tr>\n",
              "      <th>B0013NUGDE</th>\n",
              "      <td>453</td>\n",
              "      <td>4.324503</td>\n",
              "    </tr>\n",
              "    <tr>\n",
              "      <th>B0026KNQSA</th>\n",
              "      <td>447</td>\n",
              "      <td>4.304251</td>\n",
              "    </tr>\n",
              "    <tr>\n",
              "      <th>B000KV7ZGQ</th>\n",
              "      <td>445</td>\n",
              "      <td>3.400000</td>\n",
              "    </tr>\n",
              "    <tr>\n",
              "      <th>B000NMJWZO</th>\n",
              "      <td>445</td>\n",
              "      <td>4.894382</td>\n",
              "    </tr>\n",
              "    <tr>\n",
              "      <th>B000VK8AVK</th>\n",
              "      <td>444</td>\n",
              "      <td>4.362613</td>\n",
              "    </tr>\n",
              "    <tr>\n",
              "      <th>B001RVFERK</th>\n",
              "      <td>441</td>\n",
              "      <td>4.353741</td>\n",
              "    </tr>\n",
              "    <tr>\n",
              "      <th>B001EO5Q64</th>\n",
              "      <td>440</td>\n",
              "      <td>4.750000</td>\n",
              "    </tr>\n",
              "    <tr>\n",
              "      <th>B007M832YY</th>\n",
              "      <td>439</td>\n",
              "      <td>4.346241</td>\n",
              "    </tr>\n",
              "    <tr>\n",
              "      <th>B000KV61FC</th>\n",
              "      <td>438</td>\n",
              "      <td>3.420091</td>\n",
              "    </tr>\n",
              "    <tr>\n",
              "      <th>B005K4Q1YA</th>\n",
              "      <td>437</td>\n",
              "      <td>3.830664</td>\n",
              "    </tr>\n",
              "    <tr>\n",
              "      <th>B0013A0QXC</th>\n",
              "      <td>436</td>\n",
              "      <td>4.327982</td>\n",
              "    </tr>\n",
              "    <tr>\n",
              "      <th>B005K4Q34S</th>\n",
              "      <td>435</td>\n",
              "      <td>3.820690</td>\n",
              "    </tr>\n",
              "    <tr>\n",
              "      <th>B003GTR8IO</th>\n",
              "      <td>434</td>\n",
              "      <td>3.811060</td>\n",
              "    </tr>\n",
              "    <tr>\n",
              "      <th>B000UBD88A</th>\n",
              "      <td>432</td>\n",
              "      <td>4.365741</td>\n",
              "    </tr>\n",
              "    <tr>\n",
              "      <th>B0090X8IPM</th>\n",
              "      <td>427</td>\n",
              "      <td>3.852459</td>\n",
              "    </tr>\n",
              "    <tr>\n",
              "      <th>B005K4Q4LK</th>\n",
              "      <td>419</td>\n",
              "      <td>3.821002</td>\n",
              "    </tr>\n",
              "    <tr>\n",
              "      <th>B005K4Q37A</th>\n",
              "      <td>418</td>\n",
              "      <td>3.827751</td>\n",
              "    </tr>\n",
              "    <tr>\n",
              "      <th>B005ZBZLT4</th>\n",
              "      <td>417</td>\n",
              "      <td>4.383693</td>\n",
              "    </tr>\n",
              "    <tr>\n",
              "      <th>B006MONQMC</th>\n",
              "      <td>413</td>\n",
              "      <td>3.382567</td>\n",
              "    </tr>\n",
              "    <tr>\n",
              "      <th>B007Y59HVM</th>\n",
              "      <td>405</td>\n",
              "      <td>4.355556</td>\n",
              "    </tr>\n",
              "  </tbody>\n",
              "</table>\n",
              "</div>\n",
              "      <button class=\"colab-df-convert\" onclick=\"convertToInteractive('df-95822b1b-285c-490a-9000-eeb5a5e8e7fb')\"\n",
              "              title=\"Convert this dataframe to an interactive table.\"\n",
              "              style=\"display:none;\">\n",
              "        \n",
              "  <svg xmlns=\"http://www.w3.org/2000/svg\" height=\"24px\"viewBox=\"0 0 24 24\"\n",
              "       width=\"24px\">\n",
              "    <path d=\"M0 0h24v24H0V0z\" fill=\"none\"/>\n",
              "    <path d=\"M18.56 5.44l.94 2.06.94-2.06 2.06-.94-2.06-.94-.94-2.06-.94 2.06-2.06.94zm-11 1L8.5 8.5l.94-2.06 2.06-.94-2.06-.94L8.5 2.5l-.94 2.06-2.06.94zm10 10l.94 2.06.94-2.06 2.06-.94-2.06-.94-.94-2.06-.94 2.06-2.06.94z\"/><path d=\"M17.41 7.96l-1.37-1.37c-.4-.4-.92-.59-1.43-.59-.52 0-1.04.2-1.43.59L10.3 9.45l-7.72 7.72c-.78.78-.78 2.05 0 2.83L4 21.41c.39.39.9.59 1.41.59.51 0 1.02-.2 1.41-.59l7.78-7.78 2.81-2.81c.8-.78.8-2.07 0-2.86zM5.41 20L4 18.59l7.72-7.72 1.47 1.35L5.41 20z\"/>\n",
              "  </svg>\n",
              "      </button>\n",
              "      \n",
              "  <style>\n",
              "    .colab-df-container {\n",
              "      display:flex;\n",
              "      flex-wrap:wrap;\n",
              "      gap: 12px;\n",
              "    }\n",
              "\n",
              "    .colab-df-convert {\n",
              "      background-color: #E8F0FE;\n",
              "      border: none;\n",
              "      border-radius: 50%;\n",
              "      cursor: pointer;\n",
              "      display: none;\n",
              "      fill: #1967D2;\n",
              "      height: 32px;\n",
              "      padding: 0 0 0 0;\n",
              "      width: 32px;\n",
              "    }\n",
              "\n",
              "    .colab-df-convert:hover {\n",
              "      background-color: #E2EBFA;\n",
              "      box-shadow: 0px 1px 2px rgba(60, 64, 67, 0.3), 0px 1px 3px 1px rgba(60, 64, 67, 0.15);\n",
              "      fill: #174EA6;\n",
              "    }\n",
              "\n",
              "    [theme=dark] .colab-df-convert {\n",
              "      background-color: #3B4455;\n",
              "      fill: #D2E3FC;\n",
              "    }\n",
              "\n",
              "    [theme=dark] .colab-df-convert:hover {\n",
              "      background-color: #434B5C;\n",
              "      box-shadow: 0px 1px 3px 1px rgba(0, 0, 0, 0.15);\n",
              "      filter: drop-shadow(0px 1px 2px rgba(0, 0, 0, 0.3));\n",
              "      fill: #FFFFFF;\n",
              "    }\n",
              "  </style>\n",
              "\n",
              "      <script>\n",
              "        const buttonEl =\n",
              "          document.querySelector('#df-95822b1b-285c-490a-9000-eeb5a5e8e7fb button.colab-df-convert');\n",
              "        buttonEl.style.display =\n",
              "          google.colab.kernel.accessAllowed ? 'block' : 'none';\n",
              "\n",
              "        async function convertToInteractive(key) {\n",
              "          const element = document.querySelector('#df-95822b1b-285c-490a-9000-eeb5a5e8e7fb');\n",
              "          const dataTable =\n",
              "            await google.colab.kernel.invokeFunction('convertToInteractive',\n",
              "                                                     [key], {});\n",
              "          if (!dataTable) return;\n",
              "\n",
              "          const docLinkHtml = 'Like what you see? Visit the ' +\n",
              "            '<a target=\"_blank\" href=https://colab.research.google.com/notebooks/data_table.ipynb>data table notebook</a>'\n",
              "            + ' to learn more about interactive tables.';\n",
              "          element.innerHTML = '';\n",
              "          dataTable['output_type'] = 'display_data';\n",
              "          await google.colab.output.renderOutput(dataTable, element);\n",
              "          const docLink = document.createElement('div');\n",
              "          docLink.innerHTML = docLinkHtml;\n",
              "          element.appendChild(docLink);\n",
              "        }\n",
              "      </script>\n",
              "    </div>\n",
              "  </div>\n",
              "  "
            ]
          },
          "metadata": {},
          "execution_count": 24
        }
      ]
    },
    {
      "cell_type": "markdown",
      "source": [
        "## Scatter Plot"
      ],
      "metadata": {
        "id": "9UKcf-pjOVaU"
      }
    },
    {
      "cell_type": "markdown",
      "source": [
        ">Scatter plots are used to observe relationships between variables. The dots in a scatter plot not only report the values of individual data points, but also patterns when the data are taken as a whole. Here, we can conclude that the number of times a product being purchased is affecting it's rating either in a good or a bad way. "
      ],
      "metadata": {
        "id": "nmZmS89mOVaX"
      }
    },
    {
      "cell_type": "code",
      "source": [
        "plt.scatter(\"ProductId\", \"Score\", data=table);"
      ],
      "metadata": {
        "id": "eyiXsj0KOVaZ",
        "outputId": "ea10663b-ff93-4c12-fb3d-1de8319d5666",
        "execution": {
          "iopub.status.busy": "2023-06-05T12:29:54.509479Z",
          "iopub.execute_input": "2023-06-05T12:29:54.509970Z",
          "iopub.status.idle": "2023-06-05T12:29:55.086422Z",
          "shell.execute_reply.started": "2023-06-05T12:29:54.509934Z",
          "shell.execute_reply": "2023-06-05T12:29:55.085077Z"
        },
        "trusted": true,
        "colab": {
          "base_uri": "https://localhost:8080/",
          "height": 430
        }
      },
      "execution_count": 25,
      "outputs": [
        {
          "output_type": "display_data",
          "data": {
            "text/plain": [
              "<Figure size 640x480 with 1 Axes>"
            ],
            "image/png": "[encoded data removed]"
          },
          "metadata": {}
        }
      ]
    },
    {
      "cell_type": "markdown",
      "source": [
        "### Classifying the review on the basis of rating"
      ],
      "metadata": {
        "id": "fR_QewnhOVac"
      }
    },
    {
      "cell_type": "code",
      "source": [
        "def label_sentiments(rating):\n",
        "    if (rating == 5) or (rating == 4):\n",
        "        return \"Positive\"\n",
        "    elif rating == 3:\n",
        "        return \"Neutral\"\n",
        "    elif (rating == 2) or (rating == 1):\n",
        "        return \"Negative\"\n",
        "\n",
        "strat_train[\"Sentiment\"] = strat_train[\"Score\"].apply(label_sentiments)\n",
        "strat_test[\"Sentiment\"] = strat_test[\"Score\"].apply(label_sentiments)"
      ],
      "metadata": {
        "id": "SF0oBk1cOVad",
        "execution": {
          "iopub.status.busy": "2023-06-05T12:29:55.088492Z",
          "iopub.execute_input": "2023-06-05T12:29:55.088925Z",
          "iopub.status.idle": "2023-06-05T12:29:55.307050Z",
          "shell.execute_reply.started": "2023-06-05T12:29:55.088891Z",
          "shell.execute_reply": "2023-06-05T12:29:55.305645Z"
        },
        "trusted": true
      },
      "execution_count": 26,
      "outputs": []
    },
    {
      "cell_type": "markdown",
      "source": [
        "## Calculating Algos' Metrics"
      ],
      "metadata": {
        "id": "Cs1-PKUPOVag"
      }
    },
    {
      "cell_type": "markdown",
      "source": [
        "#### Calculating Precision, Recall and F-Score of the Algorithm using TP,TN,FP,FN"
      ],
      "metadata": {
        "id": "YrvId0SGOVah"
      }
    },
    {
      "cell_type": "code",
      "source": [
        "# Calculating other metrics\n",
        "\n",
        "def calculate_precision(conf_mat):\n",
        "    return (conf_mat[2][2]) / (conf_mat[2][2] + conf_mat[2][0])\n",
        "\n",
        "\n",
        "def calculate_recall(conf_mat):\n",
        "    return (conf_mat[2][2]) / (conf_mat[2][2] + conf_mat[0][2])\n",
        "\n",
        "\n",
        "def calculate_f_score(algo_precision, algo_recall):\n",
        "    return (2*(algo_precision * algo_recall)) / (algo_precision + algo_recall)"
      ],
      "metadata": {
        "id": "oHsMStjWOVak",
        "execution": {
          "iopub.status.busy": "2023-06-05T12:29:55.309185Z",
          "iopub.execute_input": "2023-06-05T12:29:55.309631Z",
          "iopub.status.idle": "2023-06-05T12:29:55.318115Z",
          "shell.execute_reply.started": "2023-06-05T12:29:55.309592Z",
          "shell.execute_reply": "2023-06-05T12:29:55.316743Z"
        },
        "trusted": true
      },
      "execution_count": 27,
      "outputs": []
    },
    {
      "cell_type": "markdown",
      "source": [
        "## Pre-Processing Data"
      ],
      "metadata": {
        "id": "ONmwM1tuOVal"
      }
    },
    {
      "cell_type": "markdown",
      "source": [
        ">Checking Number of Samples"
      ],
      "metadata": {
        "id": "KCDJIGLSOVam"
      }
    },
    {
      "cell_type": "code",
      "source": [
        "X_train = strat_train[\"Text\"]\n",
        "X_train_targetSentiment = strat_train[\"Sentiment\"]\n",
        "X_test = strat_test[\"Text\"]\n",
        "X_test_targetSentiment = strat_test[\"Sentiment\"]\n",
        "print(f\"Number of Training Samples: {len(X_train)}\")\n",
        "print(f\"Number of Test Data Samples: {len(X_test)}\")"
      ],
      "metadata": {
        "id": "5Hd9hgaEOVam",
        "outputId": "3d84a671-6c04-4da3-9bba-adfa0d4e7f33",
        "execution": {
          "iopub.status.busy": "2023-06-05T12:29:55.320196Z",
          "iopub.execute_input": "2023-06-05T12:29:55.320681Z",
          "iopub.status.idle": "2023-06-05T12:29:55.333775Z",
          "shell.execute_reply.started": "2023-06-05T12:29:55.320643Z",
          "shell.execute_reply": "2023-06-05T12:29:55.332403Z"
        },
        "trusted": true,
        "colab": {
          "base_uri": "https://localhost:8080/"
        }
      },
      "execution_count": 28,
      "outputs": [
        {
          "output_type": "stream",
          "name": "stdout",
          "text": [
            "Number of Training Samples: 454763\n",
            "Number of Test Data Samples: 113691\n"
          ]
        }
      ]
    },
    {
      "cell_type": "markdown",
      "source": [
        "> 1 - Filling NA's with EMPTY STRING <br> 2 - Transforming data to Count Vectors - The CountVectorizer provides a simple way to both tokenize a collection of text documents and build a vocabulary of known words <br> 3 - Getting Number of  Samples and the Distinct Words"
      ],
      "metadata": {
        "id": "-MsAtdaGOVan"
      }
    },
    {
      "cell_type": "code",
      "source": [
        "X_train = X_train.fillna(' ')\n",
        "X_test = X_test.fillna(' ')\n",
        "X_train_targetSentiment = X_train_targetSentiment.fillna(' ')\n",
        "X_test_targetSentiment = X_test_targetSentiment.fillna(' ')\n",
        "\n",
        "count_vect = CountVectorizer()\n",
        "X_train_counts = count_vect.fit_transform(X_train)\n",
        "X_train_counts.shape\n",
        "print(f\"Number of Training Samples: {X_train_counts.shape[0]}\")\n",
        "print(f\"Number of Distinct Words: {X_train_counts.shape[1]}\")"
      ],
      "metadata": {
        "id": "It7fVbjKOVao",
        "outputId": "225f65af-cf17-4634-ac5e-2f4602b58c6c",
        "execution": {
          "iopub.status.busy": "2023-06-05T12:29:55.335130Z",
          "iopub.execute_input": "2023-06-05T12:29:55.335506Z",
          "iopub.status.idle": "2023-06-05T12:30:40.765029Z",
          "shell.execute_reply.started": "2023-06-05T12:29:55.335475Z",
          "shell.execute_reply": "2023-06-05T12:30:40.763682Z"
        },
        "trusted": true,
        "colab": {
          "base_uri": "https://localhost:8080/"
        }
      },
      "execution_count": 29,
      "outputs": [
        {
          "output_type": "stream",
          "name": "stdout",
          "text": [
            "Number of Training Samples: 454763\n",
            "Number of Distinct Words: 109409\n"
          ]
        }
      ]
    },
    {
      "cell_type": "markdown",
      "source": [
        "### DF-IDF Transformation"
      ],
      "metadata": {
        "id": "dtxcc81qOVap"
      }
    },
    {
      "cell_type": "markdown",
      "source": [
        ">1 - Stop Word Removal <br> 2 - PoS tagging <br> 3 - We have already tokenize data using CountVectorizer. By using Stop word removal, POS tagging etc. we may not analyse the data correctly because some of the important words that distinguish the class of data get removed. That's why we are using TF-IDF transformation that will automatically assign less weight to unimportant words and the important words or the class distinguishers won't get removed.  Moreover, visit https://www.freecodecamp.org/news/how-to-process-textual-data-using-tf-idf-in-python-cd2bbc0a94a3/ for detailed explanation"
      ],
      "metadata": {
        "id": "7FuCbtnSOVap"
      }
    },
    {
      "cell_type": "code",
      "source": [
        "tfidf_transformer = TfidfTransformer(use_idf=False)\n",
        "X_train_tfidf = tfidf_transformer.fit_transform(X_train_counts)\n",
        "X_train_tfidf.shape\n",
        "print(f\"Number of Training Samples: {X_train_tfidf.shape[0]}\")\n",
        "print(f\"Number of Distinct Words: {X_train_tfidf.shape[1]}\")"
      ],
      "metadata": {
        "id": "-j06P68POVaq",
        "outputId": "673ec775-cf0a-4905-bd1c-2d2b870b9730",
        "execution": {
          "iopub.status.busy": "2023-06-05T12:30:40.773928Z",
          "iopub.execute_input": "2023-06-05T12:30:40.774854Z",
          "iopub.status.idle": "2023-06-05T12:30:42.223452Z",
          "shell.execute_reply.started": "2023-06-05T12:30:40.774788Z",
          "shell.execute_reply": "2023-06-05T12:30:42.222146Z"
        },
        "trusted": true,
        "colab": {
          "base_uri": "https://localhost:8080/"
        }
      },
      "execution_count": 30,
      "outputs": [
        {
          "output_type": "stream",
          "name": "stdout",
          "text": [
            "Number of Training Samples: 454763\n",
            "Number of Distinct Words: 109409\n"
          ]
        }
      ]
    },
    {
      "cell_type": "markdown",
      "source": [
        "# Applying Classification Algorithms"
      ],
      "metadata": {
        "id": "2zNyIRjWOVar"
      }
    },
    {
      "cell_type": "markdown",
      "source": [
        "## Multinominal Naive Bayes"
      ],
      "metadata": {
        "id": "ck6iTxVxOVar"
      }
    },
    {
      "cell_type": "markdown",
      "source": [
        ">It calculates the probability of an occurence based on the training / prior data. It is based on Bayes theorem. For more details visit https://scikit-learn.org/stable/modules/generated/sklearn.naive_bayes.MultinomialNB.html"
      ],
      "metadata": {
        "id": "tvYdC1_oOVas"
      }
    },
    {
      "cell_type": "code",
      "source": [
        "# Multinominal Niave Bayes\n",
        "clf_multiNB_pipe = Pipeline([(\"vect\", CountVectorizer()), (\"tfidf\", TfidfTransformer()), (\"clf_nominalNB\", MultinomialNB())])\n",
        "clf_multiNB_pipe.fit(X_train, X_train_targetSentiment)\n",
        "\n",
        "predictedMultiNB = clf_multiNB_pipe.predict(X_test)\n",
        "np.mean(predictedMultiNB == X_test_targetSentiment)"
      ],
      "metadata": {
        "id": "L-MxwtJpOVas",
        "outputId": "f5ca473e-228e-495c-8373-bfad10569b29",
        "execution": {
          "iopub.status.busy": "2023-06-05T12:30:42.225709Z",
          "iopub.execute_input": "2023-06-05T12:30:42.226226Z",
          "iopub.status.idle": "2023-06-05T12:31:46.828117Z",
          "shell.execute_reply.started": "2023-06-05T12:30:42.226177Z",
          "shell.execute_reply": "2023-06-05T12:31:46.827142Z"
        },
        "trusted": true,
        "colab": {
          "base_uri": "https://localhost:8080/"
        }
      },
      "execution_count": 31,
      "outputs": [
        {
          "output_type": "execute_result",
          "data": {
            "text/plain": [
              "0.7982162176425575"
            ]
          },
          "metadata": {},
          "execution_count": 31
        }
      ]
    },
    {
      "cell_type": "markdown",
      "source": [
        ">Classification Report and Accuracy Score"
      ],
      "metadata": {
        "id": "BsaiXFmdOVau"
      }
    },
    {
      "cell_type": "code",
      "source": [
        "# classification_report and accuracy_score\n",
        "print(\"Classification Report\")\n",
        "print(f\"{classification_report(X_test_targetSentiment, predictedMultiNB)}\")\n",
        "print(f\"Accuracy: {accuracy_score(X_test_targetSentiment, predictedMultiNB)}\")"
      ],
      "metadata": {
        "id": "OR8NEOJIOVav",
        "outputId": "5cda19f7-db9c-4d4d-c2f5-2ca61375ed0a",
        "execution": {
          "iopub.status.busy": "2023-06-05T12:31:46.829754Z",
          "iopub.execute_input": "2023-06-05T12:31:46.830456Z",
          "iopub.status.idle": "2023-06-05T12:31:51.305677Z",
          "shell.execute_reply.started": "2023-06-05T12:31:46.830406Z",
          "shell.execute_reply": "2023-06-05T12:31:51.304027Z"
        },
        "trusted": true,
        "colab": {
          "base_uri": "https://localhost:8080/"
        }
      },
      "execution_count": 32,
      "outputs": [
        {
          "output_type": "stream",
          "name": "stdout",
          "text": [
            "Classification Report\n",
            "              precision    recall  f1-score   support\n",
            "\n",
            "    Negative       0.92      0.13      0.23     16408\n",
            "     Neutral       0.12      0.00      0.00      8528\n",
            "    Positive       0.80      1.00      0.89     88755\n",
            "\n",
            "    accuracy                           0.80    113691\n",
            "   macro avg       0.61      0.38      0.37    113691\n",
            "weighted avg       0.76      0.80      0.72    113691\n",
            "\n",
            "Accuracy: 0.7982162176425575\n"
          ]
        }
      ]
    },
    {
      "cell_type": "markdown",
      "source": [
        ">Confusion Matrix (Rows | Columns : Negative, Neutral, Positive)"
      ],
      "metadata": {
        "id": "Di21PGivOVav"
      }
    },
    {
      "cell_type": "code",
      "source": [
        "conf_arr_mnb = metrics.confusion_matrix(X_test_targetSentiment, predictedMultiNB)\n",
        "conf_arr_mnb"
      ],
      "metadata": {
        "id": "zpkC0GiFOVaw",
        "outputId": "7d21085d-75ae-4a6d-b86d-a636160cda71",
        "execution": {
          "iopub.status.busy": "2023-06-05T12:31:51.307138Z",
          "iopub.execute_input": "2023-06-05T12:31:51.307761Z",
          "iopub.status.idle": "2023-06-05T12:31:51.887674Z",
          "shell.execute_reply.started": "2023-06-05T12:31:51.307719Z",
          "shell.execute_reply": "2023-06-05T12:31:51.886336Z"
        },
        "trusted": true,
        "colab": {
          "base_uri": "https://localhost:8080/"
        }
      },
      "execution_count": 33,
      "outputs": [
        {
          "output_type": "execute_result",
          "data": {
            "text/plain": [
              "array([[ 2106,     2, 14300],\n",
              "       [   98,     4,  8426],\n",
              "       [   87,    28, 88640]])"
            ]
          },
          "metadata": {},
          "execution_count": 33
        }
      ]
    },
    {
      "cell_type": "markdown",
      "source": [
        "> Calculating metrics for algorithm as a whole <br> 1 - Precision <br> 2 - Recall <br> 3 - F1-Score "
      ],
      "metadata": {
        "id": "VOlQ-mm_OVax"
      }
    },
    {
      "cell_type": "code",
      "source": [
        "total_precision = calculate_precision(conf_arr_mnb)\n",
        "total_recall = calculate_recall(conf_arr_mnb)\n",
        "total_f_score = calculate_f_score(total_precision, total_recall)\n",
        "\n",
        "print(\"Precision of the Algorithm : \", total_precision)\n",
        "print(\"Recall  of the   Algorithm : \", total_recall)\n",
        "print(\"F-Score  of the  Algorithm : \", total_f_score)"
      ],
      "metadata": {
        "id": "O_pRueZ7OVay",
        "outputId": "2fa07c6f-3986-4880-8686-b96f9bd2bd54",
        "execution": {
          "iopub.status.busy": "2023-06-05T12:31:51.889306Z",
          "iopub.execute_input": "2023-06-05T12:31:51.889850Z",
          "iopub.status.idle": "2023-06-05T12:31:51.897777Z",
          "shell.execute_reply.started": "2023-06-05T12:31:51.889801Z",
          "shell.execute_reply": "2023-06-05T12:31:51.896249Z"
        },
        "trusted": true,
        "colab": {
          "base_uri": "https://localhost:8080/"
        }
      },
      "execution_count": 34,
      "outputs": [
        {
          "output_type": "stream",
          "name": "stdout",
          "text": [
            "Precision of the Algorithm :  0.9990194641991728\n",
            "Recall  of the   Algorithm :  0.8610841266757334\n",
            "F-Score  of the  Algorithm :  0.9249375218477881\n"
          ]
        }
      ]
    },
    {
      "cell_type": "markdown",
      "source": [
        "## Logistic Regression Classifier"
      ],
      "metadata": {
        "id": "Uan5KQ_uOVa0"
      }
    },
    {
      "cell_type": "markdown",
      "source": [
        ">It computes the probability of an event occurrence. It classify the text according its probability. for more details visit https://www.datacamp.com/community/tutorials/understanding-logistic-regression-python"
      ],
      "metadata": {
        "id": "YMXUjnWdOVa1"
      }
    },
    {
      "cell_type": "code",
      "source": [
        "# Logistic Regression Classifier\n",
        "clf_logReg_pipe = Pipeline([(\"vect\", CountVectorizer()), (\"tfidf\", TfidfTransformer()), (\"clf_logReg\", LogisticRegression())])\n",
        "clf_logReg_pipe.fit(X_train, X_train_targetSentiment)\n",
        "\n",
        "predictedLogReg = clf_logReg_pipe.predict(X_test)\n",
        "np.mean(predictedLogReg == X_test_targetSentiment)"
      ],
      "metadata": {
        "id": "6hINO1OXOVa6",
        "outputId": "73f87613-1c84-48f7-cd40-d5d17aa4c914",
        "execution": {
          "iopub.status.busy": "2023-06-05T12:31:51.899917Z",
          "iopub.execute_input": "2023-06-05T12:31:51.900521Z",
          "iopub.status.idle": "2023-06-05T12:34:15.993721Z",
          "shell.execute_reply.started": "2023-06-05T12:31:51.900472Z",
          "shell.execute_reply": "2023-06-05T12:34:15.992439Z"
        },
        "trusted": true,
        "colab": {
          "base_uri": "https://localhost:8080/"
        }
      },
      "execution_count": 35,
      "outputs": [
        {
          "output_type": "execute_result",
          "data": {
            "text/plain": [
              "0.8794451627657422"
            ]
          },
          "metadata": {},
          "execution_count": 35
        }
      ]
    },
    {
      "cell_type": "markdown",
      "source": [
        ">Classification Report and Accuracy Score"
      ],
      "metadata": {
        "id": "hfHTjUBqOVa7"
      }
    },
    {
      "cell_type": "code",
      "source": [
        "# classification_report and accuracy_score\n",
        "print(\"Classification Report\")\n",
        "print(f\"{classification_report(X_test_targetSentiment, predictedLogReg)}\")\n",
        "print(f\"Accuracy: {accuracy_score(X_test_targetSentiment, predictedLogReg)}\")"
      ],
      "metadata": {
        "id": "d-iFlB1MOVa8",
        "outputId": "a3113d7e-e8cc-4c3b-d19c-2a35f7e53ab7",
        "execution": {
          "iopub.status.busy": "2023-06-05T12:34:15.995252Z",
          "iopub.execute_input": "2023-06-05T12:34:15.995676Z",
          "iopub.status.idle": "2023-06-05T12:34:22.982463Z",
          "shell.execute_reply.started": "2023-06-05T12:34:15.995640Z",
          "shell.execute_reply": "2023-06-05T12:34:22.980781Z"
        },
        "trusted": true,
        "colab": {
          "base_uri": "https://localhost:8080/"
        }
      },
      "execution_count": 36,
      "outputs": [
        {
          "output_type": "stream",
          "name": "stdout",
          "text": [
            "Classification Report\n",
            "              precision    recall  f1-score   support\n",
            "\n",
            "    Negative       0.77      0.71      0.74     16408\n",
            "     Neutral       0.56      0.27      0.36      8528\n",
            "    Positive       0.91      0.97      0.94     88755\n",
            "\n",
            "    accuracy                           0.88    113691\n",
            "   macro avg       0.75      0.65      0.68    113691\n",
            "weighted avg       0.86      0.88      0.87    113691\n",
            "\n",
            "Accuracy: 0.8794451627657422\n"
          ]
        }
      ]
    },
    {
      "cell_type": "markdown",
      "source": [
        ">Confusion Matrix (Rows | Columns : Negative, Neutral, Positive)"
      ],
      "metadata": {
        "id": "IIPbwPT1OVa-"
      }
    },
    {
      "cell_type": "code",
      "source": [
        "conf_arr_lrg = metrics.confusion_matrix(X_test_targetSentiment, predictedLogReg)\n",
        "conf_arr_lrg"
      ],
      "metadata": {
        "id": "Kfh22UkROVa-",
        "outputId": "1a393638-98de-4f68-b5bc-08defc851fbd",
        "execution": {
          "iopub.status.busy": "2023-06-05T12:34:22.984413Z",
          "iopub.execute_input": "2023-06-05T12:34:22.984848Z",
          "iopub.status.idle": "2023-06-05T12:34:23.812799Z",
          "shell.execute_reply.started": "2023-06-05T12:34:22.984810Z",
          "shell.execute_reply": "2023-06-05T12:34:23.811207Z"
        },
        "trusted": true,
        "colab": {
          "base_uri": "https://localhost:8080/"
        }
      },
      "execution_count": 37,
      "outputs": [
        {
          "output_type": "execute_result",
          "data": {
            "text/plain": [
              "array([[11705,   777,  3926],\n",
              "       [ 1737,  2260,  4531],\n",
              "       [ 1754,   981, 86020]])"
            ]
          },
          "metadata": {},
          "execution_count": 37
        }
      ]
    },
    {
      "cell_type": "markdown",
      "source": [
        "> Calculating metrics for algorithm as a whole <br> 1 - Precision <br> 2 - Recall <br> 3 - F1-Score "
      ],
      "metadata": {
        "id": "AulfFShDOVa_"
      }
    },
    {
      "cell_type": "code",
      "source": [
        "total_precision = calculate_precision(conf_arr_lrg)\n",
        "total_recall = calculate_recall(conf_arr_lrg)\n",
        "total_f_score = calculate_f_score(total_precision, total_recall)\n",
        "\n",
        "print(\"Precision of the Algorithm : \", total_precision)\n",
        "print(\"Recall  of the   Algorithm : \", total_recall)\n",
        "print(\"F-Score  of the  Algorithm : \", total_f_score)"
      ],
      "metadata": {
        "id": "qo30CBxEOVbB",
        "outputId": "57baf949-2e73-4f26-f5c3-fe712577d437",
        "execution": {
          "iopub.status.busy": "2023-06-05T12:34:23.814446Z",
          "iopub.execute_input": "2023-06-05T12:34:23.814887Z",
          "iopub.status.idle": "2023-06-05T12:34:23.823136Z",
          "shell.execute_reply.started": "2023-06-05T12:34:23.814848Z",
          "shell.execute_reply": "2023-06-05T12:34:23.821821Z"
        },
        "trusted": true,
        "colab": {
          "base_uri": "https://localhost:8080/"
        }
      },
      "execution_count": 38,
      "outputs": [
        {
          "output_type": "stream",
          "name": "stdout",
          "text": [
            "Precision of the Algorithm :  0.9800168614851779\n",
            "Recall  of the   Algorithm :  0.9563515887310163\n",
            "F-Score  of the  Algorithm :  0.968039612874184\n"
          ]
        }
      ]
    },
    {
      "cell_type": "markdown",
      "source": [
        "## Support Vector Machine Classifier"
      ],
      "metadata": {
        "id": "yrFsofWVOVbC"
      }
    },
    {
      "cell_type": "markdown",
      "source": [
        ">The classifier separates data points using a hyperplane with the largest amount of margin. SVM finds an optimal hyperplane which helps in classifying new data points. For more details, visit https://www.datacamp.com/community/tutorials/svm-classification-scikit-learn-python"
      ],
      "metadata": {
        "id": "Mb3GcTV7OVbC"
      }
    },
    {
      "cell_type": "code",
      "source": [
        "# Support Vector Machine Classifier\n",
        "clf_linearSVC_pipe = Pipeline([(\"vect\", CountVectorizer()), (\"tfidf\", TfidfTransformer()), (\"clf_linearSVC\", LinearSVC())])\n",
        "clf_linearSVC_pipe.fit(X_train, X_train_targetSentiment)\n",
        "\n",
        "predictedLinearSVC = clf_linearSVC_pipe.predict(X_test)\n",
        "np.mean(predictedLinearSVC == X_test_targetSentiment)"
      ],
      "metadata": {
        "id": "ZhNpy4x2OVbD",
        "outputId": "2175f820-fef2-422f-b604-f849a37181a0",
        "execution": {
          "iopub.status.busy": "2023-06-05T12:34:23.824682Z",
          "iopub.execute_input": "2023-06-05T12:34:23.825101Z",
          "iopub.status.idle": "2023-06-05T12:36:02.180605Z",
          "shell.execute_reply.started": "2023-06-05T12:34:23.825062Z",
          "shell.execute_reply": "2023-06-05T12:36:02.178953Z"
        },
        "trusted": true,
        "colab": {
          "base_uri": "https://localhost:8080/"
        }
      },
      "execution_count": 39,
      "outputs": [
        {
          "output_type": "execute_result",
          "data": {
            "text/plain": [
              "0.8886895180797073"
            ]
          },
          "metadata": {},
          "execution_count": 39
        }
      ]
    },
    {
      "cell_type": "markdown",
      "source": [
        ">Classification Report and Accuracy Score"
      ],
      "metadata": {
        "id": "wIbIY7CuOVbE"
      }
    },
    {
      "cell_type": "code",
      "source": [
        "# classification_report and accuracy_score\n",
        "print(\"Classification Report\")\n",
        "print(f\"{classification_report(X_test_targetSentiment, predictedLinearSVC)}\")\n",
        "print(f\"Accuracy: {accuracy_score(X_test_targetSentiment, predictedLinearSVC)}\")"
      ],
      "metadata": {
        "id": "aKRddwxqOVbE",
        "outputId": "fca9df3c-4d81-49ab-dae6-eb159855f0a5",
        "execution": {
          "iopub.status.busy": "2023-06-05T12:36:02.183075Z",
          "iopub.execute_input": "2023-06-05T12:36:02.183655Z",
          "iopub.status.idle": "2023-06-05T12:36:09.178982Z",
          "shell.execute_reply.started": "2023-06-05T12:36:02.183604Z",
          "shell.execute_reply": "2023-06-05T12:36:09.177408Z"
        },
        "trusted": true,
        "colab": {
          "base_uri": "https://localhost:8080/"
        }
      },
      "execution_count": 40,
      "outputs": [
        {
          "output_type": "stream",
          "name": "stdout",
          "text": [
            "Classification Report\n",
            "              precision    recall  f1-score   support\n",
            "\n",
            "    Negative       0.78      0.75      0.76     16408\n",
            "     Neutral       0.66      0.28      0.40      8528\n",
            "    Positive       0.92      0.97      0.94     88755\n",
            "\n",
            "    accuracy                           0.89    113691\n",
            "   macro avg       0.79      0.67      0.70    113691\n",
            "weighted avg       0.88      0.89      0.88    113691\n",
            "\n",
            "Accuracy: 0.8886895180797073\n"
          ]
        }
      ]
    },
    {
      "cell_type": "markdown",
      "source": [
        ">Confusion Matrix (Rows | Columns : Negative, Neutral, Positive)"
      ],
      "metadata": {
        "id": "Pv_txV8qOVbF"
      }
    },
    {
      "cell_type": "code",
      "source": [
        "conf_arr_svm = metrics.confusion_matrix(X_test_targetSentiment, predictedLinearSVC)\n",
        "conf_arr_svm"
      ],
      "metadata": {
        "id": "9qNkJrgYOVbH",
        "outputId": "206ace1a-904e-4ab1-c22f-f1047086fbe4",
        "execution": {
          "iopub.status.busy": "2023-06-05T12:36:09.181294Z",
          "iopub.execute_input": "2023-06-05T12:36:09.181864Z",
          "iopub.status.idle": "2023-06-05T12:36:10.005477Z",
          "shell.execute_reply.started": "2023-06-05T12:36:09.181813Z",
          "shell.execute_reply": "2023-06-05T12:36:10.004024Z"
        },
        "trusted": true,
        "colab": {
          "base_uri": "https://localhost:8080/"
        }
      },
      "execution_count": 41,
      "outputs": [
        {
          "output_type": "execute_result",
          "data": {
            "text/plain": [
              "array([[12269,   544,  3595],\n",
              "       [ 1764,  2422,  4342],\n",
              "       [ 1707,   703, 86345]])"
            ]
          },
          "metadata": {},
          "execution_count": 41
        }
      ]
    },
    {
      "cell_type": "markdown",
      "source": [
        "> Calculating metrics for algorithm as a whole <br> 1 - Precision <br> 2 - Recall <br> 3 - F1-Score "
      ],
      "metadata": {
        "id": "n4EN_HM8OVbI"
      }
    },
    {
      "cell_type": "code",
      "source": [
        "total_precision = calculate_precision(conf_arr_svm)\n",
        "total_recall = calculate_recall(conf_arr_svm)\n",
        "total_f_score = calculate_f_score(total_precision, total_recall)\n",
        "\n",
        "print(\"Precision of the Algorithm : \", total_precision)\n",
        "print(\"Recall  of the   Algorithm : \", total_recall)\n",
        "print(\"F-Score  of the  Algorithm : \", total_f_score)"
      ],
      "metadata": {
        "id": "PAidpDI4OVbJ",
        "outputId": "8f03bfa6-818f-4748-e6f5-5c4534c79375",
        "execution": {
          "iopub.status.busy": "2023-06-05T12:36:10.007133Z",
          "iopub.execute_input": "2023-06-05T12:36:10.008154Z",
          "iopub.status.idle": "2023-06-05T12:36:10.016451Z",
          "shell.execute_reply.started": "2023-06-05T12:36:10.008080Z",
          "shell.execute_reply": "2023-06-05T12:36:10.015529Z"
        },
        "trusted": true,
        "colab": {
          "base_uri": "https://localhost:8080/"
        }
      },
      "execution_count": 42,
      "outputs": [
        {
          "output_type": "stream",
          "name": "stdout",
          "text": [
            "Precision of the Algorithm :  0.9806137282514877\n",
            "Recall  of the   Algorithm :  0.9600289081609962\n",
            "F-Score  of the  Algorithm :  0.9702121443660389\n"
          ]
        }
      ]
    },
    {
      "cell_type": "markdown",
      "source": [
        "## Decision Tree Classifier"
      ],
      "metadata": {
        "id": "jc5inOdXOVbK"
      }
    },
    {
      "cell_type": "markdown",
      "source": [
        ">A decision tree is a flowchart-like tree structure where an internal node represents feature, the branch represents a decision rule, and each leaf node represents the outcome. For more details visit https://www.datacamp.com/community/tutorials/decision-tree-classification-python"
      ],
      "metadata": {
        "id": "itIV6K3bOVbK"
      }
    },
    {
      "cell_type": "code",
      "source": [
        "# Decision Tree Classifier\n",
        "clf_decisionTree_pipe = Pipeline([(\"vect\", CountVectorizer()), (\"tfidf\", TfidfTransformer()), \n",
        "                                  (\"clf_decisionTree\", DecisionTreeClassifier())])\n",
        "clf_decisionTree_pipe.fit(X_train, X_train_targetSentiment)\n",
        "\n",
        "predictedDecisionTree = clf_decisionTree_pipe.predict(X_test)\n",
        "np.mean(predictedDecisionTree == X_test_targetSentiment)"
      ],
      "metadata": {
        "id": "Qxpb24JxOVbL",
        "trusted": true
      },
      "execution_count": null,
      "outputs": []
    },
    {
      "cell_type": "markdown",
      "source": [
        ">Classification Report and Accuracy Score"
      ],
      "metadata": {
        "id": "ER7q-C6rOVbM"
      }
    },
    {
      "cell_type": "code",
      "source": [
        "# classification_report and accuracy_score\n",
        "print(\"Classification Report\")\n",
        "print(f\"{classification_report(X_test_targetSentiment, predictedDecisionTree)}\")\n",
        "print(f\"Accuracy: {accuracy_score(X_test_targetSentiment, predictedDecisionTree)}\")"
      ],
      "metadata": {
        "id": "lOTkTN3IOVbO",
        "trusted": true
      },
      "execution_count": null,
      "outputs": []
    },
    {
      "cell_type": "markdown",
      "source": [
        ">Confusion Matrix (Rows | Columns : Negative, Neutral, Positive)"
      ],
      "metadata": {
        "id": "kPWCmovCOVbQ"
      }
    },
    {
      "cell_type": "code",
      "source": [
        "conf_arr_dct = metrics.confusion_matrix(X_test_targetSentiment, predictedDecisionTree)\n",
        "conf_arr_dct"
      ],
      "metadata": {
        "id": "y528nJTfOVbR",
        "trusted": true
      },
      "execution_count": null,
      "outputs": []
    },
    {
      "cell_type": "markdown",
      "source": [
        "> Calculating metrics for algorithm as a whole <br> 1 - Precision <br> 2 - Recall <br> 3 - F1-Score "
      ],
      "metadata": {
        "id": "rla70IZ_OVbT"
      }
    },
    {
      "cell_type": "code",
      "source": [
        "total_precision = calculate_precision(conf_arr_dct)\n",
        "total_recall = calculate_recall(conf_arr_dct)\n",
        "total_f_score = calculate_f_score(total_precision, total_recall)\n",
        "\n",
        "print(\"Precision of the Algorithm : \", total_precision)\n",
        "print(\"Recall  of the   Algorithm : \", total_recall)\n",
        "print(\"F-Score  of the  Algorithm : \", total_f_score)"
      ],
      "metadata": {
        "id": "YbPbqJSPOVbU",
        "trusted": true
      },
      "execution_count": null,
      "outputs": []
    },
    {
      "cell_type": "markdown",
      "source": [
        "## Random Forest Classifier"
      ],
      "metadata": {
        "id": "wWnOFtpiOVbV"
      }
    },
    {
      "cell_type": "markdown",
      "source": [
        ">Random forests creates decision trees on randomly selected data samples, gets prediction from each tree and selects the best solution by means of voting. For more details visit https://www.datacamp.com/community/tutorials/random-forests-classifier-python"
      ],
      "metadata": {
        "id": "PFfpzlDQOVbW"
      }
    },
    {
      "cell_type": "code",
      "source": [
        "# Random Forest Classifier\n",
        "clf_randomForest_pipe = Pipeline([(\"vect\", CountVectorizer()), (\"tfidf\", TfidfTransformer()), (\"clf_randomForest\", RandomForestClassifier())])\n",
        "clf_randomForest_pipe.fit(X_train, X_train_targetSentiment)\n",
        "\n",
        "predictedRandomForest = clf_randomForest_pipe.predict(X_test)\n",
        "np.mean(predictedRandomForest == X_test_targetSentiment)"
      ],
      "metadata": {
        "id": "8NdnS0mdOVbW",
        "trusted": true
      },
      "execution_count": null,
      "outputs": []
    },
    {
      "cell_type": "markdown",
      "source": [
        ">Classification Report and Accuracy Score"
      ],
      "metadata": {
        "id": "oefUClroOVbX"
      }
    },
    {
      "cell_type": "code",
      "source": [
        "# classification_report and accuracy_score\n",
        "print(\"Classification Report\")\n",
        "print(f\"{classification_report(X_test_targetSentiment, predictedRandomForest)}\")\n",
        "print(f\"Accuracy: {accuracy_score(X_test_targetSentiment, predictedRandomForest)}\")"
      ],
      "metadata": {
        "id": "JEBtxkH8OVbX",
        "trusted": true
      },
      "execution_count": null,
      "outputs": []
    },
    {
      "cell_type": "markdown",
      "source": [
        ">Confusion Matrix (Rows | Columns : Negative, Neutral, Positive)"
      ],
      "metadata": {
        "id": "whnTiXXuOVbY"
      }
    },
    {
      "cell_type": "code",
      "source": [
        "conf_arr_rfc = metrics.confusion_matrix(X_test_targetSentiment, predictedRandomForest)\n",
        "conf_arr_rfc"
      ],
      "metadata": {
        "id": "yCF3WmaQOVbY",
        "trusted": true
      },
      "execution_count": null,
      "outputs": []
    },
    {
      "cell_type": "markdown",
      "source": [
        "> Calculating metrics for algorithm as a whole <br> 1 - Precision <br> 2 - Recall <br> 3 - F1-Score "
      ],
      "metadata": {
        "id": "Tz_8EvqgOVbZ"
      }
    },
    {
      "cell_type": "code",
      "source": [
        "total_precision = calculate_precision(conf_arr_rfc)\n",
        "total_recall = calculate_recall(conf_arr_rfc)\n",
        "total_f_score = calculate_f_score(total_precision, total_recall)\n",
        "\n",
        "print(\"Precision of the Algorithm : \", total_precision)\n",
        "print(\"Recall  of the   Algorithm : \", total_recall)\n",
        "print(\"F-Score  of the  Algorithm : \", total_f_score)"
      ],
      "metadata": {
        "id": "CzU1Zn2EOVbZ",
        "trusted": true
      },
      "execution_count": null,
      "outputs": []
    },
    {
      "cell_type": "markdown",
      "source": [
        "## Grid Search CV Real-time Prediction"
      ],
      "metadata": {
        "id": "ZMsle7MhOVba"
      }
    },
    {
      "cell_type": "code",
      "source": [
        "# Grid Search CV\n",
        "parameters = {'vect__ngram_range': [(1, 1), (1, 2)],    \n",
        "             'tfidf__use_idf': (True, False), \n",
        "             } \n",
        "gs_clf_LinearSVC_pipe = GridSearchCV(clf_linearSVC_pipe, parameters, n_jobs=-1)\n",
        "gs_clf_LinearSVC_pipe = gs_clf_LinearSVC_pipe.fit(X_train, X_train_targetSentiment)\n",
        "new_text = [\"The headphones are really good, I will buy some more products online from amazon.\", \n",
        "            \"The phone is ok, but it works fine.\", \n",
        "            \"The handfree is not good, does not work very well.\", \"The iphone is not good\", \"This TV is so good and is on cheap price.\"] \n",
        "\n",
        "gs_clf_LinearSVC_pipe.predict(new_text)"
      ],
      "metadata": {
        "id": "--3PIk7XOVbb",
        "trusted": true
      },
      "execution_count": null,
      "outputs": []
    },
    {
      "cell_type": "code",
      "source": [
        "predictedGS_clf_LinearSVC_pipe = gs_clf_LinearSVC_pipe.predict(X_test)\n",
        "np.mean(predictedGS_clf_LinearSVC_pipe == X_test_targetSentiment)"
      ],
      "metadata": {
        "id": "24f-qnqaOVbb",
        "trusted": true
      },
      "execution_count": null,
      "outputs": []
    },
    {
      "cell_type": "code",
      "source": [
        "for performance_analysis in (gs_clf_LinearSVC_pipe.best_score_, \n",
        "                             gs_clf_LinearSVC_pipe.best_estimator_, \n",
        "                             gs_clf_LinearSVC_pipe.best_params_):\n",
        "        print(performance_analysis)"
      ],
      "metadata": {
        "id": "m0il-3ejOVbc",
        "trusted": true
      },
      "execution_count": null,
      "outputs": []
    },
    {
      "cell_type": "markdown",
      "source": [
        ">Classification Report and Accuracy Score"
      ],
      "metadata": {
        "id": "TC0F8X4qOVbv"
      }
    },
    {
      "cell_type": "code",
      "source": [
        "# classification_report and accuracy_score\n",
        "print(\"Classification Report\")\n",
        "print(f\"{classification_report(X_test_targetSentiment, predictedGS_clf_LinearSVC_pipe)}\")\n",
        "print(f\"Accuracy: {accuracy_score(X_test_targetSentiment, predictedGS_clf_LinearSVC_pipe)}\")"
      ],
      "metadata": {
        "id": "ATOgEe5cOVbw",
        "trusted": true
      },
      "execution_count": null,
      "outputs": []
    },
    {
      "cell_type": "markdown",
      "source": [
        ">Confusion Matrix (Rows | Columns : Negative, Neutral, Positive)"
      ],
      "metadata": {
        "id": "rXCDbvOXOVbw"
      }
    },
    {
      "cell_type": "code",
      "source": [
        "conf_arr_gs = metrics.confusion_matrix(X_test_targetSentiment, predictedGS_clf_LinearSVC_pipe)\n",
        "conf_arr_gs"
      ],
      "metadata": {
        "id": "dXPI4nd5OVbx",
        "trusted": true
      },
      "execution_count": null,
      "outputs": []
    },
    {
      "cell_type": "markdown",
      "source": [
        "> Calculating metrics for algorithm as a whole <br> 1 - Precision <br> 2 - Recall <br> 3 - F1-Score "
      ],
      "metadata": {
        "id": "KkHvQrWjOVby"
      }
    },
    {
      "cell_type": "code",
      "source": [
        "total_precision = calculate_precision(conf_arr_gs)\n",
        "total_recall = calculate_recall(conf_arr_gs)\n",
        "total_f_score = calculate_f_score(total_precision, total_recall)\n",
        "\n",
        "print(\"Precision of the Algorithm : \", total_precision)\n",
        "print(\"Recall  of the   Algorithm : \", total_recall)\n",
        "print(\"F-Score  of the  Algorithm : \", total_f_score)"
      ],
      "metadata": {
        "id": "AD_PbqJJOVby",
        "trusted": true
      },
      "execution_count": null,
      "outputs": []
    }
  ]
}